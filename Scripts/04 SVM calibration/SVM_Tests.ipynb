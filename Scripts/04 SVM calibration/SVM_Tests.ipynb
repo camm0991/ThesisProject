{
 "cells": [
  {
   "cell_type": "code",
   "execution_count": 1,
   "metadata": {
    "collapsed": true
   },
   "outputs": [],
   "source": [
    "from pandas import read_csv\n",
    "\n",
    "from itertools import combinations\n",
    "from time import time\n",
    "from sklearn.svm import SVC\n",
    "import re\n",
    "from sklearn.cross_validation import train_test_split\n",
    "from sklearn.preprocessing import StandardScaler\n",
    "from sklearn import grid_search\n",
    "from os import listdir\n",
    "from os.path import isfile\n",
    "from sklearn.preprocessing import MinMaxScaler"
   ]
  },
  {
   "cell_type": "code",
   "execution_count": 2,
   "metadata": {
    "collapsed": false
   },
   "outputs": [
    {
     "name": "stdout",
     "output_type": "stream",
     "text": [
      "file,train_Score,test_Score\n",
      "data.csv,0.864285714286,0.858833333333\n",
      "SVC(C=100, cache_size=200, class_weight=None, coef0=0.0,\n",
      "  decision_function_shape='ovr', degree=3, gamma=0.1, kernel='rbf',\n",
      "  max_iter=-1, probability=False, random_state=0, shrinking=True,\n",
      "  tol=0.001, verbose=False)\n",
      "0.848166666667\n",
      "{'kernel': 'rbf', 'C': 100, 'decision_function_shape': 'ovr', 'random_state': 0, 'shrinking': True, 'gamma': 0.1}\n",
      "[mean: 0.64469, std: 0.00590, params: {'kernel': 'rbf', 'C': 1, 'decision_function_shape': 'ovr', 'random_state': 0, 'shrinking': True, 'gamma': 'auto'}, mean: 0.64467, std: 0.00583, params: {'kernel': 'rbf', 'C': 1, 'decision_function_shape': 'ovr', 'random_state': 0, 'shrinking': False, 'gamma': 'auto'}, mean: 0.64469, std: 0.00590, params: {'kernel': 'rbf', 'C': 1, 'decision_function_shape': 'ovr', 'random_state': 20, 'shrinking': True, 'gamma': 'auto'}, mean: 0.64467, std: 0.00583, params: {'kernel': 'rbf', 'C': 1, 'decision_function_shape': 'ovr', 'random_state': 20, 'shrinking': False, 'gamma': 'auto'}, mean: 0.64469, std: 0.00590, params: {'kernel': 'rbf', 'C': 1, 'decision_function_shape': 'ovr', 'random_state': 40, 'shrinking': True, 'gamma': 'auto'}, mean: 0.64467, std: 0.00583, params: {'kernel': 'rbf', 'C': 1, 'decision_function_shape': 'ovr', 'random_state': 40, 'shrinking': False, 'gamma': 'auto'}, mean: 0.67743, std: 0.00281, params: {'kernel': 'rbf', 'C': 1, 'decision_function_shape': 'ovr', 'random_state': 0, 'shrinking': True, 'gamma': 0.1}, mean: 0.67736, std: 0.00285, params: {'kernel': 'rbf', 'C': 1, 'decision_function_shape': 'ovr', 'random_state': 0, 'shrinking': False, 'gamma': 0.1}, mean: 0.67743, std: 0.00281, params: {'kernel': 'rbf', 'C': 1, 'decision_function_shape': 'ovr', 'random_state': 20, 'shrinking': True, 'gamma': 0.1}, mean: 0.67736, std: 0.00285, params: {'kernel': 'rbf', 'C': 1, 'decision_function_shape': 'ovr', 'random_state': 20, 'shrinking': False, 'gamma': 0.1}, mean: 0.67743, std: 0.00281, params: {'kernel': 'rbf', 'C': 1, 'decision_function_shape': 'ovr', 'random_state': 40, 'shrinking': True, 'gamma': 0.1}, mean: 0.67736, std: 0.00285, params: {'kernel': 'rbf', 'C': 1, 'decision_function_shape': 'ovr', 'random_state': 40, 'shrinking': False, 'gamma': 0.1}, mean: 0.60431, std: 0.00539, params: {'kernel': 'rbf', 'C': 1, 'decision_function_shape': 'ovr', 'random_state': 0, 'shrinking': True, 'gamma': 0.05}, mean: 0.60431, std: 0.00539, params: {'kernel': 'rbf', 'C': 1, 'decision_function_shape': 'ovr', 'random_state': 0, 'shrinking': False, 'gamma': 0.05}, mean: 0.60431, std: 0.00539, params: {'kernel': 'rbf', 'C': 1, 'decision_function_shape': 'ovr', 'random_state': 20, 'shrinking': True, 'gamma': 0.05}, mean: 0.60431, std: 0.00539, params: {'kernel': 'rbf', 'C': 1, 'decision_function_shape': 'ovr', 'random_state': 20, 'shrinking': False, 'gamma': 0.05}, mean: 0.60431, std: 0.00539, params: {'kernel': 'rbf', 'C': 1, 'decision_function_shape': 'ovr', 'random_state': 40, 'shrinking': True, 'gamma': 0.05}, mean: 0.60431, std: 0.00539, params: {'kernel': 'rbf', 'C': 1, 'decision_function_shape': 'ovr', 'random_state': 40, 'shrinking': False, 'gamma': 0.05}, mean: 0.40883, std: 0.00523, params: {'kernel': 'rbf', 'C': 1, 'decision_function_shape': 'ovr', 'random_state': 0, 'shrinking': True, 'gamma': 0.01}, mean: 0.40888, std: 0.00520, params: {'kernel': 'rbf', 'C': 1, 'decision_function_shape': 'ovr', 'random_state': 0, 'shrinking': False, 'gamma': 0.01}, mean: 0.40883, std: 0.00523, params: {'kernel': 'rbf', 'C': 1, 'decision_function_shape': 'ovr', 'random_state': 20, 'shrinking': True, 'gamma': 0.01}, mean: 0.40888, std: 0.00520, params: {'kernel': 'rbf', 'C': 1, 'decision_function_shape': 'ovr', 'random_state': 20, 'shrinking': False, 'gamma': 0.01}, mean: 0.40883, std: 0.00523, params: {'kernel': 'rbf', 'C': 1, 'decision_function_shape': 'ovr', 'random_state': 40, 'shrinking': True, 'gamma': 0.01}, mean: 0.40888, std: 0.00520, params: {'kernel': 'rbf', 'C': 1, 'decision_function_shape': 'ovr', 'random_state': 40, 'shrinking': False, 'gamma': 0.01}, mean: 0.38057, std: 0.00061, params: {'kernel': 'rbf', 'C': 1, 'decision_function_shape': 'ovr', 'random_state': 0, 'shrinking': True, 'gamma': 0.005}, mean: 0.38060, std: 0.00063, params: {'kernel': 'rbf', 'C': 1, 'decision_function_shape': 'ovr', 'random_state': 0, 'shrinking': False, 'gamma': 0.005}, mean: 0.38057, std: 0.00061, params: {'kernel': 'rbf', 'C': 1, 'decision_function_shape': 'ovr', 'random_state': 20, 'shrinking': True, 'gamma': 0.005}, mean: 0.38060, std: 0.00063, params: {'kernel': 'rbf', 'C': 1, 'decision_function_shape': 'ovr', 'random_state': 20, 'shrinking': False, 'gamma': 0.005}, mean: 0.38057, std: 0.00061, params: {'kernel': 'rbf', 'C': 1, 'decision_function_shape': 'ovr', 'random_state': 40, 'shrinking': True, 'gamma': 0.005}, mean: 0.38060, std: 0.00063, params: {'kernel': 'rbf', 'C': 1, 'decision_function_shape': 'ovr', 'random_state': 40, 'shrinking': False, 'gamma': 0.005}, mean: 0.33233, std: 0.00145, params: {'kernel': 'rbf', 'C': 1, 'decision_function_shape': 'ovr', 'random_state': 0, 'shrinking': True, 'gamma': 0.001}, mean: 0.33233, std: 0.00147, params: {'kernel': 'rbf', 'C': 1, 'decision_function_shape': 'ovr', 'random_state': 0, 'shrinking': False, 'gamma': 0.001}, mean: 0.33233, std: 0.00145, params: {'kernel': 'rbf', 'C': 1, 'decision_function_shape': 'ovr', 'random_state': 20, 'shrinking': True, 'gamma': 0.001}, mean: 0.33233, std: 0.00147, params: {'kernel': 'rbf', 'C': 1, 'decision_function_shape': 'ovr', 'random_state': 20, 'shrinking': False, 'gamma': 0.001}, mean: 0.33233, std: 0.00145, params: {'kernel': 'rbf', 'C': 1, 'decision_function_shape': 'ovr', 'random_state': 40, 'shrinking': True, 'gamma': 0.001}, mean: 0.33233, std: 0.00147, params: {'kernel': 'rbf', 'C': 1, 'decision_function_shape': 'ovr', 'random_state': 40, 'shrinking': False, 'gamma': 0.001}, mean: 0.64469, std: 0.00590, params: {'kernel': 'rbf', 'C': 1, 'decision_function_shape': 'ovo', 'random_state': 0, 'shrinking': True, 'gamma': 'auto'}, mean: 0.64467, std: 0.00583, params: {'kernel': 'rbf', 'C': 1, 'decision_function_shape': 'ovo', 'random_state': 0, 'shrinking': False, 'gamma': 'auto'}, mean: 0.64469, std: 0.00590, params: {'kernel': 'rbf', 'C': 1, 'decision_function_shape': 'ovo', 'random_state': 20, 'shrinking': True, 'gamma': 'auto'}, mean: 0.64467, std: 0.00583, params: {'kernel': 'rbf', 'C': 1, 'decision_function_shape': 'ovo', 'random_state': 20, 'shrinking': False, 'gamma': 'auto'}, mean: 0.64469, std: 0.00590, params: {'kernel': 'rbf', 'C': 1, 'decision_function_shape': 'ovo', 'random_state': 40, 'shrinking': True, 'gamma': 'auto'}, mean: 0.64467, std: 0.00583, params: {'kernel': 'rbf', 'C': 1, 'decision_function_shape': 'ovo', 'random_state': 40, 'shrinking': False, 'gamma': 'auto'}, mean: 0.67743, std: 0.00281, params: {'kernel': 'rbf', 'C': 1, 'decision_function_shape': 'ovo', 'random_state': 0, 'shrinking': True, 'gamma': 0.1}, mean: 0.67736, std: 0.00285, params: {'kernel': 'rbf', 'C': 1, 'decision_function_shape': 'ovo', 'random_state': 0, 'shrinking': False, 'gamma': 0.1}, mean: 0.67743, std: 0.00281, params: {'kernel': 'rbf', 'C': 1, 'decision_function_shape': 'ovo', 'random_state': 20, 'shrinking': True, 'gamma': 0.1}, mean: 0.67736, std: 0.00285, params: {'kernel': 'rbf', 'C': 1, 'decision_function_shape': 'ovo', 'random_state': 20, 'shrinking': False, 'gamma': 0.1}, mean: 0.67743, std: 0.00281, params: {'kernel': 'rbf', 'C': 1, 'decision_function_shape': 'ovo', 'random_state': 40, 'shrinking': True, 'gamma': 0.1}, mean: 0.67736, std: 0.00285, params: {'kernel': 'rbf', 'C': 1, 'decision_function_shape': 'ovo', 'random_state': 40, 'shrinking': False, 'gamma': 0.1}, mean: 0.60431, std: 0.00539, params: {'kernel': 'rbf', 'C': 1, 'decision_function_shape': 'ovo', 'random_state': 0, 'shrinking': True, 'gamma': 0.05}, mean: 0.60431, std: 0.00539, params: {'kernel': 'rbf', 'C': 1, 'decision_function_shape': 'ovo', 'random_state': 0, 'shrinking': False, 'gamma': 0.05}, mean: 0.60431, std: 0.00539, params: {'kernel': 'rbf', 'C': 1, 'decision_function_shape': 'ovo', 'random_state': 20, 'shrinking': True, 'gamma': 0.05}, mean: 0.60431, std: 0.00539, params: {'kernel': 'rbf', 'C': 1, 'decision_function_shape': 'ovo', 'random_state': 20, 'shrinking': False, 'gamma': 0.05}, mean: 0.60431, std: 0.00539, params: {'kernel': 'rbf', 'C': 1, 'decision_function_shape': 'ovo', 'random_state': 40, 'shrinking': True, 'gamma': 0.05}, mean: 0.60431, std: 0.00539, params: {'kernel': 'rbf', 'C': 1, 'decision_function_shape': 'ovo', 'random_state': 40, 'shrinking': False, 'gamma': 0.05}, mean: 0.40883, std: 0.00523, params: {'kernel': 'rbf', 'C': 1, 'decision_function_shape': 'ovo', 'random_state': 0, 'shrinking': True, 'gamma': 0.01}, mean: 0.40888, std: 0.00520, params: {'kernel': 'rbf', 'C': 1, 'decision_function_shape': 'ovo', 'random_state': 0, 'shrinking': False, 'gamma': 0.01}, mean: 0.40883, std: 0.00523, params: {'kernel': 'rbf', 'C': 1, 'decision_function_shape': 'ovo', 'random_state': 20, 'shrinking': True, 'gamma': 0.01}, mean: 0.40888, std: 0.00520, params: {'kernel': 'rbf', 'C': 1, 'decision_function_shape': 'ovo', 'random_state': 20, 'shrinking': False, 'gamma': 0.01}, mean: 0.40883, std: 0.00523, params: {'kernel': 'rbf', 'C': 1, 'decision_function_shape': 'ovo', 'random_state': 40, 'shrinking': True, 'gamma': 0.01}, mean: 0.40888, std: 0.00520, params: {'kernel': 'rbf', 'C': 1, 'decision_function_shape': 'ovo', 'random_state': 40, 'shrinking': False, 'gamma': 0.01}, mean: 0.38057, std: 0.00061, params: {'kernel': 'rbf', 'C': 1, 'decision_function_shape': 'ovo', 'random_state': 0, 'shrinking': True, 'gamma': 0.005}, mean: 0.38060, std: 0.00063, params: {'kernel': 'rbf', 'C': 1, 'decision_function_shape': 'ovo', 'random_state': 0, 'shrinking': False, 'gamma': 0.005}, mean: 0.38057, std: 0.00061, params: {'kernel': 'rbf', 'C': 1, 'decision_function_shape': 'ovo', 'random_state': 20, 'shrinking': True, 'gamma': 0.005}, mean: 0.38060, std: 0.00063, params: {'kernel': 'rbf', 'C': 1, 'decision_function_shape': 'ovo', 'random_state': 20, 'shrinking': False, 'gamma': 0.005}, mean: 0.38057, std: 0.00061, params: {'kernel': 'rbf', 'C': 1, 'decision_function_shape': 'ovo', 'random_state': 40, 'shrinking': True, 'gamma': 0.005}, mean: 0.38060, std: 0.00063, params: {'kernel': 'rbf', 'C': 1, 'decision_function_shape': 'ovo', 'random_state': 40, 'shrinking': False, 'gamma': 0.005}, mean: 0.33233, std: 0.00145, params: {'kernel': 'rbf', 'C': 1, 'decision_function_shape': 'ovo', 'random_state': 0, 'shrinking': True, 'gamma': 0.001}, mean: 0.33233, std: 0.00147, params: {'kernel': 'rbf', 'C': 1, 'decision_function_shape': 'ovo', 'random_state': 0, 'shrinking': False, 'gamma': 0.001}, mean: 0.33233, std: 0.00145, params: {'kernel': 'rbf', 'C': 1, 'decision_function_shape': 'ovo', 'random_state': 20, 'shrinking': True, 'gamma': 0.001}, mean: 0.33233, std: 0.00147, params: {'kernel': 'rbf', 'C': 1, 'decision_function_shape': 'ovo', 'random_state': 20, 'shrinking': False, 'gamma': 0.001}, mean: 0.33233, std: 0.00145, params: {'kernel': 'rbf', 'C': 1, 'decision_function_shape': 'ovo', 'random_state': 40, 'shrinking': True, 'gamma': 0.001}, mean: 0.33233, std: 0.00147, params: {'kernel': 'rbf', 'C': 1, 'decision_function_shape': 'ovo', 'random_state': 40, 'shrinking': False, 'gamma': 0.001}, mean: 0.64469, std: 0.00590, params: {'kernel': 'rbf', 'C': 1, 'decision_function_shape': None, 'random_state': 0, 'shrinking': True, 'gamma': 'auto'}, mean: 0.64467, std: 0.00583, params: {'kernel': 'rbf', 'C': 1, 'decision_function_shape': None, 'random_state': 0, 'shrinking': False, 'gamma': 'auto'}, mean: 0.64469, std: 0.00590, params: {'kernel': 'rbf', 'C': 1, 'decision_function_shape': None, 'random_state': 20, 'shrinking': True, 'gamma': 'auto'}, mean: 0.64467, std: 0.00583, params: {'kernel': 'rbf', 'C': 1, 'decision_function_shape': None, 'random_state': 20, 'shrinking': False, 'gamma': 'auto'}, mean: 0.64469, std: 0.00590, params: {'kernel': 'rbf', 'C': 1, 'decision_function_shape': None, 'random_state': 40, 'shrinking': True, 'gamma': 'auto'}, mean: 0.64467, std: 0.00583, params: {'kernel': 'rbf', 'C': 1, 'decision_function_shape': None, 'random_state': 40, 'shrinking': False, 'gamma': 'auto'}, mean: 0.67743, std: 0.00281, params: {'kernel': 'rbf', 'C': 1, 'decision_function_shape': None, 'random_state': 0, 'shrinking': True, 'gamma': 0.1}, mean: 0.67736, std: 0.00285, params: {'kernel': 'rbf', 'C': 1, 'decision_function_shape': None, 'random_state': 0, 'shrinking': False, 'gamma': 0.1}, mean: 0.67743, std: 0.00281, params: {'kernel': 'rbf', 'C': 1, 'decision_function_shape': None, 'random_state': 20, 'shrinking': True, 'gamma': 0.1}, mean: 0.67736, std: 0.00285, params: {'kernel': 'rbf', 'C': 1, 'decision_function_shape': None, 'random_state': 20, 'shrinking': False, 'gamma': 0.1}, mean: 0.67743, std: 0.00281, params: {'kernel': 'rbf', 'C': 1, 'decision_function_shape': None, 'random_state': 40, 'shrinking': True, 'gamma': 0.1}, mean: 0.67736, std: 0.00285, params: {'kernel': 'rbf', 'C': 1, 'decision_function_shape': None, 'random_state': 40, 'shrinking': False, 'gamma': 0.1}, mean: 0.60431, std: 0.00539, params: {'kernel': 'rbf', 'C': 1, 'decision_function_shape': None, 'random_state': 0, 'shrinking': True, 'gamma': 0.05}, mean: 0.60431, std: 0.00539, params: {'kernel': 'rbf', 'C': 1, 'decision_function_shape': None, 'random_state': 0, 'shrinking': False, 'gamma': 0.05}, mean: 0.60431, std: 0.00539, params: {'kernel': 'rbf', 'C': 1, 'decision_function_shape': None, 'random_state': 20, 'shrinking': True, 'gamma': 0.05}, mean: 0.60431, std: 0.00539, params: {'kernel': 'rbf', 'C': 1, 'decision_function_shape': None, 'random_state': 20, 'shrinking': False, 'gamma': 0.05}, mean: 0.60431, std: 0.00539, params: {'kernel': 'rbf', 'C': 1, 'decision_function_shape': None, 'random_state': 40, 'shrinking': True, 'gamma': 0.05}, mean: 0.60431, std: 0.00539, params: {'kernel': 'rbf', 'C': 1, 'decision_function_shape': None, 'random_state': 40, 'shrinking': False, 'gamma': 0.05}, mean: 0.40883, std: 0.00523, params: {'kernel': 'rbf', 'C': 1, 'decision_function_shape': None, 'random_state': 0, 'shrinking': True, 'gamma': 0.01}, mean: 0.40888, std: 0.00520, params: {'kernel': 'rbf', 'C': 1, 'decision_function_shape': None, 'random_state': 0, 'shrinking': False, 'gamma': 0.01}, mean: 0.40883, std: 0.00523, params: {'kernel': 'rbf', 'C': 1, 'decision_function_shape': None, 'random_state': 20, 'shrinking': True, 'gamma': 0.01}, mean: 0.40888, std: 0.00520, params: {'kernel': 'rbf', 'C': 1, 'decision_function_shape': None, 'random_state': 20, 'shrinking': False, 'gamma': 0.01}, mean: 0.40883, std: 0.00523, params: {'kernel': 'rbf', 'C': 1, 'decision_function_shape': None, 'random_state': 40, 'shrinking': True, 'gamma': 0.01}, mean: 0.40888, std: 0.00520, params: {'kernel': 'rbf', 'C': 1, 'decision_function_shape': None, 'random_state': 40, 'shrinking': False, 'gamma': 0.01}, mean: 0.38057, std: 0.00061, params: {'kernel': 'rbf', 'C': 1, 'decision_function_shape': None, 'random_state': 0, 'shrinking': True, 'gamma': 0.005}, mean: 0.38060, std: 0.00063, params: {'kernel': 'rbf', 'C': 1, 'decision_function_shape': None, 'random_state': 0, 'shrinking': False, 'gamma': 0.005}, mean: 0.38057, std: 0.00061, params: {'kernel': 'rbf', 'C': 1, 'decision_function_shape': None, 'random_state': 20, 'shrinking': True, 'gamma': 0.005}, mean: 0.38060, std: 0.00063, params: {'kernel': 'rbf', 'C': 1, 'decision_function_shape': None, 'random_state': 20, 'shrinking': False, 'gamma': 0.005}, mean: 0.38057, std: 0.00061, params: {'kernel': 'rbf', 'C': 1, 'decision_function_shape': None, 'random_state': 40, 'shrinking': True, 'gamma': 0.005}, mean: 0.38060, std: 0.00063, params: {'kernel': 'rbf', 'C': 1, 'decision_function_shape': None, 'random_state': 40, 'shrinking': False, 'gamma': 0.005}, mean: 0.33233, std: 0.00145, params: {'kernel': 'rbf', 'C': 1, 'decision_function_shape': None, 'random_state': 0, 'shrinking': True, 'gamma': 0.001}, mean: 0.33233, std: 0.00147, params: {'kernel': 'rbf', 'C': 1, 'decision_function_shape': None, 'random_state': 0, 'shrinking': False, 'gamma': 0.001}, mean: 0.33233, std: 0.00145, params: {'kernel': 'rbf', 'C': 1, 'decision_function_shape': None, 'random_state': 20, 'shrinking': True, 'gamma': 0.001}, mean: 0.33233, std: 0.00147, params: {'kernel': 'rbf', 'C': 1, 'decision_function_shape': None, 'random_state': 20, 'shrinking': False, 'gamma': 0.001}, mean: 0.33233, std: 0.00145, params: {'kernel': 'rbf', 'C': 1, 'decision_function_shape': None, 'random_state': 40, 'shrinking': True, 'gamma': 0.001}, mean: 0.33233, std: 0.00147, params: {'kernel': 'rbf', 'C': 1, 'decision_function_shape': None, 'random_state': 40, 'shrinking': False, 'gamma': 0.001}, mean: 0.71971, std: 0.00294, params: {'kernel': 'rbf', 'C': 5, 'decision_function_shape': 'ovr', 'random_state': 0, 'shrinking': True, 'gamma': 'auto'}, mean: 0.71971, std: 0.00294, params: {'kernel': 'rbf', 'C': 5, 'decision_function_shape': 'ovr', 'random_state': 0, 'shrinking': False, 'gamma': 'auto'}, mean: 0.71971, std: 0.00294, params: {'kernel': 'rbf', 'C': 5, 'decision_function_shape': 'ovr', 'random_state': 20, 'shrinking': True, 'gamma': 'auto'}, mean: 0.71971, std: 0.00294, params: {'kernel': 'rbf', 'C': 5, 'decision_function_shape': 'ovr', 'random_state': 20, 'shrinking': False, 'gamma': 'auto'}, mean: 0.71971, std: 0.00294, params: {'kernel': 'rbf', 'C': 5, 'decision_function_shape': 'ovr', 'random_state': 40, 'shrinking': True, 'gamma': 'auto'}, mean: 0.71971, std: 0.00294, params: {'kernel': 'rbf', 'C': 5, 'decision_function_shape': 'ovr', 'random_state': 40, 'shrinking': False, 'gamma': 'auto'}, mean: 0.74574, std: 0.00168, params: {'kernel': 'rbf', 'C': 5, 'decision_function_shape': 'ovr', 'random_state': 0, 'shrinking': True, 'gamma': 0.1}, mean: 0.74567, std: 0.00174, params: {'kernel': 'rbf', 'C': 5, 'decision_function_shape': 'ovr', 'random_state': 0, 'shrinking': False, 'gamma': 0.1}, mean: 0.74574, std: 0.00168, params: {'kernel': 'rbf', 'C': 5, 'decision_function_shape': 'ovr', 'random_state': 20, 'shrinking': True, 'gamma': 0.1}, mean: 0.74567, std: 0.00174, params: {'kernel': 'rbf', 'C': 5, 'decision_function_shape': 'ovr', 'random_state': 20, 'shrinking': False, 'gamma': 0.1}, mean: 0.74574, std: 0.00168, params: {'kernel': 'rbf', 'C': 5, 'decision_function_shape': 'ovr', 'random_state': 40, 'shrinking': True, 'gamma': 0.1}, mean: 0.74567, std: 0.00174, params: {'kernel': 'rbf', 'C': 5, 'decision_function_shape': 'ovr', 'random_state': 40, 'shrinking': False, 'gamma': 0.1}, mean: 0.68183, std: 0.00294, params: {'kernel': 'rbf', 'C': 5, 'decision_function_shape': 'ovr', 'random_state': 0, 'shrinking': True, 'gamma': 0.05}, mean: 0.68183, std: 0.00299, params: {'kernel': 'rbf', 'C': 5, 'decision_function_shape': 'ovr', 'random_state': 0, 'shrinking': False, 'gamma': 0.05}, mean: 0.68183, std: 0.00294, params: {'kernel': 'rbf', 'C': 5, 'decision_function_shape': 'ovr', 'random_state': 20, 'shrinking': True, 'gamma': 0.05}, mean: 0.68183, std: 0.00299, params: {'kernel': 'rbf', 'C': 5, 'decision_function_shape': 'ovr', 'random_state': 20, 'shrinking': False, 'gamma': 0.05}, mean: 0.68183, std: 0.00294, params: {'kernel': 'rbf', 'C': 5, 'decision_function_shape': 'ovr', 'random_state': 40, 'shrinking': True, 'gamma': 0.05}, mean: 0.68183, std: 0.00299, params: {'kernel': 'rbf', 'C': 5, 'decision_function_shape': 'ovr', 'random_state': 40, 'shrinking': False, 'gamma': 0.05}, mean: 0.51167, std: 0.00529, params: {'kernel': 'rbf', 'C': 5, 'decision_function_shape': 'ovr', 'random_state': 0, 'shrinking': True, 'gamma': 0.01}, mean: 0.51164, std: 0.00529, params: {'kernel': 'rbf', 'C': 5, 'decision_function_shape': 'ovr', 'random_state': 0, 'shrinking': False, 'gamma': 0.01}, mean: 0.51167, std: 0.00529, params: {'kernel': 'rbf', 'C': 5, 'decision_function_shape': 'ovr', 'random_state': 20, 'shrinking': True, 'gamma': 0.01}, mean: 0.51164, std: 0.00529, params: {'kernel': 'rbf', 'C': 5, 'decision_function_shape': 'ovr', 'random_state': 20, 'shrinking': False, 'gamma': 0.01}, mean: 0.51167, std: 0.00529, params: {'kernel': 'rbf', 'C': 5, 'decision_function_shape': 'ovr', 'random_state': 40, 'shrinking': True, 'gamma': 0.01}, mean: 0.51164, std: 0.00529, params: {'kernel': 'rbf', 'C': 5, 'decision_function_shape': 'ovr', 'random_state': 40, 'shrinking': False, 'gamma': 0.01}, mean: 0.44300, std: 0.00321, params: {'kernel': 'rbf', 'C': 5, 'decision_function_shape': 'ovr', 'random_state': 0, 'shrinking': True, 'gamma': 0.005}, mean: 0.44293, std: 0.00318, params: {'kernel': 'rbf', 'C': 5, 'decision_function_shape': 'ovr', 'random_state': 0, 'shrinking': False, 'gamma': 0.005}, mean: 0.44300, std: 0.00321, params: {'kernel': 'rbf', 'C': 5, 'decision_function_shape': 'ovr', 'random_state': 20, 'shrinking': True, 'gamma': 0.005}, mean: 0.44293, std: 0.00318, params: {'kernel': 'rbf', 'C': 5, 'decision_function_shape': 'ovr', 'random_state': 20, 'shrinking': False, 'gamma': 0.005}, mean: 0.44300, std: 0.00321, params: {'kernel': 'rbf', 'C': 5, 'decision_function_shape': 'ovr', 'random_state': 40, 'shrinking': True, 'gamma': 0.005}, mean: 0.44293, std: 0.00318, params: {'kernel': 'rbf', 'C': 5, 'decision_function_shape': 'ovr', 'random_state': 40, 'shrinking': False, 'gamma': 0.005}, mean: 0.37810, std: 0.00075, params: {'kernel': 'rbf', 'C': 5, 'decision_function_shape': 'ovr', 'random_state': 0, 'shrinking': True, 'gamma': 0.001}, mean: 0.37810, std: 0.00077, params: {'kernel': 'rbf', 'C': 5, 'decision_function_shape': 'ovr', 'random_state': 0, 'shrinking': False, 'gamma': 0.001}, mean: 0.37810, std: 0.00075, params: {'kernel': 'rbf', 'C': 5, 'decision_function_shape': 'ovr', 'random_state': 20, 'shrinking': True, 'gamma': 0.001}, mean: 0.37810, std: 0.00077, params: {'kernel': 'rbf', 'C': 5, 'decision_function_shape': 'ovr', 'random_state': 20, 'shrinking': False, 'gamma': 0.001}, mean: 0.37810, std: 0.00075, params: {'kernel': 'rbf', 'C': 5, 'decision_function_shape': 'ovr', 'random_state': 40, 'shrinking': True, 'gamma': 0.001}, mean: 0.37810, std: 0.00077, params: {'kernel': 'rbf', 'C': 5, 'decision_function_shape': 'ovr', 'random_state': 40, 'shrinking': False, 'gamma': 0.001}, mean: 0.71971, std: 0.00294, params: {'kernel': 'rbf', 'C': 5, 'decision_function_shape': 'ovo', 'random_state': 0, 'shrinking': True, 'gamma': 'auto'}, mean: 0.71971, std: 0.00294, params: {'kernel': 'rbf', 'C': 5, 'decision_function_shape': 'ovo', 'random_state': 0, 'shrinking': False, 'gamma': 'auto'}, mean: 0.71971, std: 0.00294, params: {'kernel': 'rbf', 'C': 5, 'decision_function_shape': 'ovo', 'random_state': 20, 'shrinking': True, 'gamma': 'auto'}, mean: 0.71971, std: 0.00294, params: {'kernel': 'rbf', 'C': 5, 'decision_function_shape': 'ovo', 'random_state': 20, 'shrinking': False, 'gamma': 'auto'}, mean: 0.71971, std: 0.00294, params: {'kernel': 'rbf', 'C': 5, 'decision_function_shape': 'ovo', 'random_state': 40, 'shrinking': True, 'gamma': 'auto'}, mean: 0.71971, std: 0.00294, params: {'kernel': 'rbf', 'C': 5, 'decision_function_shape': 'ovo', 'random_state': 40, 'shrinking': False, 'gamma': 'auto'}, mean: 0.74574, std: 0.00168, params: {'kernel': 'rbf', 'C': 5, 'decision_function_shape': 'ovo', 'random_state': 0, 'shrinking': True, 'gamma': 0.1}, mean: 0.74567, std: 0.00174, params: {'kernel': 'rbf', 'C': 5, 'decision_function_shape': 'ovo', 'random_state': 0, 'shrinking': False, 'gamma': 0.1}, mean: 0.74574, std: 0.00168, params: {'kernel': 'rbf', 'C': 5, 'decision_function_shape': 'ovo', 'random_state': 20, 'shrinking': True, 'gamma': 0.1}, mean: 0.74567, std: 0.00174, params: {'kernel': 'rbf', 'C': 5, 'decision_function_shape': 'ovo', 'random_state': 20, 'shrinking': False, 'gamma': 0.1}, mean: 0.74574, std: 0.00168, params: {'kernel': 'rbf', 'C': 5, 'decision_function_shape': 'ovo', 'random_state': 40, 'shrinking': True, 'gamma': 0.1}, mean: 0.74567, std: 0.00174, params: {'kernel': 'rbf', 'C': 5, 'decision_function_shape': 'ovo', 'random_state': 40, 'shrinking': False, 'gamma': 0.1}, mean: 0.68183, std: 0.00294, params: {'kernel': 'rbf', 'C': 5, 'decision_function_shape': 'ovo', 'random_state': 0, 'shrinking': True, 'gamma': 0.05}, mean: 0.68183, std: 0.00299, params: {'kernel': 'rbf', 'C': 5, 'decision_function_shape': 'ovo', 'random_state': 0, 'shrinking': False, 'gamma': 0.05}, mean: 0.68183, std: 0.00294, params: {'kernel': 'rbf', 'C': 5, 'decision_function_shape': 'ovo', 'random_state': 20, 'shrinking': True, 'gamma': 0.05}, mean: 0.68183, std: 0.00299, params: {'kernel': 'rbf', 'C': 5, 'decision_function_shape': 'ovo', 'random_state': 20, 'shrinking': False, 'gamma': 0.05}, mean: 0.68183, std: 0.00294, params: {'kernel': 'rbf', 'C': 5, 'decision_function_shape': 'ovo', 'random_state': 40, 'shrinking': True, 'gamma': 0.05}, mean: 0.68183, std: 0.00299, params: {'kernel': 'rbf', 'C': 5, 'decision_function_shape': 'ovo', 'random_state': 40, 'shrinking': False, 'gamma': 0.05}, mean: 0.51167, std: 0.00529, params: {'kernel': 'rbf', 'C': 5, 'decision_function_shape': 'ovo', 'random_state': 0, 'shrinking': True, 'gamma': 0.01}, mean: 0.51164, std: 0.00529, params: {'kernel': 'rbf', 'C': 5, 'decision_function_shape': 'ovo', 'random_state': 0, 'shrinking': False, 'gamma': 0.01}, mean: 0.51167, std: 0.00529, params: {'kernel': 'rbf', 'C': 5, 'decision_function_shape': 'ovo', 'random_state': 20, 'shrinking': True, 'gamma': 0.01}, mean: 0.51164, std: 0.00529, params: {'kernel': 'rbf', 'C': 5, 'decision_function_shape': 'ovo', 'random_state': 20, 'shrinking': False, 'gamma': 0.01}, mean: 0.51167, std: 0.00529, params: {'kernel': 'rbf', 'C': 5, 'decision_function_shape': 'ovo', 'random_state': 40, 'shrinking': True, 'gamma': 0.01}, mean: 0.51164, std: 0.00529, params: {'kernel': 'rbf', 'C': 5, 'decision_function_shape': 'ovo', 'random_state': 40, 'shrinking': False, 'gamma': 0.01}, mean: 0.44300, std: 0.00321, params: {'kernel': 'rbf', 'C': 5, 'decision_function_shape': 'ovo', 'random_state': 0, 'shrinking': True, 'gamma': 0.005}, mean: 0.44293, std: 0.00318, params: {'kernel': 'rbf', 'C': 5, 'decision_function_shape': 'ovo', 'random_state': 0, 'shrinking': False, 'gamma': 0.005}, mean: 0.44300, std: 0.00321, params: {'kernel': 'rbf', 'C': 5, 'decision_function_shape': 'ovo', 'random_state': 20, 'shrinking': True, 'gamma': 0.005}, mean: 0.44293, std: 0.00318, params: {'kernel': 'rbf', 'C': 5, 'decision_function_shape': 'ovo', 'random_state': 20, 'shrinking': False, 'gamma': 0.005}, mean: 0.44300, std: 0.00321, params: {'kernel': 'rbf', 'C': 5, 'decision_function_shape': 'ovo', 'random_state': 40, 'shrinking': True, 'gamma': 0.005}, mean: 0.44293, std: 0.00318, params: {'kernel': 'rbf', 'C': 5, 'decision_function_shape': 'ovo', 'random_state': 40, 'shrinking': False, 'gamma': 0.005}, mean: 0.37810, std: 0.00075, params: {'kernel': 'rbf', 'C': 5, 'decision_function_shape': 'ovo', 'random_state': 0, 'shrinking': True, 'gamma': 0.001}, mean: 0.37810, std: 0.00077, params: {'kernel': 'rbf', 'C': 5, 'decision_function_shape': 'ovo', 'random_state': 0, 'shrinking': False, 'gamma': 0.001}, mean: 0.37810, std: 0.00075, params: {'kernel': 'rbf', 'C': 5, 'decision_function_shape': 'ovo', 'random_state': 20, 'shrinking': True, 'gamma': 0.001}, mean: 0.37810, std: 0.00077, params: {'kernel': 'rbf', 'C': 5, 'decision_function_shape': 'ovo', 'random_state': 20, 'shrinking': False, 'gamma': 0.001}, mean: 0.37810, std: 0.00075, params: {'kernel': 'rbf', 'C': 5, 'decision_function_shape': 'ovo', 'random_state': 40, 'shrinking': True, 'gamma': 0.001}, mean: 0.37810, std: 0.00077, params: {'kernel': 'rbf', 'C': 5, 'decision_function_shape': 'ovo', 'random_state': 40, 'shrinking': False, 'gamma': 0.001}, mean: 0.71971, std: 0.00294, params: {'kernel': 'rbf', 'C': 5, 'decision_function_shape': None, 'random_state': 0, 'shrinking': True, 'gamma': 'auto'}, mean: 0.71971, std: 0.00294, params: {'kernel': 'rbf', 'C': 5, 'decision_function_shape': None, 'random_state': 0, 'shrinking': False, 'gamma': 'auto'}, mean: 0.71971, std: 0.00294, params: {'kernel': 'rbf', 'C': 5, 'decision_function_shape': None, 'random_state': 20, 'shrinking': True, 'gamma': 'auto'}, mean: 0.71971, std: 0.00294, params: {'kernel': 'rbf', 'C': 5, 'decision_function_shape': None, 'random_state': 20, 'shrinking': False, 'gamma': 'auto'}, mean: 0.71971, std: 0.00294, params: {'kernel': 'rbf', 'C': 5, 'decision_function_shape': None, 'random_state': 40, 'shrinking': True, 'gamma': 'auto'}, mean: 0.71971, std: 0.00294, params: {'kernel': 'rbf', 'C': 5, 'decision_function_shape': None, 'random_state': 40, 'shrinking': False, 'gamma': 'auto'}, mean: 0.74574, std: 0.00168, params: {'kernel': 'rbf', 'C': 5, 'decision_function_shape': None, 'random_state': 0, 'shrinking': True, 'gamma': 0.1}, mean: 0.74567, std: 0.00174, params: {'kernel': 'rbf', 'C': 5, 'decision_function_shape': None, 'random_state': 0, 'shrinking': False, 'gamma': 0.1}, mean: 0.74574, std: 0.00168, params: {'kernel': 'rbf', 'C': 5, 'decision_function_shape': None, 'random_state': 20, 'shrinking': True, 'gamma': 0.1}, mean: 0.74567, std: 0.00174, params: {'kernel': 'rbf', 'C': 5, 'decision_function_shape': None, 'random_state': 20, 'shrinking': False, 'gamma': 0.1}, mean: 0.74574, std: 0.00168, params: {'kernel': 'rbf', 'C': 5, 'decision_function_shape': None, 'random_state': 40, 'shrinking': True, 'gamma': 0.1}, mean: 0.74567, std: 0.00174, params: {'kernel': 'rbf', 'C': 5, 'decision_function_shape': None, 'random_state': 40, 'shrinking': False, 'gamma': 0.1}, mean: 0.68183, std: 0.00294, params: {'kernel': 'rbf', 'C': 5, 'decision_function_shape': None, 'random_state': 0, 'shrinking': True, 'gamma': 0.05}, mean: 0.68183, std: 0.00299, params: {'kernel': 'rbf', 'C': 5, 'decision_function_shape': None, 'random_state': 0, 'shrinking': False, 'gamma': 0.05}, mean: 0.68183, std: 0.00294, params: {'kernel': 'rbf', 'C': 5, 'decision_function_shape': None, 'random_state': 20, 'shrinking': True, 'gamma': 0.05}, mean: 0.68183, std: 0.00299, params: {'kernel': 'rbf', 'C': 5, 'decision_function_shape': None, 'random_state': 20, 'shrinking': False, 'gamma': 0.05}, mean: 0.68183, std: 0.00294, params: {'kernel': 'rbf', 'C': 5, 'decision_function_shape': None, 'random_state': 40, 'shrinking': True, 'gamma': 0.05}, mean: 0.68183, std: 0.00299, params: {'kernel': 'rbf', 'C': 5, 'decision_function_shape': None, 'random_state': 40, 'shrinking': False, 'gamma': 0.05}, mean: 0.51167, std: 0.00529, params: {'kernel': 'rbf', 'C': 5, 'decision_function_shape': None, 'random_state': 0, 'shrinking': True, 'gamma': 0.01}, mean: 0.51164, std: 0.00529, params: {'kernel': 'rbf', 'C': 5, 'decision_function_shape': None, 'random_state': 0, 'shrinking': False, 'gamma': 0.01}, mean: 0.51167, std: 0.00529, params: {'kernel': 'rbf', 'C': 5, 'decision_function_shape': None, 'random_state': 20, 'shrinking': True, 'gamma': 0.01}, mean: 0.51164, std: 0.00529, params: {'kernel': 'rbf', 'C': 5, 'decision_function_shape': None, 'random_state': 20, 'shrinking': False, 'gamma': 0.01}, mean: 0.51167, std: 0.00529, params: {'kernel': 'rbf', 'C': 5, 'decision_function_shape': None, 'random_state': 40, 'shrinking': True, 'gamma': 0.01}, mean: 0.51164, std: 0.00529, params: {'kernel': 'rbf', 'C': 5, 'decision_function_shape': None, 'random_state': 40, 'shrinking': False, 'gamma': 0.01}, mean: 0.44300, std: 0.00321, params: {'kernel': 'rbf', 'C': 5, 'decision_function_shape': None, 'random_state': 0, 'shrinking': True, 'gamma': 0.005}, mean: 0.44293, std: 0.00318, params: {'kernel': 'rbf', 'C': 5, 'decision_function_shape': None, 'random_state': 0, 'shrinking': False, 'gamma': 0.005}, mean: 0.44300, std: 0.00321, params: {'kernel': 'rbf', 'C': 5, 'decision_function_shape': None, 'random_state': 20, 'shrinking': True, 'gamma': 0.005}, mean: 0.44293, std: 0.00318, params: {'kernel': 'rbf', 'C': 5, 'decision_function_shape': None, 'random_state': 20, 'shrinking': False, 'gamma': 0.005}, mean: 0.44300, std: 0.00321, params: {'kernel': 'rbf', 'C': 5, 'decision_function_shape': None, 'random_state': 40, 'shrinking': True, 'gamma': 0.005}, mean: 0.44293, std: 0.00318, params: {'kernel': 'rbf', 'C': 5, 'decision_function_shape': None, 'random_state': 40, 'shrinking': False, 'gamma': 0.005}, mean: 0.37810, std: 0.00075, params: {'kernel': 'rbf', 'C': 5, 'decision_function_shape': None, 'random_state': 0, 'shrinking': True, 'gamma': 0.001}, mean: 0.37810, std: 0.00077, params: {'kernel': 'rbf', 'C': 5, 'decision_function_shape': None, 'random_state': 0, 'shrinking': False, 'gamma': 0.001}, mean: 0.37810, std: 0.00075, params: {'kernel': 'rbf', 'C': 5, 'decision_function_shape': None, 'random_state': 20, 'shrinking': True, 'gamma': 0.001}, mean: 0.37810, std: 0.00077, params: {'kernel': 'rbf', 'C': 5, 'decision_function_shape': None, 'random_state': 20, 'shrinking': False, 'gamma': 0.001}, mean: 0.37810, std: 0.00075, params: {'kernel': 'rbf', 'C': 5, 'decision_function_shape': None, 'random_state': 40, 'shrinking': True, 'gamma': 0.001}, mean: 0.37810, std: 0.00077, params: {'kernel': 'rbf', 'C': 5, 'decision_function_shape': None, 'random_state': 40, 'shrinking': False, 'gamma': 0.001}, mean: 0.74195, std: 0.00188, params: {'kernel': 'rbf', 'C': 10, 'decision_function_shape': 'ovr', 'random_state': 0, 'shrinking': True, 'gamma': 'auto'}, mean: 0.74202, std: 0.00192, params: {'kernel': 'rbf', 'C': 10, 'decision_function_shape': 'ovr', 'random_state': 0, 'shrinking': False, 'gamma': 'auto'}, mean: 0.74195, std: 0.00188, params: {'kernel': 'rbf', 'C': 10, 'decision_function_shape': 'ovr', 'random_state': 20, 'shrinking': True, 'gamma': 'auto'}, mean: 0.74202, std: 0.00192, params: {'kernel': 'rbf', 'C': 10, 'decision_function_shape': 'ovr', 'random_state': 20, 'shrinking': False, 'gamma': 'auto'}, mean: 0.74195, std: 0.00188, params: {'kernel': 'rbf', 'C': 10, 'decision_function_shape': 'ovr', 'random_state': 40, 'shrinking': True, 'gamma': 'auto'}, mean: 0.74202, std: 0.00192, params: {'kernel': 'rbf', 'C': 10, 'decision_function_shape': 'ovr', 'random_state': 40, 'shrinking': False, 'gamma': 'auto'}, mean: 0.77252, std: 0.00193, params: {'kernel': 'rbf', 'C': 10, 'decision_function_shape': 'ovr', 'random_state': 0, 'shrinking': True, 'gamma': 0.1}, mean: 0.77257, std: 0.00194, params: {'kernel': 'rbf', 'C': 10, 'decision_function_shape': 'ovr', 'random_state': 0, 'shrinking': False, 'gamma': 0.1}, mean: 0.77252, std: 0.00193, params: {'kernel': 'rbf', 'C': 10, 'decision_function_shape': 'ovr', 'random_state': 20, 'shrinking': True, 'gamma': 0.1}, mean: 0.77257, std: 0.00194, params: {'kernel': 'rbf', 'C': 10, 'decision_function_shape': 'ovr', 'random_state': 20, 'shrinking': False, 'gamma': 0.1}, mean: 0.77252, std: 0.00193, params: {'kernel': 'rbf', 'C': 10, 'decision_function_shape': 'ovr', 'random_state': 40, 'shrinking': True, 'gamma': 0.1}, mean: 0.77257, std: 0.00194, params: {'kernel': 'rbf', 'C': 10, 'decision_function_shape': 'ovr', 'random_state': 40, 'shrinking': False, 'gamma': 0.1}, mean: 0.71514, std: 0.00345, params: {'kernel': 'rbf', 'C': 10, 'decision_function_shape': 'ovr', 'random_state': 0, 'shrinking': True, 'gamma': 0.05}, mean: 0.71517, std: 0.00343, params: {'kernel': 'rbf', 'C': 10, 'decision_function_shape': 'ovr', 'random_state': 0, 'shrinking': False, 'gamma': 0.05}, mean: 0.71514, std: 0.00345, params: {'kernel': 'rbf', 'C': 10, 'decision_function_shape': 'ovr', 'random_state': 20, 'shrinking': True, 'gamma': 0.05}, mean: 0.71517, std: 0.00343, params: {'kernel': 'rbf', 'C': 10, 'decision_function_shape': 'ovr', 'random_state': 20, 'shrinking': False, 'gamma': 0.05}, mean: 0.71514, std: 0.00345, params: {'kernel': 'rbf', 'C': 10, 'decision_function_shape': 'ovr', 'random_state': 40, 'shrinking': True, 'gamma': 0.05}, mean: 0.71517, std: 0.00343, params: {'kernel': 'rbf', 'C': 10, 'decision_function_shape': 'ovr', 'random_state': 40, 'shrinking': False, 'gamma': 0.05}, mean: 0.55207, std: 0.00634, params: {'kernel': 'rbf', 'C': 10, 'decision_function_shape': 'ovr', 'random_state': 0, 'shrinking': True, 'gamma': 0.01}, mean: 0.55212, std: 0.00632, params: {'kernel': 'rbf', 'C': 10, 'decision_function_shape': 'ovr', 'random_state': 0, 'shrinking': False, 'gamma': 0.01}, mean: 0.55207, std: 0.00634, params: {'kernel': 'rbf', 'C': 10, 'decision_function_shape': 'ovr', 'random_state': 20, 'shrinking': True, 'gamma': 0.01}, mean: 0.55212, std: 0.00632, params: {'kernel': 'rbf', 'C': 10, 'decision_function_shape': 'ovr', 'random_state': 20, 'shrinking': False, 'gamma': 0.01}, mean: 0.55207, std: 0.00634, params: {'kernel': 'rbf', 'C': 10, 'decision_function_shape': 'ovr', 'random_state': 40, 'shrinking': True, 'gamma': 0.01}, mean: 0.55212, std: 0.00632, params: {'kernel': 'rbf', 'C': 10, 'decision_function_shape': 'ovr', 'random_state': 40, 'shrinking': False, 'gamma': 0.01}, mean: 0.48298, std: 0.00582, params: {'kernel': 'rbf', 'C': 10, 'decision_function_shape': 'ovr', 'random_state': 0, 'shrinking': True, 'gamma': 0.005}, mean: 0.48298, std: 0.00582, params: {'kernel': 'rbf', 'C': 10, 'decision_function_shape': 'ovr', 'random_state': 0, 'shrinking': False, 'gamma': 0.005}, mean: 0.48298, std: 0.00582, params: {'kernel': 'rbf', 'C': 10, 'decision_function_shape': 'ovr', 'random_state': 20, 'shrinking': True, 'gamma': 0.005}, mean: 0.48298, std: 0.00582, params: {'kernel': 'rbf', 'C': 10, 'decision_function_shape': 'ovr', 'random_state': 20, 'shrinking': False, 'gamma': 0.005}, mean: 0.48298, std: 0.00582, params: {'kernel': 'rbf', 'C': 10, 'decision_function_shape': 'ovr', 'random_state': 40, 'shrinking': True, 'gamma': 0.005}, mean: 0.48298, std: 0.00582, params: {'kernel': 'rbf', 'C': 10, 'decision_function_shape': 'ovr', 'random_state': 40, 'shrinking': False, 'gamma': 0.005}, mean: 0.38890, std: 0.00280, params: {'kernel': 'rbf', 'C': 10, 'decision_function_shape': 'ovr', 'random_state': 0, 'shrinking': True, 'gamma': 0.001}, mean: 0.38893, std: 0.00278, params: {'kernel': 'rbf', 'C': 10, 'decision_function_shape': 'ovr', 'random_state': 0, 'shrinking': False, 'gamma': 0.001}, mean: 0.38890, std: 0.00280, params: {'kernel': 'rbf', 'C': 10, 'decision_function_shape': 'ovr', 'random_state': 20, 'shrinking': True, 'gamma': 0.001}, mean: 0.38893, std: 0.00278, params: {'kernel': 'rbf', 'C': 10, 'decision_function_shape': 'ovr', 'random_state': 20, 'shrinking': False, 'gamma': 0.001}, mean: 0.38890, std: 0.00280, params: {'kernel': 'rbf', 'C': 10, 'decision_function_shape': 'ovr', 'random_state': 40, 'shrinking': True, 'gamma': 0.001}, mean: 0.38893, std: 0.00278, params: {'kernel': 'rbf', 'C': 10, 'decision_function_shape': 'ovr', 'random_state': 40, 'shrinking': False, 'gamma': 0.001}, mean: 0.74195, std: 0.00188, params: {'kernel': 'rbf', 'C': 10, 'decision_function_shape': 'ovo', 'random_state': 0, 'shrinking': True, 'gamma': 'auto'}, mean: 0.74202, std: 0.00192, params: {'kernel': 'rbf', 'C': 10, 'decision_function_shape': 'ovo', 'random_state': 0, 'shrinking': False, 'gamma': 'auto'}, mean: 0.74195, std: 0.00188, params: {'kernel': 'rbf', 'C': 10, 'decision_function_shape': 'ovo', 'random_state': 20, 'shrinking': True, 'gamma': 'auto'}, mean: 0.74202, std: 0.00192, params: {'kernel': 'rbf', 'C': 10, 'decision_function_shape': 'ovo', 'random_state': 20, 'shrinking': False, 'gamma': 'auto'}, mean: 0.74195, std: 0.00188, params: {'kernel': 'rbf', 'C': 10, 'decision_function_shape': 'ovo', 'random_state': 40, 'shrinking': True, 'gamma': 'auto'}, mean: 0.74202, std: 0.00192, params: {'kernel': 'rbf', 'C': 10, 'decision_function_shape': 'ovo', 'random_state': 40, 'shrinking': False, 'gamma': 'auto'}, mean: 0.77252, std: 0.00193, params: {'kernel': 'rbf', 'C': 10, 'decision_function_shape': 'ovo', 'random_state': 0, 'shrinking': True, 'gamma': 0.1}, mean: 0.77257, std: 0.00194, params: {'kernel': 'rbf', 'C': 10, 'decision_function_shape': 'ovo', 'random_state': 0, 'shrinking': False, 'gamma': 0.1}, mean: 0.77252, std: 0.00193, params: {'kernel': 'rbf', 'C': 10, 'decision_function_shape': 'ovo', 'random_state': 20, 'shrinking': True, 'gamma': 0.1}, mean: 0.77257, std: 0.00194, params: {'kernel': 'rbf', 'C': 10, 'decision_function_shape': 'ovo', 'random_state': 20, 'shrinking': False, 'gamma': 0.1}, mean: 0.77252, std: 0.00193, params: {'kernel': 'rbf', 'C': 10, 'decision_function_shape': 'ovo', 'random_state': 40, 'shrinking': True, 'gamma': 0.1}, mean: 0.77257, std: 0.00194, params: {'kernel': 'rbf', 'C': 10, 'decision_function_shape': 'ovo', 'random_state': 40, 'shrinking': False, 'gamma': 0.1}, mean: 0.71514, std: 0.00345, params: {'kernel': 'rbf', 'C': 10, 'decision_function_shape': 'ovo', 'random_state': 0, 'shrinking': True, 'gamma': 0.05}, mean: 0.71517, std: 0.00343, params: {'kernel': 'rbf', 'C': 10, 'decision_function_shape': 'ovo', 'random_state': 0, 'shrinking': False, 'gamma': 0.05}, mean: 0.71514, std: 0.00345, params: {'kernel': 'rbf', 'C': 10, 'decision_function_shape': 'ovo', 'random_state': 20, 'shrinking': True, 'gamma': 0.05}, mean: 0.71517, std: 0.00343, params: {'kernel': 'rbf', 'C': 10, 'decision_function_shape': 'ovo', 'random_state': 20, 'shrinking': False, 'gamma': 0.05}, mean: 0.71514, std: 0.00345, params: {'kernel': 'rbf', 'C': 10, 'decision_function_shape': 'ovo', 'random_state': 40, 'shrinking': True, 'gamma': 0.05}, mean: 0.71517, std: 0.00343, params: {'kernel': 'rbf', 'C': 10, 'decision_function_shape': 'ovo', 'random_state': 40, 'shrinking': False, 'gamma': 0.05}, mean: 0.55207, std: 0.00634, params: {'kernel': 'rbf', 'C': 10, 'decision_function_shape': 'ovo', 'random_state': 0, 'shrinking': True, 'gamma': 0.01}, mean: 0.55212, std: 0.00632, params: {'kernel': 'rbf', 'C': 10, 'decision_function_shape': 'ovo', 'random_state': 0, 'shrinking': False, 'gamma': 0.01}, mean: 0.55207, std: 0.00634, params: {'kernel': 'rbf', 'C': 10, 'decision_function_shape': 'ovo', 'random_state': 20, 'shrinking': True, 'gamma': 0.01}, mean: 0.55212, std: 0.00632, params: {'kernel': 'rbf', 'C': 10, 'decision_function_shape': 'ovo', 'random_state': 20, 'shrinking': False, 'gamma': 0.01}, mean: 0.55207, std: 0.00634, params: {'kernel': 'rbf', 'C': 10, 'decision_function_shape': 'ovo', 'random_state': 40, 'shrinking': True, 'gamma': 0.01}, mean: 0.55212, std: 0.00632, params: {'kernel': 'rbf', 'C': 10, 'decision_function_shape': 'ovo', 'random_state': 40, 'shrinking': False, 'gamma': 0.01}, mean: 0.48298, std: 0.00582, params: {'kernel': 'rbf', 'C': 10, 'decision_function_shape': 'ovo', 'random_state': 0, 'shrinking': True, 'gamma': 0.005}, mean: 0.48298, std: 0.00582, params: {'kernel': 'rbf', 'C': 10, 'decision_function_shape': 'ovo', 'random_state': 0, 'shrinking': False, 'gamma': 0.005}, mean: 0.48298, std: 0.00582, params: {'kernel': 'rbf', 'C': 10, 'decision_function_shape': 'ovo', 'random_state': 20, 'shrinking': True, 'gamma': 0.005}, mean: 0.48298, std: 0.00582, params: {'kernel': 'rbf', 'C': 10, 'decision_function_shape': 'ovo', 'random_state': 20, 'shrinking': False, 'gamma': 0.005}, mean: 0.48298, std: 0.00582, params: {'kernel': 'rbf', 'C': 10, 'decision_function_shape': 'ovo', 'random_state': 40, 'shrinking': True, 'gamma': 0.005}, mean: 0.48298, std: 0.00582, params: {'kernel': 'rbf', 'C': 10, 'decision_function_shape': 'ovo', 'random_state': 40, 'shrinking': False, 'gamma': 0.005}, mean: 0.38890, std: 0.00280, params: {'kernel': 'rbf', 'C': 10, 'decision_function_shape': 'ovo', 'random_state': 0, 'shrinking': True, 'gamma': 0.001}, mean: 0.38893, std: 0.00278, params: {'kernel': 'rbf', 'C': 10, 'decision_function_shape': 'ovo', 'random_state': 0, 'shrinking': False, 'gamma': 0.001}, mean: 0.38890, std: 0.00280, params: {'kernel': 'rbf', 'C': 10, 'decision_function_shape': 'ovo', 'random_state': 20, 'shrinking': True, 'gamma': 0.001}, mean: 0.38893, std: 0.00278, params: {'kernel': 'rbf', 'C': 10, 'decision_function_shape': 'ovo', 'random_state': 20, 'shrinking': False, 'gamma': 0.001}, mean: 0.38890, std: 0.00280, params: {'kernel': 'rbf', 'C': 10, 'decision_function_shape': 'ovo', 'random_state': 40, 'shrinking': True, 'gamma': 0.001}, mean: 0.38893, std: 0.00278, params: {'kernel': 'rbf', 'C': 10, 'decision_function_shape': 'ovo', 'random_state': 40, 'shrinking': False, 'gamma': 0.001}, mean: 0.74195, std: 0.00188, params: {'kernel': 'rbf', 'C': 10, 'decision_function_shape': None, 'random_state': 0, 'shrinking': True, 'gamma': 'auto'}, mean: 0.74202, std: 0.00192, params: {'kernel': 'rbf', 'C': 10, 'decision_function_shape': None, 'random_state': 0, 'shrinking': False, 'gamma': 'auto'}, mean: 0.74195, std: 0.00188, params: {'kernel': 'rbf', 'C': 10, 'decision_function_shape': None, 'random_state': 20, 'shrinking': True, 'gamma': 'auto'}, mean: 0.74202, std: 0.00192, params: {'kernel': 'rbf', 'C': 10, 'decision_function_shape': None, 'random_state': 20, 'shrinking': False, 'gamma': 'auto'}, mean: 0.74195, std: 0.00188, params: {'kernel': 'rbf', 'C': 10, 'decision_function_shape': None, 'random_state': 40, 'shrinking': True, 'gamma': 'auto'}, mean: 0.74202, std: 0.00192, params: {'kernel': 'rbf', 'C': 10, 'decision_function_shape': None, 'random_state': 40, 'shrinking': False, 'gamma': 'auto'}, mean: 0.77252, std: 0.00193, params: {'kernel': 'rbf', 'C': 10, 'decision_function_shape': None, 'random_state': 0, 'shrinking': True, 'gamma': 0.1}, mean: 0.77257, std: 0.00194, params: {'kernel': 'rbf', 'C': 10, 'decision_function_shape': None, 'random_state': 0, 'shrinking': False, 'gamma': 0.1}, mean: 0.77252, std: 0.00193, params: {'kernel': 'rbf', 'C': 10, 'decision_function_shape': None, 'random_state': 20, 'shrinking': True, 'gamma': 0.1}, mean: 0.77257, std: 0.00194, params: {'kernel': 'rbf', 'C': 10, 'decision_function_shape': None, 'random_state': 20, 'shrinking': False, 'gamma': 0.1}, mean: 0.77252, std: 0.00193, params: {'kernel': 'rbf', 'C': 10, 'decision_function_shape': None, 'random_state': 40, 'shrinking': True, 'gamma': 0.1}, mean: 0.77257, std: 0.00194, params: {'kernel': 'rbf', 'C': 10, 'decision_function_shape': None, 'random_state': 40, 'shrinking': False, 'gamma': 0.1}, mean: 0.71514, std: 0.00345, params: {'kernel': 'rbf', 'C': 10, 'decision_function_shape': None, 'random_state': 0, 'shrinking': True, 'gamma': 0.05}, mean: 0.71517, std: 0.00343, params: {'kernel': 'rbf', 'C': 10, 'decision_function_shape': None, 'random_state': 0, 'shrinking': False, 'gamma': 0.05}, mean: 0.71514, std: 0.00345, params: {'kernel': 'rbf', 'C': 10, 'decision_function_shape': None, 'random_state': 20, 'shrinking': True, 'gamma': 0.05}, mean: 0.71517, std: 0.00343, params: {'kernel': 'rbf', 'C': 10, 'decision_function_shape': None, 'random_state': 20, 'shrinking': False, 'gamma': 0.05}, mean: 0.71514, std: 0.00345, params: {'kernel': 'rbf', 'C': 10, 'decision_function_shape': None, 'random_state': 40, 'shrinking': True, 'gamma': 0.05}, mean: 0.71517, std: 0.00343, params: {'kernel': 'rbf', 'C': 10, 'decision_function_shape': None, 'random_state': 40, 'shrinking': False, 'gamma': 0.05}, mean: 0.55207, std: 0.00634, params: {'kernel': 'rbf', 'C': 10, 'decision_function_shape': None, 'random_state': 0, 'shrinking': True, 'gamma': 0.01}, mean: 0.55212, std: 0.00632, params: {'kernel': 'rbf', 'C': 10, 'decision_function_shape': None, 'random_state': 0, 'shrinking': False, 'gamma': 0.01}, mean: 0.55207, std: 0.00634, params: {'kernel': 'rbf', 'C': 10, 'decision_function_shape': None, 'random_state': 20, 'shrinking': True, 'gamma': 0.01}, mean: 0.55212, std: 0.00632, params: {'kernel': 'rbf', 'C': 10, 'decision_function_shape': None, 'random_state': 20, 'shrinking': False, 'gamma': 0.01}, mean: 0.55207, std: 0.00634, params: {'kernel': 'rbf', 'C': 10, 'decision_function_shape': None, 'random_state': 40, 'shrinking': True, 'gamma': 0.01}, mean: 0.55212, std: 0.00632, params: {'kernel': 'rbf', 'C': 10, 'decision_function_shape': None, 'random_state': 40, 'shrinking': False, 'gamma': 0.01}, mean: 0.48298, std: 0.00582, params: {'kernel': 'rbf', 'C': 10, 'decision_function_shape': None, 'random_state': 0, 'shrinking': True, 'gamma': 0.005}, mean: 0.48298, std: 0.00582, params: {'kernel': 'rbf', 'C': 10, 'decision_function_shape': None, 'random_state': 0, 'shrinking': False, 'gamma': 0.005}, mean: 0.48298, std: 0.00582, params: {'kernel': 'rbf', 'C': 10, 'decision_function_shape': None, 'random_state': 20, 'shrinking': True, 'gamma': 0.005}, mean: 0.48298, std: 0.00582, params: {'kernel': 'rbf', 'C': 10, 'decision_function_shape': None, 'random_state': 20, 'shrinking': False, 'gamma': 0.005}, mean: 0.48298, std: 0.00582, params: {'kernel': 'rbf', 'C': 10, 'decision_function_shape': None, 'random_state': 40, 'shrinking': True, 'gamma': 0.005}, mean: 0.48298, std: 0.00582, params: {'kernel': 'rbf', 'C': 10, 'decision_function_shape': None, 'random_state': 40, 'shrinking': False, 'gamma': 0.005}, mean: 0.38890, std: 0.00280, params: {'kernel': 'rbf', 'C': 10, 'decision_function_shape': None, 'random_state': 0, 'shrinking': True, 'gamma': 0.001}, mean: 0.38893, std: 0.00278, params: {'kernel': 'rbf', 'C': 10, 'decision_function_shape': None, 'random_state': 0, 'shrinking': False, 'gamma': 0.001}, mean: 0.38890, std: 0.00280, params: {'kernel': 'rbf', 'C': 10, 'decision_function_shape': None, 'random_state': 20, 'shrinking': True, 'gamma': 0.001}, mean: 0.38893, std: 0.00278, params: {'kernel': 'rbf', 'C': 10, 'decision_function_shape': None, 'random_state': 20, 'shrinking': False, 'gamma': 0.001}, mean: 0.38890, std: 0.00280, params: {'kernel': 'rbf', 'C': 10, 'decision_function_shape': None, 'random_state': 40, 'shrinking': True, 'gamma': 0.001}, mean: 0.38893, std: 0.00278, params: {'kernel': 'rbf', 'C': 10, 'decision_function_shape': None, 'random_state': 40, 'shrinking': False, 'gamma': 0.001}, mean: 0.79933, std: 0.00377, params: {'kernel': 'rbf', 'C': 50, 'decision_function_shape': 'ovr', 'random_state': 0, 'shrinking': True, 'gamma': 'auto'}, mean: 0.79933, std: 0.00377, params: {'kernel': 'rbf', 'C': 50, 'decision_function_shape': 'ovr', 'random_state': 0, 'shrinking': False, 'gamma': 'auto'}, mean: 0.79933, std: 0.00377, params: {'kernel': 'rbf', 'C': 50, 'decision_function_shape': 'ovr', 'random_state': 20, 'shrinking': True, 'gamma': 'auto'}, mean: 0.79933, std: 0.00377, params: {'kernel': 'rbf', 'C': 50, 'decision_function_shape': 'ovr', 'random_state': 20, 'shrinking': False, 'gamma': 'auto'}, mean: 0.79933, std: 0.00377, params: {'kernel': 'rbf', 'C': 50, 'decision_function_shape': 'ovr', 'random_state': 40, 'shrinking': True, 'gamma': 'auto'}, mean: 0.79933, std: 0.00377, params: {'kernel': 'rbf', 'C': 50, 'decision_function_shape': 'ovr', 'random_state': 40, 'shrinking': False, 'gamma': 'auto'}, mean: 0.82662, std: 0.00253, params: {'kernel': 'rbf', 'C': 50, 'decision_function_shape': 'ovr', 'random_state': 0, 'shrinking': True, 'gamma': 0.1}, mean: 0.82664, std: 0.00254, params: {'kernel': 'rbf', 'C': 50, 'decision_function_shape': 'ovr', 'random_state': 0, 'shrinking': False, 'gamma': 0.1}, mean: 0.82662, std: 0.00253, params: {'kernel': 'rbf', 'C': 50, 'decision_function_shape': 'ovr', 'random_state': 20, 'shrinking': True, 'gamma': 0.1}, mean: 0.82664, std: 0.00254, params: {'kernel': 'rbf', 'C': 50, 'decision_function_shape': 'ovr', 'random_state': 20, 'shrinking': False, 'gamma': 0.1}, mean: 0.82662, std: 0.00253, params: {'kernel': 'rbf', 'C': 50, 'decision_function_shape': 'ovr', 'random_state': 40, 'shrinking': True, 'gamma': 0.1}, mean: 0.82664, std: 0.00254, params: {'kernel': 'rbf', 'C': 50, 'decision_function_shape': 'ovr', 'random_state': 40, 'shrinking': False, 'gamma': 0.1}, mean: 0.77050, std: 0.00221, params: {'kernel': 'rbf', 'C': 50, 'decision_function_shape': 'ovr', 'random_state': 0, 'shrinking': True, 'gamma': 0.05}, mean: 0.77052, std: 0.00220, params: {'kernel': 'rbf', 'C': 50, 'decision_function_shape': 'ovr', 'random_state': 0, 'shrinking': False, 'gamma': 0.05}, mean: 0.77050, std: 0.00221, params: {'kernel': 'rbf', 'C': 50, 'decision_function_shape': 'ovr', 'random_state': 20, 'shrinking': True, 'gamma': 0.05}, mean: 0.77052, std: 0.00220, params: {'kernel': 'rbf', 'C': 50, 'decision_function_shape': 'ovr', 'random_state': 20, 'shrinking': False, 'gamma': 0.05}, mean: 0.77050, std: 0.00221, params: {'kernel': 'rbf', 'C': 50, 'decision_function_shape': 'ovr', 'random_state': 40, 'shrinking': True, 'gamma': 0.05}, mean: 0.77052, std: 0.00220, params: {'kernel': 'rbf', 'C': 50, 'decision_function_shape': 'ovr', 'random_state': 40, 'shrinking': False, 'gamma': 0.05}, mean: 0.63545, std: 0.00530, params: {'kernel': 'rbf', 'C': 50, 'decision_function_shape': 'ovr', 'random_state': 0, 'shrinking': True, 'gamma': 0.01}, mean: 0.63545, std: 0.00530, params: {'kernel': 'rbf', 'C': 50, 'decision_function_shape': 'ovr', 'random_state': 0, 'shrinking': False, 'gamma': 0.01}, mean: 0.63545, std: 0.00530, params: {'kernel': 'rbf', 'C': 50, 'decision_function_shape': 'ovr', 'random_state': 20, 'shrinking': True, 'gamma': 0.01}, mean: 0.63545, std: 0.00530, params: {'kernel': 'rbf', 'C': 50, 'decision_function_shape': 'ovr', 'random_state': 20, 'shrinking': False, 'gamma': 0.01}, mean: 0.63545, std: 0.00530, params: {'kernel': 'rbf', 'C': 50, 'decision_function_shape': 'ovr', 'random_state': 40, 'shrinking': True, 'gamma': 0.01}, mean: 0.63545, std: 0.00530, params: {'kernel': 'rbf', 'C': 50, 'decision_function_shape': 'ovr', 'random_state': 40, 'shrinking': False, 'gamma': 0.01}, mean: 0.56443, std: 0.00520, params: {'kernel': 'rbf', 'C': 50, 'decision_function_shape': 'ovr', 'random_state': 0, 'shrinking': True, 'gamma': 0.005}, mean: 0.56445, std: 0.00517, params: {'kernel': 'rbf', 'C': 50, 'decision_function_shape': 'ovr', 'random_state': 0, 'shrinking': False, 'gamma': 0.005}, mean: 0.56443, std: 0.00520, params: {'kernel': 'rbf', 'C': 50, 'decision_function_shape': 'ovr', 'random_state': 20, 'shrinking': True, 'gamma': 0.005}, mean: 0.56445, std: 0.00517, params: {'kernel': 'rbf', 'C': 50, 'decision_function_shape': 'ovr', 'random_state': 20, 'shrinking': False, 'gamma': 0.005}, mean: 0.56443, std: 0.00520, params: {'kernel': 'rbf', 'C': 50, 'decision_function_shape': 'ovr', 'random_state': 40, 'shrinking': True, 'gamma': 0.005}, mean: 0.56445, std: 0.00517, params: {'kernel': 'rbf', 'C': 50, 'decision_function_shape': 'ovr', 'random_state': 40, 'shrinking': False, 'gamma': 0.005}, mean: 0.44238, std: 0.00470, params: {'kernel': 'rbf', 'C': 50, 'decision_function_shape': 'ovr', 'random_state': 0, 'shrinking': True, 'gamma': 0.001}, mean: 0.44240, std: 0.00464, params: {'kernel': 'rbf', 'C': 50, 'decision_function_shape': 'ovr', 'random_state': 0, 'shrinking': False, 'gamma': 0.001}, mean: 0.44238, std: 0.00470, params: {'kernel': 'rbf', 'C': 50, 'decision_function_shape': 'ovr', 'random_state': 20, 'shrinking': True, 'gamma': 0.001}, mean: 0.44240, std: 0.00464, params: {'kernel': 'rbf', 'C': 50, 'decision_function_shape': 'ovr', 'random_state': 20, 'shrinking': False, 'gamma': 0.001}, mean: 0.44238, std: 0.00470, params: {'kernel': 'rbf', 'C': 50, 'decision_function_shape': 'ovr', 'random_state': 40, 'shrinking': True, 'gamma': 0.001}, mean: 0.44240, std: 0.00464, params: {'kernel': 'rbf', 'C': 50, 'decision_function_shape': 'ovr', 'random_state': 40, 'shrinking': False, 'gamma': 0.001}, mean: 0.79933, std: 0.00377, params: {'kernel': 'rbf', 'C': 50, 'decision_function_shape': 'ovo', 'random_state': 0, 'shrinking': True, 'gamma': 'auto'}, mean: 0.79933, std: 0.00377, params: {'kernel': 'rbf', 'C': 50, 'decision_function_shape': 'ovo', 'random_state': 0, 'shrinking': False, 'gamma': 'auto'}, mean: 0.79933, std: 0.00377, params: {'kernel': 'rbf', 'C': 50, 'decision_function_shape': 'ovo', 'random_state': 20, 'shrinking': True, 'gamma': 'auto'}, mean: 0.79933, std: 0.00377, params: {'kernel': 'rbf', 'C': 50, 'decision_function_shape': 'ovo', 'random_state': 20, 'shrinking': False, 'gamma': 'auto'}, mean: 0.79933, std: 0.00377, params: {'kernel': 'rbf', 'C': 50, 'decision_function_shape': 'ovo', 'random_state': 40, 'shrinking': True, 'gamma': 'auto'}, mean: 0.79933, std: 0.00377, params: {'kernel': 'rbf', 'C': 50, 'decision_function_shape': 'ovo', 'random_state': 40, 'shrinking': False, 'gamma': 'auto'}, mean: 0.82662, std: 0.00253, params: {'kernel': 'rbf', 'C': 50, 'decision_function_shape': 'ovo', 'random_state': 0, 'shrinking': True, 'gamma': 0.1}, mean: 0.82664, std: 0.00254, params: {'kernel': 'rbf', 'C': 50, 'decision_function_shape': 'ovo', 'random_state': 0, 'shrinking': False, 'gamma': 0.1}, mean: 0.82662, std: 0.00253, params: {'kernel': 'rbf', 'C': 50, 'decision_function_shape': 'ovo', 'random_state': 20, 'shrinking': True, 'gamma': 0.1}, mean: 0.82664, std: 0.00254, params: {'kernel': 'rbf', 'C': 50, 'decision_function_shape': 'ovo', 'random_state': 20, 'shrinking': False, 'gamma': 0.1}, mean: 0.82662, std: 0.00253, params: {'kernel': 'rbf', 'C': 50, 'decision_function_shape': 'ovo', 'random_state': 40, 'shrinking': True, 'gamma': 0.1}, mean: 0.82664, std: 0.00254, params: {'kernel': 'rbf', 'C': 50, 'decision_function_shape': 'ovo', 'random_state': 40, 'shrinking': False, 'gamma': 0.1}, mean: 0.77050, std: 0.00221, params: {'kernel': 'rbf', 'C': 50, 'decision_function_shape': 'ovo', 'random_state': 0, 'shrinking': True, 'gamma': 0.05}, mean: 0.77052, std: 0.00220, params: {'kernel': 'rbf', 'C': 50, 'decision_function_shape': 'ovo', 'random_state': 0, 'shrinking': False, 'gamma': 0.05}, mean: 0.77050, std: 0.00221, params: {'kernel': 'rbf', 'C': 50, 'decision_function_shape': 'ovo', 'random_state': 20, 'shrinking': True, 'gamma': 0.05}, mean: 0.77052, std: 0.00220, params: {'kernel': 'rbf', 'C': 50, 'decision_function_shape': 'ovo', 'random_state': 20, 'shrinking': False, 'gamma': 0.05}, mean: 0.77050, std: 0.00221, params: {'kernel': 'rbf', 'C': 50, 'decision_function_shape': 'ovo', 'random_state': 40, 'shrinking': True, 'gamma': 0.05}, mean: 0.77052, std: 0.00220, params: {'kernel': 'rbf', 'C': 50, 'decision_function_shape': 'ovo', 'random_state': 40, 'shrinking': False, 'gamma': 0.05}, mean: 0.63545, std: 0.00530, params: {'kernel': 'rbf', 'C': 50, 'decision_function_shape': 'ovo', 'random_state': 0, 'shrinking': True, 'gamma': 0.01}, mean: 0.63545, std: 0.00530, params: {'kernel': 'rbf', 'C': 50, 'decision_function_shape': 'ovo', 'random_state': 0, 'shrinking': False, 'gamma': 0.01}, mean: 0.63545, std: 0.00530, params: {'kernel': 'rbf', 'C': 50, 'decision_function_shape': 'ovo', 'random_state': 20, 'shrinking': True, 'gamma': 0.01}, mean: 0.63545, std: 0.00530, params: {'kernel': 'rbf', 'C': 50, 'decision_function_shape': 'ovo', 'random_state': 20, 'shrinking': False, 'gamma': 0.01}, mean: 0.63545, std: 0.00530, params: {'kernel': 'rbf', 'C': 50, 'decision_function_shape': 'ovo', 'random_state': 40, 'shrinking': True, 'gamma': 0.01}, mean: 0.63545, std: 0.00530, params: {'kernel': 'rbf', 'C': 50, 'decision_function_shape': 'ovo', 'random_state': 40, 'shrinking': False, 'gamma': 0.01}, mean: 0.56443, std: 0.00520, params: {'kernel': 'rbf', 'C': 50, 'decision_function_shape': 'ovo', 'random_state': 0, 'shrinking': True, 'gamma': 0.005}, mean: 0.56445, std: 0.00517, params: {'kernel': 'rbf', 'C': 50, 'decision_function_shape': 'ovo', 'random_state': 0, 'shrinking': False, 'gamma': 0.005}, mean: 0.56443, std: 0.00520, params: {'kernel': 'rbf', 'C': 50, 'decision_function_shape': 'ovo', 'random_state': 20, 'shrinking': True, 'gamma': 0.005}, mean: 0.56445, std: 0.00517, params: {'kernel': 'rbf', 'C': 50, 'decision_function_shape': 'ovo', 'random_state': 20, 'shrinking': False, 'gamma': 0.005}, mean: 0.56443, std: 0.00520, params: {'kernel': 'rbf', 'C': 50, 'decision_function_shape': 'ovo', 'random_state': 40, 'shrinking': True, 'gamma': 0.005}, mean: 0.56445, std: 0.00517, params: {'kernel': 'rbf', 'C': 50, 'decision_function_shape': 'ovo', 'random_state': 40, 'shrinking': False, 'gamma': 0.005}, mean: 0.44238, std: 0.00470, params: {'kernel': 'rbf', 'C': 50, 'decision_function_shape': 'ovo', 'random_state': 0, 'shrinking': True, 'gamma': 0.001}, mean: 0.44240, std: 0.00464, params: {'kernel': 'rbf', 'C': 50, 'decision_function_shape': 'ovo', 'random_state': 0, 'shrinking': False, 'gamma': 0.001}, mean: 0.44238, std: 0.00470, params: {'kernel': 'rbf', 'C': 50, 'decision_function_shape': 'ovo', 'random_state': 20, 'shrinking': True, 'gamma': 0.001}, mean: 0.44240, std: 0.00464, params: {'kernel': 'rbf', 'C': 50, 'decision_function_shape': 'ovo', 'random_state': 20, 'shrinking': False, 'gamma': 0.001}, mean: 0.44238, std: 0.00470, params: {'kernel': 'rbf', 'C': 50, 'decision_function_shape': 'ovo', 'random_state': 40, 'shrinking': True, 'gamma': 0.001}, mean: 0.44240, std: 0.00464, params: {'kernel': 'rbf', 'C': 50, 'decision_function_shape': 'ovo', 'random_state': 40, 'shrinking': False, 'gamma': 0.001}, mean: 0.79933, std: 0.00377, params: {'kernel': 'rbf', 'C': 50, 'decision_function_shape': None, 'random_state': 0, 'shrinking': True, 'gamma': 'auto'}, mean: 0.79933, std: 0.00377, params: {'kernel': 'rbf', 'C': 50, 'decision_function_shape': None, 'random_state': 0, 'shrinking': False, 'gamma': 'auto'}, mean: 0.79933, std: 0.00377, params: {'kernel': 'rbf', 'C': 50, 'decision_function_shape': None, 'random_state': 20, 'shrinking': True, 'gamma': 'auto'}, mean: 0.79933, std: 0.00377, params: {'kernel': 'rbf', 'C': 50, 'decision_function_shape': None, 'random_state': 20, 'shrinking': False, 'gamma': 'auto'}, mean: 0.79933, std: 0.00377, params: {'kernel': 'rbf', 'C': 50, 'decision_function_shape': None, 'random_state': 40, 'shrinking': True, 'gamma': 'auto'}, mean: 0.79933, std: 0.00377, params: {'kernel': 'rbf', 'C': 50, 'decision_function_shape': None, 'random_state': 40, 'shrinking': False, 'gamma': 'auto'}, mean: 0.82662, std: 0.00253, params: {'kernel': 'rbf', 'C': 50, 'decision_function_shape': None, 'random_state': 0, 'shrinking': True, 'gamma': 0.1}, mean: 0.82664, std: 0.00254, params: {'kernel': 'rbf', 'C': 50, 'decision_function_shape': None, 'random_state': 0, 'shrinking': False, 'gamma': 0.1}, mean: 0.82662, std: 0.00253, params: {'kernel': 'rbf', 'C': 50, 'decision_function_shape': None, 'random_state': 20, 'shrinking': True, 'gamma': 0.1}, mean: 0.82664, std: 0.00254, params: {'kernel': 'rbf', 'C': 50, 'decision_function_shape': None, 'random_state': 20, 'shrinking': False, 'gamma': 0.1}, mean: 0.82662, std: 0.00253, params: {'kernel': 'rbf', 'C': 50, 'decision_function_shape': None, 'random_state': 40, 'shrinking': True, 'gamma': 0.1}, mean: 0.82664, std: 0.00254, params: {'kernel': 'rbf', 'C': 50, 'decision_function_shape': None, 'random_state': 40, 'shrinking': False, 'gamma': 0.1}, mean: 0.77050, std: 0.00221, params: {'kernel': 'rbf', 'C': 50, 'decision_function_shape': None, 'random_state': 0, 'shrinking': True, 'gamma': 0.05}, mean: 0.77052, std: 0.00220, params: {'kernel': 'rbf', 'C': 50, 'decision_function_shape': None, 'random_state': 0, 'shrinking': False, 'gamma': 0.05}, mean: 0.77050, std: 0.00221, params: {'kernel': 'rbf', 'C': 50, 'decision_function_shape': None, 'random_state': 20, 'shrinking': True, 'gamma': 0.05}, mean: 0.77052, std: 0.00220, params: {'kernel': 'rbf', 'C': 50, 'decision_function_shape': None, 'random_state': 20, 'shrinking': False, 'gamma': 0.05}, mean: 0.77050, std: 0.00221, params: {'kernel': 'rbf', 'C': 50, 'decision_function_shape': None, 'random_state': 40, 'shrinking': True, 'gamma': 0.05}, mean: 0.77052, std: 0.00220, params: {'kernel': 'rbf', 'C': 50, 'decision_function_shape': None, 'random_state': 40, 'shrinking': False, 'gamma': 0.05}, mean: 0.63545, std: 0.00530, params: {'kernel': 'rbf', 'C': 50, 'decision_function_shape': None, 'random_state': 0, 'shrinking': True, 'gamma': 0.01}, mean: 0.63545, std: 0.00530, params: {'kernel': 'rbf', 'C': 50, 'decision_function_shape': None, 'random_state': 0, 'shrinking': False, 'gamma': 0.01}, mean: 0.63545, std: 0.00530, params: {'kernel': 'rbf', 'C': 50, 'decision_function_shape': None, 'random_state': 20, 'shrinking': True, 'gamma': 0.01}, mean: 0.63545, std: 0.00530, params: {'kernel': 'rbf', 'C': 50, 'decision_function_shape': None, 'random_state': 20, 'shrinking': False, 'gamma': 0.01}, mean: 0.63545, std: 0.00530, params: {'kernel': 'rbf', 'C': 50, 'decision_function_shape': None, 'random_state': 40, 'shrinking': True, 'gamma': 0.01}, mean: 0.63545, std: 0.00530, params: {'kernel': 'rbf', 'C': 50, 'decision_function_shape': None, 'random_state': 40, 'shrinking': False, 'gamma': 0.01}, mean: 0.56443, std: 0.00520, params: {'kernel': 'rbf', 'C': 50, 'decision_function_shape': None, 'random_state': 0, 'shrinking': True, 'gamma': 0.005}, mean: 0.56445, std: 0.00517, params: {'kernel': 'rbf', 'C': 50, 'decision_function_shape': None, 'random_state': 0, 'shrinking': False, 'gamma': 0.005}, mean: 0.56443, std: 0.00520, params: {'kernel': 'rbf', 'C': 50, 'decision_function_shape': None, 'random_state': 20, 'shrinking': True, 'gamma': 0.005}, mean: 0.56445, std: 0.00517, params: {'kernel': 'rbf', 'C': 50, 'decision_function_shape': None, 'random_state': 20, 'shrinking': False, 'gamma': 0.005}, mean: 0.56443, std: 0.00520, params: {'kernel': 'rbf', 'C': 50, 'decision_function_shape': None, 'random_state': 40, 'shrinking': True, 'gamma': 0.005}, mean: 0.56445, std: 0.00517, params: {'kernel': 'rbf', 'C': 50, 'decision_function_shape': None, 'random_state': 40, 'shrinking': False, 'gamma': 0.005}, mean: 0.44238, std: 0.00470, params: {'kernel': 'rbf', 'C': 50, 'decision_function_shape': None, 'random_state': 0, 'shrinking': True, 'gamma': 0.001}, mean: 0.44240, std: 0.00464, params: {'kernel': 'rbf', 'C': 50, 'decision_function_shape': None, 'random_state': 0, 'shrinking': False, 'gamma': 0.001}, mean: 0.44238, std: 0.00470, params: {'kernel': 'rbf', 'C': 50, 'decision_function_shape': None, 'random_state': 20, 'shrinking': True, 'gamma': 0.001}, mean: 0.44240, std: 0.00464, params: {'kernel': 'rbf', 'C': 50, 'decision_function_shape': None, 'random_state': 20, 'shrinking': False, 'gamma': 0.001}, mean: 0.44238, std: 0.00470, params: {'kernel': 'rbf', 'C': 50, 'decision_function_shape': None, 'random_state': 40, 'shrinking': True, 'gamma': 0.001}, mean: 0.44240, std: 0.00464, params: {'kernel': 'rbf', 'C': 50, 'decision_function_shape': None, 'random_state': 40, 'shrinking': False, 'gamma': 0.001}, mean: 0.82274, std: 0.00272, params: {'kernel': 'rbf', 'C': 100, 'decision_function_shape': 'ovr', 'random_state': 0, 'shrinking': True, 'gamma': 'auto'}, mean: 0.82276, std: 0.00273, params: {'kernel': 'rbf', 'C': 100, 'decision_function_shape': 'ovr', 'random_state': 0, 'shrinking': False, 'gamma': 'auto'}, mean: 0.82274, std: 0.00272, params: {'kernel': 'rbf', 'C': 100, 'decision_function_shape': 'ovr', 'random_state': 20, 'shrinking': True, 'gamma': 'auto'}, mean: 0.82276, std: 0.00273, params: {'kernel': 'rbf', 'C': 100, 'decision_function_shape': 'ovr', 'random_state': 20, 'shrinking': False, 'gamma': 'auto'}, mean: 0.82274, std: 0.00272, params: {'kernel': 'rbf', 'C': 100, 'decision_function_shape': 'ovr', 'random_state': 40, 'shrinking': True, 'gamma': 'auto'}, mean: 0.82276, std: 0.00273, params: {'kernel': 'rbf', 'C': 100, 'decision_function_shape': 'ovr', 'random_state': 40, 'shrinking': False, 'gamma': 'auto'}, mean: 0.84817, std: 0.00195, params: {'kernel': 'rbf', 'C': 100, 'decision_function_shape': 'ovr', 'random_state': 0, 'shrinking': True, 'gamma': 0.1}, mean: 0.84814, std: 0.00195, params: {'kernel': 'rbf', 'C': 100, 'decision_function_shape': 'ovr', 'random_state': 0, 'shrinking': False, 'gamma': 0.1}, mean: 0.84817, std: 0.00195, params: {'kernel': 'rbf', 'C': 100, 'decision_function_shape': 'ovr', 'random_state': 20, 'shrinking': True, 'gamma': 0.1}, mean: 0.84814, std: 0.00195, params: {'kernel': 'rbf', 'C': 100, 'decision_function_shape': 'ovr', 'random_state': 20, 'shrinking': False, 'gamma': 0.1}, mean: 0.84817, std: 0.00195, params: {'kernel': 'rbf', 'C': 100, 'decision_function_shape': 'ovr', 'random_state': 40, 'shrinking': True, 'gamma': 0.1}, mean: 0.84814, std: 0.00195, params: {'kernel': 'rbf', 'C': 100, 'decision_function_shape': 'ovr', 'random_state': 40, 'shrinking': False, 'gamma': 0.1}, mean: 0.79526, std: 0.00427, params: {'kernel': 'rbf', 'C': 100, 'decision_function_shape': 'ovr', 'random_state': 0, 'shrinking': True, 'gamma': 0.05}, mean: 0.79529, std: 0.00425, params: {'kernel': 'rbf', 'C': 100, 'decision_function_shape': 'ovr', 'random_state': 0, 'shrinking': False, 'gamma': 0.05}, mean: 0.79526, std: 0.00427, params: {'kernel': 'rbf', 'C': 100, 'decision_function_shape': 'ovr', 'random_state': 20, 'shrinking': True, 'gamma': 0.05}, mean: 0.79529, std: 0.00425, params: {'kernel': 'rbf', 'C': 100, 'decision_function_shape': 'ovr', 'random_state': 20, 'shrinking': False, 'gamma': 0.05}, mean: 0.79526, std: 0.00427, params: {'kernel': 'rbf', 'C': 100, 'decision_function_shape': 'ovr', 'random_state': 40, 'shrinking': True, 'gamma': 0.05}, mean: 0.79529, std: 0.00425, params: {'kernel': 'rbf', 'C': 100, 'decision_function_shape': 'ovr', 'random_state': 40, 'shrinking': False, 'gamma': 0.05}, mean: 0.66352, std: 0.00418, params: {'kernel': 'rbf', 'C': 100, 'decision_function_shape': 'ovr', 'random_state': 0, 'shrinking': True, 'gamma': 0.01}, mean: 0.66352, std: 0.00413, params: {'kernel': 'rbf', 'C': 100, 'decision_function_shape': 'ovr', 'random_state': 0, 'shrinking': False, 'gamma': 0.01}, mean: 0.66352, std: 0.00418, params: {'kernel': 'rbf', 'C': 100, 'decision_function_shape': 'ovr', 'random_state': 20, 'shrinking': True, 'gamma': 0.01}, mean: 0.66352, std: 0.00413, params: {'kernel': 'rbf', 'C': 100, 'decision_function_shape': 'ovr', 'random_state': 20, 'shrinking': False, 'gamma': 0.01}, mean: 0.66352, std: 0.00418, params: {'kernel': 'rbf', 'C': 100, 'decision_function_shape': 'ovr', 'random_state': 40, 'shrinking': True, 'gamma': 0.01}, mean: 0.66352, std: 0.00413, params: {'kernel': 'rbf', 'C': 100, 'decision_function_shape': 'ovr', 'random_state': 40, 'shrinking': False, 'gamma': 0.01}, mean: 0.59743, std: 0.00662, params: {'kernel': 'rbf', 'C': 100, 'decision_function_shape': 'ovr', 'random_state': 0, 'shrinking': True, 'gamma': 0.005}, mean: 0.59743, std: 0.00659, params: {'kernel': 'rbf', 'C': 100, 'decision_function_shape': 'ovr', 'random_state': 0, 'shrinking': False, 'gamma': 0.005}, mean: 0.59743, std: 0.00662, params: {'kernel': 'rbf', 'C': 100, 'decision_function_shape': 'ovr', 'random_state': 20, 'shrinking': True, 'gamma': 0.005}, mean: 0.59743, std: 0.00659, params: {'kernel': 'rbf', 'C': 100, 'decision_function_shape': 'ovr', 'random_state': 20, 'shrinking': False, 'gamma': 0.005}, mean: 0.59743, std: 0.00662, params: {'kernel': 'rbf', 'C': 100, 'decision_function_shape': 'ovr', 'random_state': 40, 'shrinking': True, 'gamma': 0.005}, mean: 0.59743, std: 0.00659, params: {'kernel': 'rbf', 'C': 100, 'decision_function_shape': 'ovr', 'random_state': 40, 'shrinking': False, 'gamma': 0.005}, mean: 0.46398, std: 0.00580, params: {'kernel': 'rbf', 'C': 100, 'decision_function_shape': 'ovr', 'random_state': 0, 'shrinking': True, 'gamma': 0.001}, mean: 0.46400, std: 0.00583, params: {'kernel': 'rbf', 'C': 100, 'decision_function_shape': 'ovr', 'random_state': 0, 'shrinking': False, 'gamma': 0.001}, mean: 0.46398, std: 0.00580, params: {'kernel': 'rbf', 'C': 100, 'decision_function_shape': 'ovr', 'random_state': 20, 'shrinking': True, 'gamma': 0.001}, mean: 0.46400, std: 0.00583, params: {'kernel': 'rbf', 'C': 100, 'decision_function_shape': 'ovr', 'random_state': 20, 'shrinking': False, 'gamma': 0.001}, mean: 0.46398, std: 0.00580, params: {'kernel': 'rbf', 'C': 100, 'decision_function_shape': 'ovr', 'random_state': 40, 'shrinking': True, 'gamma': 0.001}, mean: 0.46400, std: 0.00583, params: {'kernel': 'rbf', 'C': 100, 'decision_function_shape': 'ovr', 'random_state': 40, 'shrinking': False, 'gamma': 0.001}, mean: 0.82274, std: 0.00272, params: {'kernel': 'rbf', 'C': 100, 'decision_function_shape': 'ovo', 'random_state': 0, 'shrinking': True, 'gamma': 'auto'}, mean: 0.82276, std: 0.00273, params: {'kernel': 'rbf', 'C': 100, 'decision_function_shape': 'ovo', 'random_state': 0, 'shrinking': False, 'gamma': 'auto'}, mean: 0.82274, std: 0.00272, params: {'kernel': 'rbf', 'C': 100, 'decision_function_shape': 'ovo', 'random_state': 20, 'shrinking': True, 'gamma': 'auto'}, mean: 0.82276, std: 0.00273, params: {'kernel': 'rbf', 'C': 100, 'decision_function_shape': 'ovo', 'random_state': 20, 'shrinking': False, 'gamma': 'auto'}, mean: 0.82274, std: 0.00272, params: {'kernel': 'rbf', 'C': 100, 'decision_function_shape': 'ovo', 'random_state': 40, 'shrinking': True, 'gamma': 'auto'}, mean: 0.82276, std: 0.00273, params: {'kernel': 'rbf', 'C': 100, 'decision_function_shape': 'ovo', 'random_state': 40, 'shrinking': False, 'gamma': 'auto'}, mean: 0.84817, std: 0.00195, params: {'kernel': 'rbf', 'C': 100, 'decision_function_shape': 'ovo', 'random_state': 0, 'shrinking': True, 'gamma': 0.1}, mean: 0.84814, std: 0.00195, params: {'kernel': 'rbf', 'C': 100, 'decision_function_shape': 'ovo', 'random_state': 0, 'shrinking': False, 'gamma': 0.1}, mean: 0.84817, std: 0.00195, params: {'kernel': 'rbf', 'C': 100, 'decision_function_shape': 'ovo', 'random_state': 20, 'shrinking': True, 'gamma': 0.1}, mean: 0.84814, std: 0.00195, params: {'kernel': 'rbf', 'C': 100, 'decision_function_shape': 'ovo', 'random_state': 20, 'shrinking': False, 'gamma': 0.1}, mean: 0.84817, std: 0.00195, params: {'kernel': 'rbf', 'C': 100, 'decision_function_shape': 'ovo', 'random_state': 40, 'shrinking': True, 'gamma': 0.1}, mean: 0.84814, std: 0.00195, params: {'kernel': 'rbf', 'C': 100, 'decision_function_shape': 'ovo', 'random_state': 40, 'shrinking': False, 'gamma': 0.1}, mean: 0.79526, std: 0.00427, params: {'kernel': 'rbf', 'C': 100, 'decision_function_shape': 'ovo', 'random_state': 0, 'shrinking': True, 'gamma': 0.05}, mean: 0.79529, std: 0.00425, params: {'kernel': 'rbf', 'C': 100, 'decision_function_shape': 'ovo', 'random_state': 0, 'shrinking': False, 'gamma': 0.05}, mean: 0.79526, std: 0.00427, params: {'kernel': 'rbf', 'C': 100, 'decision_function_shape': 'ovo', 'random_state': 20, 'shrinking': True, 'gamma': 0.05}, mean: 0.79529, std: 0.00425, params: {'kernel': 'rbf', 'C': 100, 'decision_function_shape': 'ovo', 'random_state': 20, 'shrinking': False, 'gamma': 0.05}, mean: 0.79526, std: 0.00427, params: {'kernel': 'rbf', 'C': 100, 'decision_function_shape': 'ovo', 'random_state': 40, 'shrinking': True, 'gamma': 0.05}, mean: 0.79529, std: 0.00425, params: {'kernel': 'rbf', 'C': 100, 'decision_function_shape': 'ovo', 'random_state': 40, 'shrinking': False, 'gamma': 0.05}, mean: 0.66352, std: 0.00418, params: {'kernel': 'rbf', 'C': 100, 'decision_function_shape': 'ovo', 'random_state': 0, 'shrinking': True, 'gamma': 0.01}, mean: 0.66352, std: 0.00413, params: {'kernel': 'rbf', 'C': 100, 'decision_function_shape': 'ovo', 'random_state': 0, 'shrinking': False, 'gamma': 0.01}, mean: 0.66352, std: 0.00418, params: {'kernel': 'rbf', 'C': 100, 'decision_function_shape': 'ovo', 'random_state': 20, 'shrinking': True, 'gamma': 0.01}, mean: 0.66352, std: 0.00413, params: {'kernel': 'rbf', 'C': 100, 'decision_function_shape': 'ovo', 'random_state': 20, 'shrinking': False, 'gamma': 0.01}, mean: 0.66352, std: 0.00418, params: {'kernel': 'rbf', 'C': 100, 'decision_function_shape': 'ovo', 'random_state': 40, 'shrinking': True, 'gamma': 0.01}, mean: 0.66352, std: 0.00413, params: {'kernel': 'rbf', 'C': 100, 'decision_function_shape': 'ovo', 'random_state': 40, 'shrinking': False, 'gamma': 0.01}, mean: 0.59743, std: 0.00662, params: {'kernel': 'rbf', 'C': 100, 'decision_function_shape': 'ovo', 'random_state': 0, 'shrinking': True, 'gamma': 0.005}, mean: 0.59743, std: 0.00659, params: {'kernel': 'rbf', 'C': 100, 'decision_function_shape': 'ovo', 'random_state': 0, 'shrinking': False, 'gamma': 0.005}, mean: 0.59743, std: 0.00662, params: {'kernel': 'rbf', 'C': 100, 'decision_function_shape': 'ovo', 'random_state': 20, 'shrinking': True, 'gamma': 0.005}, mean: 0.59743, std: 0.00659, params: {'kernel': 'rbf', 'C': 100, 'decision_function_shape': 'ovo', 'random_state': 20, 'shrinking': False, 'gamma': 0.005}, mean: 0.59743, std: 0.00662, params: {'kernel': 'rbf', 'C': 100, 'decision_function_shape': 'ovo', 'random_state': 40, 'shrinking': True, 'gamma': 0.005}, mean: 0.59743, std: 0.00659, params: {'kernel': 'rbf', 'C': 100, 'decision_function_shape': 'ovo', 'random_state': 40, 'shrinking': False, 'gamma': 0.005}, mean: 0.46398, std: 0.00580, params: {'kernel': 'rbf', 'C': 100, 'decision_function_shape': 'ovo', 'random_state': 0, 'shrinking': True, 'gamma': 0.001}, mean: 0.46400, std: 0.00583, params: {'kernel': 'rbf', 'C': 100, 'decision_function_shape': 'ovo', 'random_state': 0, 'shrinking': False, 'gamma': 0.001}, mean: 0.46398, std: 0.00580, params: {'kernel': 'rbf', 'C': 100, 'decision_function_shape': 'ovo', 'random_state': 20, 'shrinking': True, 'gamma': 0.001}, mean: 0.46400, std: 0.00583, params: {'kernel': 'rbf', 'C': 100, 'decision_function_shape': 'ovo', 'random_state': 20, 'shrinking': False, 'gamma': 0.001}, mean: 0.46398, std: 0.00580, params: {'kernel': 'rbf', 'C': 100, 'decision_function_shape': 'ovo', 'random_state': 40, 'shrinking': True, 'gamma': 0.001}, mean: 0.46400, std: 0.00583, params: {'kernel': 'rbf', 'C': 100, 'decision_function_shape': 'ovo', 'random_state': 40, 'shrinking': False, 'gamma': 0.001}, mean: 0.82274, std: 0.00272, params: {'kernel': 'rbf', 'C': 100, 'decision_function_shape': None, 'random_state': 0, 'shrinking': True, 'gamma': 'auto'}, mean: 0.82276, std: 0.00273, params: {'kernel': 'rbf', 'C': 100, 'decision_function_shape': None, 'random_state': 0, 'shrinking': False, 'gamma': 'auto'}, mean: 0.82274, std: 0.00272, params: {'kernel': 'rbf', 'C': 100, 'decision_function_shape': None, 'random_state': 20, 'shrinking': True, 'gamma': 'auto'}, mean: 0.82276, std: 0.00273, params: {'kernel': 'rbf', 'C': 100, 'decision_function_shape': None, 'random_state': 20, 'shrinking': False, 'gamma': 'auto'}, mean: 0.82274, std: 0.00272, params: {'kernel': 'rbf', 'C': 100, 'decision_function_shape': None, 'random_state': 40, 'shrinking': True, 'gamma': 'auto'}, mean: 0.82276, std: 0.00273, params: {'kernel': 'rbf', 'C': 100, 'decision_function_shape': None, 'random_state': 40, 'shrinking': False, 'gamma': 'auto'}, mean: 0.84817, std: 0.00195, params: {'kernel': 'rbf', 'C': 100, 'decision_function_shape': None, 'random_state': 0, 'shrinking': True, 'gamma': 0.1}, mean: 0.84814, std: 0.00195, params: {'kernel': 'rbf', 'C': 100, 'decision_function_shape': None, 'random_state': 0, 'shrinking': False, 'gamma': 0.1}, mean: 0.84817, std: 0.00195, params: {'kernel': 'rbf', 'C': 100, 'decision_function_shape': None, 'random_state': 20, 'shrinking': True, 'gamma': 0.1}, mean: 0.84814, std: 0.00195, params: {'kernel': 'rbf', 'C': 100, 'decision_function_shape': None, 'random_state': 20, 'shrinking': False, 'gamma': 0.1}, mean: 0.84817, std: 0.00195, params: {'kernel': 'rbf', 'C': 100, 'decision_function_shape': None, 'random_state': 40, 'shrinking': True, 'gamma': 0.1}, mean: 0.84814, std: 0.00195, params: {'kernel': 'rbf', 'C': 100, 'decision_function_shape': None, 'random_state': 40, 'shrinking': False, 'gamma': 0.1}, mean: 0.79526, std: 0.00427, params: {'kernel': 'rbf', 'C': 100, 'decision_function_shape': None, 'random_state': 0, 'shrinking': True, 'gamma': 0.05}, mean: 0.79529, std: 0.00425, params: {'kernel': 'rbf', 'C': 100, 'decision_function_shape': None, 'random_state': 0, 'shrinking': False, 'gamma': 0.05}, mean: 0.79526, std: 0.00427, params: {'kernel': 'rbf', 'C': 100, 'decision_function_shape': None, 'random_state': 20, 'shrinking': True, 'gamma': 0.05}, mean: 0.79529, std: 0.00425, params: {'kernel': 'rbf', 'C': 100, 'decision_function_shape': None, 'random_state': 20, 'shrinking': False, 'gamma': 0.05}, mean: 0.79526, std: 0.00427, params: {'kernel': 'rbf', 'C': 100, 'decision_function_shape': None, 'random_state': 40, 'shrinking': True, 'gamma': 0.05}, mean: 0.79529, std: 0.00425, params: {'kernel': 'rbf', 'C': 100, 'decision_function_shape': None, 'random_state': 40, 'shrinking': False, 'gamma': 0.05}, mean: 0.66352, std: 0.00418, params: {'kernel': 'rbf', 'C': 100, 'decision_function_shape': None, 'random_state': 0, 'shrinking': True, 'gamma': 0.01}, mean: 0.66352, std: 0.00413, params: {'kernel': 'rbf', 'C': 100, 'decision_function_shape': None, 'random_state': 0, 'shrinking': False, 'gamma': 0.01}, mean: 0.66352, std: 0.00418, params: {'kernel': 'rbf', 'C': 100, 'decision_function_shape': None, 'random_state': 20, 'shrinking': True, 'gamma': 0.01}, mean: 0.66352, std: 0.00413, params: {'kernel': 'rbf', 'C': 100, 'decision_function_shape': None, 'random_state': 20, 'shrinking': False, 'gamma': 0.01}, mean: 0.66352, std: 0.00418, params: {'kernel': 'rbf', 'C': 100, 'decision_function_shape': None, 'random_state': 40, 'shrinking': True, 'gamma': 0.01}, mean: 0.66352, std: 0.00413, params: {'kernel': 'rbf', 'C': 100, 'decision_function_shape': None, 'random_state': 40, 'shrinking': False, 'gamma': 0.01}, mean: 0.59743, std: 0.00662, params: {'kernel': 'rbf', 'C': 100, 'decision_function_shape': None, 'random_state': 0, 'shrinking': True, 'gamma': 0.005}, mean: 0.59743, std: 0.00659, params: {'kernel': 'rbf', 'C': 100, 'decision_function_shape': None, 'random_state': 0, 'shrinking': False, 'gamma': 0.005}, mean: 0.59743, std: 0.00662, params: {'kernel': 'rbf', 'C': 100, 'decision_function_shape': None, 'random_state': 20, 'shrinking': True, 'gamma': 0.005}, mean: 0.59743, std: 0.00659, params: {'kernel': 'rbf', 'C': 100, 'decision_function_shape': None, 'random_state': 20, 'shrinking': False, 'gamma': 0.005}, mean: 0.59743, std: 0.00662, params: {'kernel': 'rbf', 'C': 100, 'decision_function_shape': None, 'random_state': 40, 'shrinking': True, 'gamma': 0.005}, mean: 0.59743, std: 0.00659, params: {'kernel': 'rbf', 'C': 100, 'decision_function_shape': None, 'random_state': 40, 'shrinking': False, 'gamma': 0.005}, mean: 0.46398, std: 0.00580, params: {'kernel': 'rbf', 'C': 100, 'decision_function_shape': None, 'random_state': 0, 'shrinking': True, 'gamma': 0.001}, mean: 0.46400, std: 0.00583, params: {'kernel': 'rbf', 'C': 100, 'decision_function_shape': None, 'random_state': 0, 'shrinking': False, 'gamma': 0.001}, mean: 0.46398, std: 0.00580, params: {'kernel': 'rbf', 'C': 100, 'decision_function_shape': None, 'random_state': 20, 'shrinking': True, 'gamma': 0.001}, mean: 0.46400, std: 0.00583, params: {'kernel': 'rbf', 'C': 100, 'decision_function_shape': None, 'random_state': 20, 'shrinking': False, 'gamma': 0.001}, mean: 0.46398, std: 0.00580, params: {'kernel': 'rbf', 'C': 100, 'decision_function_shape': None, 'random_state': 40, 'shrinking': True, 'gamma': 0.001}, mean: 0.46400, std: 0.00583, params: {'kernel': 'rbf', 'C': 100, 'decision_function_shape': None, 'random_state': 40, 'shrinking': False, 'gamma': 0.001}]\n"
     ]
    }
   ],
   "source": [
    "#Known\n",
    "\n",
    "\"\"\"\n",
    "df = read_csv(\".\\\\..\\\\Data\\\\Readings_b_0102_31_01_2016.csv\")\n",
    "y = df['Class']\n",
    "#Unknown\n",
    "df_u = read_csv(\".\\\\..\\\\Data\\\\Readings_b_03_31_01_2016.csv\")\n",
    "y_fromBeyond = df_u['Class']\n",
    "\n",
    "if __name__ == '__main__':\n",
    "    print('number_of_features,features,best_score,unknown_data_score')\n",
    "    #SVM and parameters\n",
    "    svm = SVC()\n",
    "    param_grid = [{'C': [1, 10, 100], 'gamma': [0.1, 0.01, 0.001], 'kernel': ['rbf']}]\n",
    "    clf = grid_search.GridSearchCV(svm, param_grid, n_jobs=-1)\n",
    "\n",
    "    features = [0, 1, 2, 3, 4, 5, 6, 7, 8, 9, 10, 11, 12, 13]\n",
    "    stdsc = StandardScaler()\n",
    "    for i in xrange(13, 15):\n",
    "        for j in combinations(features, i):\n",
    "            #Select columns from table\n",
    "            X = df.ix[:, list(j)]\n",
    "            X_fromBeyond = df_u.ix[:, list(j)]  \n",
    "            #Standarize values\n",
    "            X_train, X_test, y_train, y_test = train_test_split(X, y, test_size=0.3, random_state=0)\n",
    "            X_train_std = stdsc.fit_transform(X_train)\n",
    "            X_test_std = stdsc.transform(X_test)\n",
    "            X_fromBeyond_std = stdsc.transform(X_fromBeyond)\n",
    "    \n",
    "            clf.fit(X_train_std, y_train)\n",
    "            print('{},{},{},{}'.format(i,repr(j).replace(',',' '),clf.best_score_,clf.score(X_fromBeyond_std, y_fromBeyond)))\n",
    "            \n",
    "\"\"\"\n",
    "#Selected best features for files in selected order\n",
    "#csv_file_features = ((0, 1, 2, 3, 4, 5, 7, 9, 10, 12, 13), (0, 1, 2, 3, 4, 5, 7, 8, 9, 10, 11, 12, 13), (1, 2, 3, 4, 7, 8, 9, 10, 11, 12, 13), (0, 1, 2, 3, 4, 5, 7, 9, 10, 11, 12, 13), \n",
    "#                     (0, 2, 6, 8, 13), (3, 4, 5, 9), (0, 1, 2, 3, 7, 8), (0, 1, 2, 3, 4, 6, 8, 10), \n",
    "#            (1, 5, 6, 7, 10, 13), (0, 1, 2, 3, 4, 5, 6, 7, 8, 9, 10, 11, 12, 13), (0, 1, 2, 7, 9, 10, 11, 12, 13), (0, 1, 2, 3, 4, 5, 6, 7, 8, 9, 10, 11, 12))\n",
    "\n",
    "csv_file_features = ((0, 1, 2, 3, 4, 5, 6, 7, 8, 9, 10, 11, 12, 13))\n",
    "features_index = 0\n",
    "print('file,train_Score,test_Score')\n",
    "for i in listdir('.'):\n",
    "    if (isfile(i) == False) or (i[-3:] != 'csv'):\n",
    "        continue\n",
    "    df = read_csv(i)\n",
    "    \n",
    "    y = df['Class']\n",
    "    if __name__ == '__main__':\n",
    "        X = df.ix[:, [0, 1, 2, 3, 4, 5, 6, 7, 8, 9, 10, 11, 12, 13]]\n",
    "        features_index += 1\n",
    "        X_train, X_test, y_train, y_test = train_test_split(X, y, test_size=0.3, random_state=0)\n",
    "        #mmscaler = MinMaxScaler()\n",
    "        stdsc = StandardScaler()\n",
    "        X_train_std = stdsc.fit_transform(X_train)\n",
    "        X_test_std = stdsc.transform(X_test)\n",
    "        #X_train_mms = mmscaler.fit_transform(X_train)\n",
    "        #X_test_mms = mmscaler.transform(X_test)\n",
    "        svm = SVC()\n",
    "        param_grid = [{'C': [1, 5, 10, 50, 100], 'gamma': ['auto', 0.1, 0.05, 0.01, 0.005, 0.001], 'kernel': ['rbf'], 'shrinking': [True, False], 'decision_function_shape': ['ovr', 'ovo', None], 'random_state': [0, 20, 40]}]\n",
    "        clf = grid_search.GridSearchCV(svm, param_grid, n_jobs=-1)\n",
    "        clf.fit(X_train_std, y_train)\n",
    "        print('{},{},{}'.format(i,clf.score(X_train_std, y_train),clf.score(X_test_std, y_test)))\n",
    "        print(clf.best_estimator_)\n",
    "        print(clf.best_score_)\n",
    "        print(clf.best_params_)\n",
    "        print(clf.grid_scores_)\n",
    "        #clf.fit(X_train, y_train)\n",
    "        #print('{},{},{}'.format(i,clf.score(X_train, y_train),clf.score(X_test, y_test)))"
   ]
  },
  {
   "cell_type": "code",
   "execution_count": 5,
   "metadata": {
    "collapsed": false
   },
   "outputs": [
    {
     "name": "stdout",
     "output_type": "stream",
     "text": [
      "Test are made in the following order:\n",
      "Selected the above the mean features from all three techinques -> [0,1,2,3,4,5,6,7,8,9,12,13]\n",
      "Typical testors -> [0,1,2,3,4,5,6,7,8,9,12,13]\n",
      "SBS -> [0,1,2,3,4,5,7,8,9,11,12,13]\n",
      "Fractal dimension -> [1,2,3,4,5,6,7,8,9,10,12]]\n",
      "\n",
      "Results are given in the following order:\n",
      "File name, Features, Training score, Test score, SVM parameters\n",
      "\n",
      "Current File: Recordings_02.csv -------->\n",
      "\n",
      "Recordings_02.csv, [0, 1, 2, 3, 4, 5, 6, 7, 8, 9, 12, 13], 0.994725274725, 0.993846153846, {'kernel': 'rbf', 'C': 100, 'decision_function_shape': 'ovr', 'random_state': 0, 'shrinking': True, 'gamma': 0.1}\n",
      "\n",
      "Recordings_02.csv, [0, 1, 2, 3, 4, 5, 6, 7, 8, 9, 12, 13], 0.994725274725, 0.993846153846, {'kernel': 'rbf', 'C': 100, 'decision_function_shape': 'ovr', 'random_state': 0, 'shrinking': True, 'gamma': 0.1}\n",
      "\n",
      "Recordings_02.csv, [0, 1, 2, 3, 4, 5, 7, 8, 9, 11, 12, 13], 0.993406593407, 0.991794871795, {'kernel': 'rbf', 'C': 100, 'decision_function_shape': 'ovr', 'random_state': 0, 'shrinking': True, 'gamma': 0.1}\n",
      "\n",
      "Recordings_02.csv, [1, 2, 3, 4, 5, 6, 7, 8, 9, 10, 12], 0.996043956044, 0.994871794872, {'kernel': 'rbf', 'C': 100, 'decision_function_shape': 'ovr', 'random_state': 0, 'shrinking': True, 'gamma': 'auto'}\n",
      "\n",
      "Current File: Recordings_04.csv -------->\n",
      "\n",
      "Recordings_04.csv, [0, 1, 2, 3, 4, 5, 6, 7, 8, 9, 12, 13], 0.997362637363, 0.995897435897, {'kernel': 'rbf', 'C': 100, 'decision_function_shape': 'ovr', 'random_state': 0, 'shrinking': True, 'gamma': 0.1}\n",
      "\n",
      "Recordings_04.csv, [0, 1, 2, 3, 4, 5, 6, 7, 8, 9, 12, 13], 0.997362637363, 0.995897435897, {'kernel': 'rbf', 'C': 100, 'decision_function_shape': 'ovr', 'random_state': 0, 'shrinking': True, 'gamma': 0.1}\n",
      "\n",
      "Recordings_04.csv, [0, 1, 2, 3, 4, 5, 7, 8, 9, 11, 12, 13], 0.996483516484, 0.994871794872, {'kernel': 'rbf', 'C': 100, 'decision_function_shape': 'ovr', 'random_state': 0, 'shrinking': True, 'gamma': 0.1}\n",
      "\n",
      "Recordings_04.csv, [1, 2, 3, 4, 5, 6, 7, 8, 9, 10, 12], 0.982857142857, 0.974358974359, {'kernel': 'rbf', 'C': 100, 'decision_function_shape': 'ovr', 'random_state': 0, 'shrinking': True, 'gamma': 0.1}\n",
      "\n",
      "Current File: Recordings_09.csv -------->\n",
      "\n",
      "Recordings_09.csv, [0, 1, 2, 3, 4, 5, 6, 7, 8, 9, 12, 13], 1.0, 0.991794871795, {'kernel': 'rbf', 'C': 100, 'decision_function_shape': 'ovr', 'random_state': 0, 'shrinking': True, 'gamma': 'auto'}\n",
      "\n",
      "Recordings_09.csv, [0, 1, 2, 3, 4, 5, 6, 7, 8, 9, 12, 13], 1.0, 0.991794871795, {'kernel': 'rbf', 'C': 100, 'decision_function_shape': 'ovr', 'random_state': 0, 'shrinking': True, 'gamma': 'auto'}\n",
      "\n",
      "Recordings_09.csv, [0, 1, 2, 3, 4, 5, 7, 8, 9, 11, 12, 13], 1.0, 0.989743589744, {'kernel': 'rbf', 'C': 100, 'decision_function_shape': 'ovr', 'random_state': 0, 'shrinking': True, 'gamma': 'auto'}\n",
      "\n",
      "Recordings_09.csv, [1, 2, 3, 4, 5, 6, 7, 8, 9, 10, 12], 1.0, 0.991794871795, {'kernel': 'rbf', 'C': 100, 'decision_function_shape': 'ovr', 'random_state': 0, 'shrinking': True, 'gamma': 'auto'}\n",
      "\n",
      "Current File: Recordings_full.csv -------->\n",
      "\n",
      "Recordings_full.csv, [0, 1, 2, 3, 4, 5, 6, 7, 8, 9, 12, 13], 0.931076923077, 0.925435897436, {'kernel': 'rbf', 'C': 100, 'decision_function_shape': 'ovr', 'random_state': 0, 'shrinking': True, 'gamma': 0.1}\n",
      "\n",
      "Recordings_full.csv, [0, 1, 2, 3, 4, 5, 6, 7, 8, 9, 12, 13], 0.931076923077, 0.925435897436, {'kernel': 'rbf', 'C': 100, 'decision_function_shape': 'ovr', 'random_state': 0, 'shrinking': True, 'gamma': 0.1}\n",
      "\n",
      "Recordings_full.csv, [0, 1, 2, 3, 4, 5, 7, 8, 9, 11, 12, 13], 0.926241758242, 0.920307692308, {'kernel': 'rbf', 'C': 100, 'decision_function_shape': 'ovr', 'random_state': 0, 'shrinking': True, 'gamma': 0.1}\n",
      "\n",
      "Recordings_full.csv, [1, 2, 3, 4, 5, 6, 7, 8, 9, 10, 12], 0.910725274725, 0.905641025641, {'kernel': 'rbf', 'C': 100, 'decision_function_shape': 'ovr', 'random_state': 0, 'shrinking': False, 'gamma': 0.1}\n",
      "\n",
      "\n",
      "Approximate running time: 943.921000004seconds\n"
     ]
    }
   ],
   "source": [
    "#Test the array of features in each training\n",
    "init = time()\n",
    "csv_file_features = [[0,1,2,3,4,5,6,7,8,9,12,13], [0,1,2,3,4,5,6,7,8,9,12,13], [0,1,2,3,4,5,7,8,9,11,12,13], \n",
    "                     [1,2,3,4,5,6,7,8,9,10,12]]\n",
    "features_index = 0\n",
    "print('Test are made in the following order:')\n",
    "print('Selected the above the mean features from all three techinques -> [0,1,2,3,4,5,6,7,8,9,12,13]')\n",
    "print('Typical testors -> [0,1,2,3,4,5,6,7,8,9,12,13]')\n",
    "print('SBS -> [0,1,2,3,4,5,7,8,9,11,12,13]')\n",
    "print('Fractal dimension -> [1,2,3,4,5,6,7,8,9,10,12]]\\n')\n",
    "print('Results are given in the following order:')\n",
    "print('File name, Features, Training score, Test score, SVM parameters\\n')\n",
    "\n",
    "#Iterate trhough the current folder\n",
    "for i in [f for f in listdir('..\\Data') if re.match(r'Recordings_([0][249])*(full)*.csv', f)]:\n",
    "    \n",
    "    if __name__ == '__main__':\n",
    "    \n",
    "        #Load data file\n",
    "        df = read_csv(\"../Data/\" + i)\n",
    "        print('Current File: {} -------->\\n'.format(i))\n",
    "        for j in csv_file_features:\n",
    "            #Select file features\n",
    "            y = df['Class']\n",
    "            X = df.ix[:, j]\n",
    "            \n",
    "            #Split data\n",
    "            X_train, X_test, y_train, y_test = train_test_split(X, y, test_size=0.3, random_state=0)\n",
    "            \n",
    "            #Standarize values\n",
    "            stdsc = StandardScaler()\n",
    "            X_train_std = stdsc.fit_transform(X_train)\n",
    "            X_test_std = stdsc.transform(X_test)\n",
    "\n",
    "            #Create SVM and define parameters\n",
    "            svm = SVC()\n",
    "            param_grid = [{'C': [1, 10, 100], 'gamma': ['auto', 0.1, 0.01, 0.001],\n",
    "                           'kernel': ['rbf'], 'shrinking': [False],\n",
    "                           'decision_function_shape': ['ovr'], 'random_state': [0]}]\n",
    "            \n",
    "            #Train the SVM\n",
    "            clf = grid_search.GridSearchCV(svm, param_grid, n_jobs=7)\n",
    "            clf.fit(X_train_std, y_train)\n",
    "            \n",
    "            #Report testing results\n",
    "            print('{}, {}, {}, {}, {}\\n'.format(i,j,clf.score(X_train_std, y_train),clf.score(X_test_std, y_test),clf.best_params_))\n",
    "print('\\nApproximate running time: {}seconds'.format(time() - init))\n",
    "            "
   ]
  },
  {
   "cell_type": "code",
   "execution_count": 42,
   "metadata": {
    "collapsed": false
   },
   "outputs": [
    {
     "name": "stdout",
     "output_type": "stream",
     "text": [
      "Test are made in the following order:\n",
      "All features -> [0, 1, 2, 3, 4, 5, 6, 7, 8, 9, 10, 11, 12, 13]\n",
      "Selected the highest from all three techinques -> [1,2,3,4,5,6,7,8,9,12]\n",
      "Typical testors -> [0,1,4,5,6,7,8,9,12,13]\n",
      "SBS -> [2,3,4,5,6,7,11]\n",
      "Fractal dimension -> [4,5,6,7,8,9,10,12]\n",
      "\n",
      "Results are given in the following order:\n",
      "File name, Features, Training score, Test score, SVM parameters\n",
      "\n",
      "Current File: Recordings_02_std_sample.csv -------->\n",
      "\n",
      "Recordings_02_std_sample.csv, [0, 1, 2, 3, 4, 5, 6, 7, 8, 9, 10, 11, 12, 13], 0.992366412214, 0.991150442478, {'kernel': 'rbf', 'C': 100, 'decision_function_shape': 'ovr', 'random_state': 0, 'shrinking': True, 'gamma': 'auto'}\n",
      "\n",
      "Recordings_02_std_sample.csv, [1, 2, 3, 4, 5, 6, 7, 8, 9, 12], 0.992366412214, 0.991150442478, {'kernel': 'rbf', 'C': 100, 'decision_function_shape': 'ovr', 'random_state': 0, 'shrinking': True, 'gamma': 'auto'}\n",
      "\n",
      "Recordings_02_std_sample.csv, [0, 1, 4, 5, 6, 7, 8, 9, 12, 13], 0.992366412214, 0.982300884956, {'kernel': 'rbf', 'C': 100, 'decision_function_shape': 'ovr', 'random_state': 0, 'shrinking': True, 'gamma': 'auto'}\n",
      "\n",
      "Recordings_02_std_sample.csv, [2, 3, 4, 5, 6, 7, 11], 0.958015267176, 0.955752212389, {'kernel': 'rbf', 'C': 100, 'decision_function_shape': 'ovr', 'random_state': 0, 'shrinking': True, 'gamma': 'auto'}\n",
      "\n",
      "Recordings_02_std_sample.csv, [4, 5, 6, 7, 8, 9, 10, 12], 0.988549618321, 0.982300884956, {'kernel': 'rbf', 'C': 100, 'decision_function_shape': 'ovr', 'random_state': 0, 'shrinking': True, 'gamma': 0.1}\n",
      "\n",
      "Current File: Recordings_04_std_sample.csv -------->\n",
      "\n",
      "Recordings_04_std_sample.csv, [0, 1, 2, 3, 4, 5, 6, 7, 8, 9, 10, 11, 12, 13], 0.977099236641, 0.973451327434, {'kernel': 'rbf', 'C': 10, 'decision_function_shape': 'ovr', 'random_state': 0, 'shrinking': True, 'gamma': 0.1}\n",
      "\n",
      "Recordings_04_std_sample.csv, [1, 2, 3, 4, 5, 6, 7, 8, 9, 12], 0.969465648855, 0.929203539823, {'kernel': 'rbf', 'C': 100, 'decision_function_shape': 'ovr', 'random_state': 0, 'shrinking': True, 'gamma': 'auto'}\n",
      "\n",
      "Recordings_04_std_sample.csv, [0, 1, 4, 5, 6, 7, 8, 9, 12, 13], 0.988549618321, 0.964601769912, {'kernel': 'rbf', 'C': 100, 'decision_function_shape': 'ovr', 'random_state': 0, 'shrinking': True, 'gamma': 'auto'}\n",
      "\n",
      "Recordings_04_std_sample.csv, [2, 3, 4, 5, 6, 7, 11], 0.980916030534, 0.938053097345, {'kernel': 'rbf', 'C': 100, 'decision_function_shape': 'ovr', 'random_state': 0, 'shrinking': True, 'gamma': 'auto'}\n",
      "\n",
      "Recordings_04_std_sample.csv, [4, 5, 6, 7, 8, 9, 10, 12], 0.973282442748, 0.938053097345, {'kernel': 'rbf', 'C': 100, 'decision_function_shape': 'ovr', 'random_state': 0, 'shrinking': True, 'gamma': 'auto'}\n",
      "\n",
      "Current File: Recordings_09_std_sample.csv -------->\n",
      "\n",
      "Recordings_09_std_sample.csv, [0, 1, 2, 3, 4, 5, 6, 7, 8, 9, 10, 11, 12, 13], 0.996183206107, 0.982300884956, {'kernel': 'rbf', 'C': 100, 'decision_function_shape': 'ovr', 'random_state': 0, 'shrinking': True, 'gamma': 0.01}\n",
      "\n",
      "Recordings_09_std_sample.csv, [1, 2, 3, 4, 5, 6, 7, 8, 9, 12], 0.996183206107, 0.973451327434, {'kernel': 'rbf', 'C': 10, 'decision_function_shape': 'ovr', 'random_state': 0, 'shrinking': True, 'gamma': 'auto'}\n",
      "\n",
      "Recordings_09_std_sample.csv, [0, 1, 4, 5, 6, 7, 8, 9, 12, 13], 0.984732824427, 0.982300884956, {'kernel': 'rbf', 'C': 100, 'decision_function_shape': 'ovr', 'random_state': 0, 'shrinking': True, 'gamma': 0.01}\n",
      "\n",
      "Recordings_09_std_sample.csv, [2, 3, 4, 5, 6, 7, 11], 0.969465648855, 0.911504424779, {'kernel': 'rbf', 'C': 100, 'decision_function_shape': 'ovr', 'random_state': 0, 'shrinking': True, 'gamma': 0.1}\n",
      "\n",
      "Recordings_09_std_sample.csv, [4, 5, 6, 7, 8, 9, 10, 12], 0.988549618321, 0.920353982301, {'kernel': 'rbf', 'C': 100, 'decision_function_shape': 'ovr', 'random_state': 0, 'shrinking': True, 'gamma': 0.1}\n",
      "\n",
      "Current File: Recordings_full_std_sample.csv -------->\n",
      "\n",
      "Recordings_full_std_sample.csv, [0, 1, 2, 3, 4, 5, 6, 7, 8, 9, 10, 11, 12, 13], 0.897379912664, 0.659898477157, {'kernel': 'rbf', 'C': 100, 'decision_function_shape': 'ovr', 'random_state': 0, 'shrinking': True, 'gamma': 'auto'}\n",
      "\n",
      "Recordings_full_std_sample.csv, [1, 2, 3, 4, 5, 6, 7, 8, 9, 12], 0.836244541485, 0.578680203046, {'kernel': 'rbf', 'C': 100, 'decision_function_shape': 'ovr', 'random_state': 0, 'shrinking': True, 'gamma': 'auto'}\n",
      "\n",
      "Recordings_full_std_sample.csv, [0, 1, 4, 5, 6, 7, 8, 9, 12, 13], 0.827510917031, 0.58883248731, {'kernel': 'rbf', 'C': 100, 'decision_function_shape': 'ovr', 'random_state': 0, 'shrinking': True, 'gamma': 'auto'}\n",
      "\n",
      "Recordings_full_std_sample.csv, [2, 3, 4, 5, 6, 7, 11], 0.700873362445, 0.441624365482, {'kernel': 'rbf', 'C': 100, 'decision_function_shape': 'ovr', 'random_state': 0, 'shrinking': True, 'gamma': 'auto'}\n",
      "\n",
      "Recordings_full_std_sample.csv, [4, 5, 6, 7, 8, 9, 10, 12], 0.786026200873, 0.502538071066, {'kernel': 'rbf', 'C': 100, 'decision_function_shape': 'ovr', 'random_state': 0, 'shrinking': True, 'gamma': 'auto'}\n",
      "\n",
      "\n",
      "Approximate running time: 70.5390000343seconds\n"
     ]
    }
   ],
   "source": [
    "#Test the array of features in each training\n",
    "init = time()\n",
    "csv_file_features = [[0, 1, 2, 3, 4, 5, 6, 7, 8, 9, 10, 11, 12, 13], [1,2,3,4,5,6,7,8,9,12], \n",
    "                     [0,1,4,5,6,7,8,9,12,13], [2,3,4,5,6,7,11], [4,5,6,7,8,9,10,12]]\n",
    "features_index = 0\n",
    "print('Test are made in the following order:')\n",
    "print('All features -> [0, 1, 2, 3, 4, 5, 6, 7, 8, 9, 10, 11, 12, 13]')\n",
    "print('Selected the highest from all three techinques -> [1,2,3,4,5,6,7,8,9,12]')\n",
    "print('Typical testors -> [0,1,4,5,6,7,8,9,12,13]')\n",
    "print('SBS -> [2,3,4,5,6,7,11]')\n",
    "print('Fractal dimension -> [4,5,6,7,8,9,10,12]\\n')\n",
    "print('Results are given in the following order:')\n",
    "print('File name, Features, Training score, Test score, SVM parameters\\n')\n",
    "\n",
    "#Iterate trhough the current folder\n",
    "for i in listdir('..\\Data\\std_samples'):\n",
    "    \n",
    "    if __name__ == '__main__':\n",
    "    \n",
    "        #Load data file\n",
    "        df = read_csv(\"../Data/std_samples/\" + i)\n",
    "        print('Current File: {} -------->\\n'.format(i))\n",
    "        for j in csv_file_features:\n",
    "            #Select file features\n",
    "            y = df['Class']\n",
    "            X = df.ix[:, j]\n",
    "            \n",
    "            #Split data\n",
    "            X_train, X_test, y_train, y_test = train_test_split(X, y, test_size=0.3, random_state=0)\n",
    "\n",
    "            #Create SVM and define parameters\n",
    "            svm = SVC()\n",
    "            param_grid = [{'C': [1, 10, 100], 'gamma': ['auto', 0.1, 0.01, 0.001],\n",
    "                           'kernel': ['rbf'], 'shrinking': [True, False],\n",
    "                           'decision_function_shape': ['ovr'], 'random_state': [0]}]\n",
    "            \n",
    "            #Train the SVM\n",
    "            clf = grid_search.GridSearchCV(svm, param_grid, n_jobs=-1)\n",
    "            clf.fit(X_train, y_train)\n",
    "            \n",
    "            #Report testing results\n",
    "            print('{}, {}, {}, {}, {}\\n'.format(i,j,clf.score(X_train, y_train),clf.score(X_test, y_test),clf.best_params_))\n",
    "print('\\nApproximate running time: {}seconds'.format(time() - init))"
   ]
  },
  {
   "cell_type": "code",
   "execution_count": 33,
   "metadata": {
    "collapsed": false
   },
   "outputs": [
    {
     "data": {
      "text/plain": [
       "['Recordings_02.csv',\n",
       " 'Recordings_04.csv',\n",
       " 'Recordings_09.csv',\n",
       " 'Recordings_full.csv']"
      ]
     },
     "execution_count": 33,
     "metadata": {},
     "output_type": "execute_result"
    }
   ],
   "source": [
    "[f for f in listdir('..\\Data') if re.match(r'Recordings_([0][249])*(full)*.csv', f)]\n",
    "#[f for f in listdir('..\\Data')]"
   ]
  },
  {
   "cell_type": "code",
   "execution_count": 1,
   "metadata": {
    "collapsed": true
   },
   "outputs": [],
   "source": [
    "from pandas import read_csv\n",
    "\n",
    "from itertools import combinations\n",
    "from time import time\n",
    "from sklearn.svm import SVC\n",
    "import re\n",
    "from sklearn.cross_validation import train_test_split\n",
    "from sklearn.preprocessing import StandardScaler\n",
    "from sklearn import grid_search\n",
    "from os import listdir\n",
    "from os.path import isfile\n",
    "import pandas as pd\n",
    "import numpy as np\n",
    "from os import listdir\n",
    "from os import remove\n",
    "from os import system\n",
    "from os.path import isfile, join\n",
    "import sys\n",
    "import scipy\n",
    "from sklearn.cross_validation import ShuffleSplit"
   ]
  },
  {
   "cell_type": "code",
   "execution_count": 6,
   "metadata": {
    "collapsed": false
   },
   "outputs": [
    {
     "name": "stdout",
     "output_type": "stream",
     "text": [
      "Order of results\n",
      "File name, Training score, Test score, SVM parameters\n",
      "\n"
     ]
    },
    {
     "ename": "IOError",
     "evalue": "File C:\\Users\\carlos.martinez\\Google Drive\\Thesis experiments and results\\Data\\Recordings_00_sample_2202P_c.csv does not exist",
     "output_type": "error",
     "traceback": [
      "\u001b[1;31m---------------------------------------------------------------------------\u001b[0m",
      "\u001b[1;31mIOError\u001b[0m                                   Traceback (most recent call last)",
      "\u001b[1;32m<ipython-input-6-989411cbe102>\u001b[0m in \u001b[0;36m<module>\u001b[1;34m()\u001b[0m\n\u001b[0;32m     23\u001b[0m             'C:\\Users\\carlos.martinez\\Google Drive\\Thesis experiments and results\\Data\\Recordings_00.csv')\n\u001b[0;32m     24\u001b[0m         df_sample = read_csv( \n\u001b[1;32m---> 25\u001b[1;33m             'C:\\Users\\carlos.martinez\\Google Drive\\Thesis experiments and results\\Data\\Recordings_00_sample_2202P_c.csv')\n\u001b[0m\u001b[0;32m     26\u001b[0m \u001b[1;33m\u001b[0m\u001b[0m\n\u001b[0;32m     27\u001b[0m             \u001b[1;31m#Select file features\u001b[0m\u001b[1;33m\u001b[0m\u001b[1;33m\u001b[0m\u001b[0m\n",
      "\u001b[1;32mC:\\Anaconda2\\lib\\site-packages\\pandas\\io\\parsers.pyc\u001b[0m in \u001b[0;36mparser_f\u001b[1;34m(filepath_or_buffer, sep, dialect, compression, doublequote, escapechar, quotechar, quoting, skipinitialspace, lineterminator, header, index_col, names, prefix, skiprows, skipfooter, skip_footer, na_values, true_values, false_values, delimiter, converters, dtype, usecols, engine, delim_whitespace, as_recarray, na_filter, compact_ints, use_unsigned, low_memory, buffer_lines, warn_bad_lines, error_bad_lines, keep_default_na, thousands, comment, decimal, parse_dates, keep_date_col, dayfirst, date_parser, memory_map, float_precision, nrows, iterator, chunksize, verbose, encoding, squeeze, mangle_dupe_cols, tupleize_cols, infer_datetime_format, skip_blank_lines)\u001b[0m\n\u001b[0;32m    496\u001b[0m                     skip_blank_lines=skip_blank_lines)\n\u001b[0;32m    497\u001b[0m \u001b[1;33m\u001b[0m\u001b[0m\n\u001b[1;32m--> 498\u001b[1;33m         \u001b[1;32mreturn\u001b[0m \u001b[0m_read\u001b[0m\u001b[1;33m(\u001b[0m\u001b[0mfilepath_or_buffer\u001b[0m\u001b[1;33m,\u001b[0m \u001b[0mkwds\u001b[0m\u001b[1;33m)\u001b[0m\u001b[1;33m\u001b[0m\u001b[0m\n\u001b[0m\u001b[0;32m    499\u001b[0m \u001b[1;33m\u001b[0m\u001b[0m\n\u001b[0;32m    500\u001b[0m     \u001b[0mparser_f\u001b[0m\u001b[1;33m.\u001b[0m\u001b[0m__name__\u001b[0m \u001b[1;33m=\u001b[0m \u001b[0mname\u001b[0m\u001b[1;33m\u001b[0m\u001b[0m\n",
      "\u001b[1;32mC:\\Anaconda2\\lib\\site-packages\\pandas\\io\\parsers.pyc\u001b[0m in \u001b[0;36m_read\u001b[1;34m(filepath_or_buffer, kwds)\u001b[0m\n\u001b[0;32m    273\u001b[0m \u001b[1;33m\u001b[0m\u001b[0m\n\u001b[0;32m    274\u001b[0m     \u001b[1;31m# Create the parser.\u001b[0m\u001b[1;33m\u001b[0m\u001b[1;33m\u001b[0m\u001b[0m\n\u001b[1;32m--> 275\u001b[1;33m     \u001b[0mparser\u001b[0m \u001b[1;33m=\u001b[0m \u001b[0mTextFileReader\u001b[0m\u001b[1;33m(\u001b[0m\u001b[0mfilepath_or_buffer\u001b[0m\u001b[1;33m,\u001b[0m \u001b[1;33m**\u001b[0m\u001b[0mkwds\u001b[0m\u001b[1;33m)\u001b[0m\u001b[1;33m\u001b[0m\u001b[0m\n\u001b[0m\u001b[0;32m    276\u001b[0m \u001b[1;33m\u001b[0m\u001b[0m\n\u001b[0;32m    277\u001b[0m     \u001b[1;32mif\u001b[0m \u001b[1;33m(\u001b[0m\u001b[0mnrows\u001b[0m \u001b[1;32mis\u001b[0m \u001b[1;32mnot\u001b[0m \u001b[0mNone\u001b[0m\u001b[1;33m)\u001b[0m \u001b[1;32mand\u001b[0m \u001b[1;33m(\u001b[0m\u001b[0mchunksize\u001b[0m \u001b[1;32mis\u001b[0m \u001b[1;32mnot\u001b[0m \u001b[0mNone\u001b[0m\u001b[1;33m)\u001b[0m\u001b[1;33m:\u001b[0m\u001b[1;33m\u001b[0m\u001b[0m\n",
      "\u001b[1;32mC:\\Anaconda2\\lib\\site-packages\\pandas\\io\\parsers.pyc\u001b[0m in \u001b[0;36m__init__\u001b[1;34m(self, f, engine, **kwds)\u001b[0m\n\u001b[0;32m    588\u001b[0m             \u001b[0mself\u001b[0m\u001b[1;33m.\u001b[0m\u001b[0moptions\u001b[0m\u001b[1;33m[\u001b[0m\u001b[1;34m'has_index_names'\u001b[0m\u001b[1;33m]\u001b[0m \u001b[1;33m=\u001b[0m \u001b[0mkwds\u001b[0m\u001b[1;33m[\u001b[0m\u001b[1;34m'has_index_names'\u001b[0m\u001b[1;33m]\u001b[0m\u001b[1;33m\u001b[0m\u001b[0m\n\u001b[0;32m    589\u001b[0m \u001b[1;33m\u001b[0m\u001b[0m\n\u001b[1;32m--> 590\u001b[1;33m         \u001b[0mself\u001b[0m\u001b[1;33m.\u001b[0m\u001b[0m_make_engine\u001b[0m\u001b[1;33m(\u001b[0m\u001b[0mself\u001b[0m\u001b[1;33m.\u001b[0m\u001b[0mengine\u001b[0m\u001b[1;33m)\u001b[0m\u001b[1;33m\u001b[0m\u001b[0m\n\u001b[0m\u001b[0;32m    591\u001b[0m \u001b[1;33m\u001b[0m\u001b[0m\n\u001b[0;32m    592\u001b[0m     \u001b[1;32mdef\u001b[0m \u001b[0m_get_options_with_defaults\u001b[0m\u001b[1;33m(\u001b[0m\u001b[0mself\u001b[0m\u001b[1;33m,\u001b[0m \u001b[0mengine\u001b[0m\u001b[1;33m)\u001b[0m\u001b[1;33m:\u001b[0m\u001b[1;33m\u001b[0m\u001b[0m\n",
      "\u001b[1;32mC:\\Anaconda2\\lib\\site-packages\\pandas\\io\\parsers.pyc\u001b[0m in \u001b[0;36m_make_engine\u001b[1;34m(self, engine)\u001b[0m\n\u001b[0;32m    729\u001b[0m     \u001b[1;32mdef\u001b[0m \u001b[0m_make_engine\u001b[0m\u001b[1;33m(\u001b[0m\u001b[0mself\u001b[0m\u001b[1;33m,\u001b[0m \u001b[0mengine\u001b[0m\u001b[1;33m=\u001b[0m\u001b[1;34m'c'\u001b[0m\u001b[1;33m)\u001b[0m\u001b[1;33m:\u001b[0m\u001b[1;33m\u001b[0m\u001b[0m\n\u001b[0;32m    730\u001b[0m         \u001b[1;32mif\u001b[0m \u001b[0mengine\u001b[0m \u001b[1;33m==\u001b[0m \u001b[1;34m'c'\u001b[0m\u001b[1;33m:\u001b[0m\u001b[1;33m\u001b[0m\u001b[0m\n\u001b[1;32m--> 731\u001b[1;33m             \u001b[0mself\u001b[0m\u001b[1;33m.\u001b[0m\u001b[0m_engine\u001b[0m \u001b[1;33m=\u001b[0m \u001b[0mCParserWrapper\u001b[0m\u001b[1;33m(\u001b[0m\u001b[0mself\u001b[0m\u001b[1;33m.\u001b[0m\u001b[0mf\u001b[0m\u001b[1;33m,\u001b[0m \u001b[1;33m**\u001b[0m\u001b[0mself\u001b[0m\u001b[1;33m.\u001b[0m\u001b[0moptions\u001b[0m\u001b[1;33m)\u001b[0m\u001b[1;33m\u001b[0m\u001b[0m\n\u001b[0m\u001b[0;32m    732\u001b[0m         \u001b[1;32melse\u001b[0m\u001b[1;33m:\u001b[0m\u001b[1;33m\u001b[0m\u001b[0m\n\u001b[0;32m    733\u001b[0m             \u001b[1;32mif\u001b[0m \u001b[0mengine\u001b[0m \u001b[1;33m==\u001b[0m \u001b[1;34m'python'\u001b[0m\u001b[1;33m:\u001b[0m\u001b[1;33m\u001b[0m\u001b[0m\n",
      "\u001b[1;32mC:\\Anaconda2\\lib\\site-packages\\pandas\\io\\parsers.pyc\u001b[0m in \u001b[0;36m__init__\u001b[1;34m(self, src, **kwds)\u001b[0m\n\u001b[0;32m   1101\u001b[0m         \u001b[0mkwds\u001b[0m\u001b[1;33m[\u001b[0m\u001b[1;34m'allow_leading_cols'\u001b[0m\u001b[1;33m]\u001b[0m \u001b[1;33m=\u001b[0m \u001b[0mself\u001b[0m\u001b[1;33m.\u001b[0m\u001b[0mindex_col\u001b[0m \u001b[1;32mis\u001b[0m \u001b[1;32mnot\u001b[0m \u001b[0mFalse\u001b[0m\u001b[1;33m\u001b[0m\u001b[0m\n\u001b[0;32m   1102\u001b[0m \u001b[1;33m\u001b[0m\u001b[0m\n\u001b[1;32m-> 1103\u001b[1;33m         \u001b[0mself\u001b[0m\u001b[1;33m.\u001b[0m\u001b[0m_reader\u001b[0m \u001b[1;33m=\u001b[0m \u001b[0m_parser\u001b[0m\u001b[1;33m.\u001b[0m\u001b[0mTextReader\u001b[0m\u001b[1;33m(\u001b[0m\u001b[0msrc\u001b[0m\u001b[1;33m,\u001b[0m \u001b[1;33m**\u001b[0m\u001b[0mkwds\u001b[0m\u001b[1;33m)\u001b[0m\u001b[1;33m\u001b[0m\u001b[0m\n\u001b[0m\u001b[0;32m   1104\u001b[0m \u001b[1;33m\u001b[0m\u001b[0m\n\u001b[0;32m   1105\u001b[0m         \u001b[1;31m# XXX\u001b[0m\u001b[1;33m\u001b[0m\u001b[1;33m\u001b[0m\u001b[0m\n",
      "\u001b[1;32mpandas\\parser.pyx\u001b[0m in \u001b[0;36mpandas.parser.TextReader.__cinit__ (pandas\\parser.c:3246)\u001b[1;34m()\u001b[0m\n",
      "\u001b[1;32mpandas\\parser.pyx\u001b[0m in \u001b[0;36mpandas.parser.TextReader._setup_parser_source (pandas\\parser.c:6111)\u001b[1;34m()\u001b[0m\n",
      "\u001b[1;31mIOError\u001b[0m: File C:\\Users\\carlos.martinez\\Google Drive\\Thesis experiments and results\\Data\\Recordings_00_sample_2202P_c.csv does not exist"
     ]
    }
   ],
   "source": [
    "#Test the array of features in each training\n",
    "if __name__ == '__main__':\n",
    "    \n",
    "    csv_file_features = [[0, 1, 2, 3, 4, 5, 6, 7, 8, 9, 10, 11, 12, 13], \n",
    "                         [0, 1, 2, 5, 8, 9, 12], \n",
    "                         [0, 2, 4, 5, 6, 7, 8, 11, 13], \n",
    "                         [0, 1, 2, 4, 5, 6, 7, 8, 9, 11, 12, 13]]\n",
    "    features_index = 0\n",
    "    print('Order of results')\n",
    "    print('File name, Training score, Test score, SVM parameters\\n')\n",
    "    #C_range = np.logspace(-2, 10, 13) #[0.0001, 0.001, 0.01, 0.1, 1, 10, 100, 1000]\n",
    "    C_range = [0.001, 0.01, 0.1, 1, 10, 100, 1000]\n",
    "    #gamma_range = np.logspace(-9, 3, 13)\n",
    "    gamma_range = [0.001, 0.01, 0.1, 1, 10, 100, 1000]\n",
    "    path = \"../Data\"\n",
    "    files = [f for f in listdir(path) if isfile(join(path, f))]\n",
    "\n",
    "    for j in csv_file_features:\n",
    "            \n",
    "        stdsc = StandardScaler()\n",
    "            #Load data file\n",
    "        df = read_csv( \n",
    "            'C:\\Users\\carlos.martinez\\Google Drive\\Thesis experiments and results\\Data\\Recordings_00.csv')\n",
    "        df_sample = read_csv( \n",
    "            'C:\\Users\\carlos.martinez\\Google Drive\\Thesis experiments and results\\Data\\Recordings_00_sample_2202P_c.csv')\n",
    "            \n",
    "            #Select file features\n",
    "            #y = df['Class']\n",
    "            #X = df.ix[:, j]\n",
    "        y_train = df_sample['Class']\n",
    "        X_train = df_sample.ix[:, j]\n",
    "            \n",
    "        y_test = df['Class']\n",
    "        X_test = df.ix[:, j]\n",
    "        #Split data\n",
    "        cross_validation.cross_val_score(model, X, y, scoring='wrong_choice')\n",
    "        #X_train, X_test, y_train, y_test = train_test_split(X, y, test_size=0.3, random_state=0)\n",
    "        X_std = stdsc.fit_transform(X)\n",
    "        #Create SVM and define parameters\n",
    "        svm = SVC()\n",
    "        param_grid = [{'C': C_range, \n",
    "                        'gamma': gamma_range, \n",
    "                        'kernel': ['rbf'], \n",
    "                        'shrinking': [False], \n",
    "                        'decision_function_shape': ['ovr'], \n",
    "                        'random_state': [0]}]\n",
    "            \n",
    "        #Train the SVM\n",
    "        init = time()\n",
    "        clf = grid_search.GridSearchCV(svm, param_grid, n_jobs=-1)\n",
    "        clf.fit(X_train_std, y_train)\n",
    "            \n",
    "        #Report testing results\n",
    "        print('{}, {}, {}, {}'.format(i,clf.score(X_train_std, y_train),clf.score(X_test_std, y_test),clf.best_params_))\n",
    "        print('For {} -> Approximate running time: {} seconds\\n'.format(j, time() - init))\n"
   ]
  },
  {
   "cell_type": "code",
   "execution_count": 3,
   "metadata": {
    "collapsed": true
   },
   "outputs": [],
   "source": [
    "from sklearn import grid_search\n",
    "from sklearn.cross_validation import StratifiedShuffleSplit\n",
    "from sklearn.cross_validation import train_test_split\n",
    "from sklearn.preprocessing import StandardScaler\n",
    "from sklearn.svm import SVC\n",
    "from time import time\n",
    "\n",
    "import numpy as np\n",
    "import pandas as pd\n",
    "import warnings\n",
    "warnings.filterwarnings('ignore')"
   ]
  },
  {
   "cell_type": "code",
   "execution_count": 2,
   "metadata": {
    "collapsed": false
   },
   "outputs": [
    {
     "name": "stdout",
     "output_type": "stream",
     "text": [
      "Order of results\n",
      "Training score, Test score, Time, Features, SVM parameters\n",
      "\n"
     ]
    },
    {
     "name": "stderr",
     "output_type": "stream",
     "text": [
      "C:\\Anaconda3\\lib\\site-packages\\sklearn\\externals\\joblib\\hashing.py:197: DeprecationWarning: Changing the shape of non-C contiguous array by\n",
      "descriptor assignment is deprecated. To maintain\n",
      "the Fortran contiguity of a multidimensional Fortran\n",
      "array, use 'a.T.view(...).T' instead\n",
      "  obj_bytes_view = obj.view(self.np.uint8)\n",
      "C:\\Anaconda3\\lib\\site-packages\\sklearn\\externals\\joblib\\hashing.py:197: DeprecationWarning: Changing the shape of non-C contiguous array by\n",
      "descriptor assignment is deprecated. To maintain\n",
      "the Fortran contiguity of a multidimensional Fortran\n",
      "array, use 'a.T.view(...).T' instead\n",
      "  obj_bytes_view = obj.view(self.np.uint8)\n",
      "C:\\Anaconda3\\lib\\site-packages\\sklearn\\externals\\joblib\\hashing.py:197: DeprecationWarning: Changing the shape of non-C contiguous array by\n",
      "descriptor assignment is deprecated. To maintain\n",
      "the Fortran contiguity of a multidimensional Fortran\n",
      "array, use 'a.T.view(...).T' instead\n",
      "  obj_bytes_view = obj.view(self.np.uint8)\n",
      "C:\\Anaconda3\\lib\\site-packages\\sklearn\\externals\\joblib\\hashing.py:197: DeprecationWarning: Changing the shape of non-C contiguous array by\n",
      "descriptor assignment is deprecated. To maintain\n",
      "the Fortran contiguity of a multidimensional Fortran\n",
      "array, use 'a.T.view(...).T' instead\n",
      "  obj_bytes_view = obj.view(self.np.uint8)\n",
      "C:\\Anaconda3\\lib\\site-packages\\sklearn\\externals\\joblib\\hashing.py:197: DeprecationWarning: Changing the shape of non-C contiguous array by\n",
      "descriptor assignment is deprecated. To maintain\n",
      "the Fortran contiguity of a multidimensional Fortran\n",
      "array, use 'a.T.view(...).T' instead\n",
      "  obj_bytes_view = obj.view(self.np.uint8)\n",
      "C:\\Anaconda3\\lib\\site-packages\\sklearn\\externals\\joblib\\hashing.py:197: DeprecationWarning: Changing the shape of non-C contiguous array by\n",
      "descriptor assignment is deprecated. To maintain\n",
      "the Fortran contiguity of a multidimensional Fortran\n",
      "array, use 'a.T.view(...).T' instead\n",
      "  obj_bytes_view = obj.view(self.np.uint8)\n",
      "C:\\Anaconda3\\lib\\site-packages\\sklearn\\externals\\joblib\\hashing.py:197: DeprecationWarning: Changing the shape of non-C contiguous array by\n",
      "descriptor assignment is deprecated. To maintain\n",
      "the Fortran contiguity of a multidimensional Fortran\n",
      "array, use 'a.T.view(...).T' instead\n",
      "  obj_bytes_view = obj.view(self.np.uint8)\n",
      "C:\\Anaconda3\\lib\\site-packages\\sklearn\\externals\\joblib\\hashing.py:197: DeprecationWarning: Changing the shape of non-C contiguous array by\n",
      "descriptor assignment is deprecated. To maintain\n",
      "the Fortran contiguity of a multidimensional Fortran\n",
      "array, use 'a.T.view(...).T' instead\n",
      "  obj_bytes_view = obj.view(self.np.uint8)\n",
      "C:\\Anaconda3\\lib\\site-packages\\sklearn\\externals\\joblib\\hashing.py:197: DeprecationWarning: Changing the shape of non-C contiguous array by\n",
      "descriptor assignment is deprecated. To maintain\n",
      "the Fortran contiguity of a multidimensional Fortran\n",
      "array, use 'a.T.view(...).T' instead\n",
      "  obj_bytes_view = obj.view(self.np.uint8)\n",
      "C:\\Anaconda3\\lib\\site-packages\\sklearn\\externals\\joblib\\hashing.py:197: DeprecationWarning: Changing the shape of non-C contiguous array by\n",
      "descriptor assignment is deprecated. To maintain\n",
      "the Fortran contiguity of a multidimensional Fortran\n",
      "array, use 'a.T.view(...).T' instead\n",
      "  obj_bytes_view = obj.view(self.np.uint8)\n",
      "C:\\Anaconda3\\lib\\site-packages\\sklearn\\externals\\joblib\\hashing.py:197: DeprecationWarning: Changing the shape of non-C contiguous array by\n",
      "descriptor assignment is deprecated. To maintain\n",
      "the Fortran contiguity of a multidimensional Fortran\n",
      "array, use 'a.T.view(...).T' instead\n",
      "  obj_bytes_view = obj.view(self.np.uint8)\n",
      "C:\\Anaconda3\\lib\\site-packages\\sklearn\\externals\\joblib\\hashing.py:197: DeprecationWarning: Changing the shape of non-C contiguous array by\n",
      "descriptor assignment is deprecated. To maintain\n",
      "the Fortran contiguity of a multidimensional Fortran\n",
      "array, use 'a.T.view(...).T' instead\n",
      "  obj_bytes_view = obj.view(self.np.uint8)\n",
      "C:\\Anaconda3\\lib\\site-packages\\sklearn\\externals\\joblib\\hashing.py:197: DeprecationWarning: Changing the shape of non-C contiguous array by\n",
      "descriptor assignment is deprecated. To maintain\n",
      "the Fortran contiguity of a multidimensional Fortran\n",
      "array, use 'a.T.view(...).T' instead\n",
      "  obj_bytes_view = obj.view(self.np.uint8)\n",
      "C:\\Anaconda3\\lib\\site-packages\\sklearn\\externals\\joblib\\hashing.py:197: DeprecationWarning: Changing the shape of non-C contiguous array by\n",
      "descriptor assignment is deprecated. To maintain\n",
      "the Fortran contiguity of a multidimensional Fortran\n",
      "array, use 'a.T.view(...).T' instead\n",
      "  obj_bytes_view = obj.view(self.np.uint8)\n",
      "C:\\Anaconda3\\lib\\site-packages\\sklearn\\externals\\joblib\\hashing.py:197: DeprecationWarning: Changing the shape of non-C contiguous array by\n",
      "descriptor assignment is deprecated. To maintain\n",
      "the Fortran contiguity of a multidimensional Fortran\n",
      "array, use 'a.T.view(...).T' instead\n",
      "  obj_bytes_view = obj.view(self.np.uint8)\n",
      "C:\\Anaconda3\\lib\\site-packages\\sklearn\\externals\\joblib\\hashing.py:197: DeprecationWarning: Changing the shape of non-C contiguous array by\n",
      "descriptor assignment is deprecated. To maintain\n",
      "the Fortran contiguity of a multidimensional Fortran\n",
      "array, use 'a.T.view(...).T' instead\n",
      "  obj_bytes_view = obj.view(self.np.uint8)\n",
      "C:\\Anaconda3\\lib\\site-packages\\sklearn\\externals\\joblib\\hashing.py:197: DeprecationWarning: Changing the shape of non-C contiguous array by\n",
      "descriptor assignment is deprecated. To maintain\n",
      "the Fortran contiguity of a multidimensional Fortran\n",
      "array, use 'a.T.view(...).T' instead\n",
      "  obj_bytes_view = obj.view(self.np.uint8)\n",
      "C:\\Anaconda3\\lib\\site-packages\\sklearn\\externals\\joblib\\hashing.py:197: DeprecationWarning: Changing the shape of non-C contiguous array by\n",
      "descriptor assignment is deprecated. To maintain\n",
      "the Fortran contiguity of a multidimensional Fortran\n",
      "array, use 'a.T.view(...).T' instead\n",
      "  obj_bytes_view = obj.view(self.np.uint8)\n",
      "C:\\Anaconda3\\lib\\site-packages\\sklearn\\externals\\joblib\\hashing.py:197: DeprecationWarning: Changing the shape of non-C contiguous array by\n",
      "descriptor assignment is deprecated. To maintain\n",
      "the Fortran contiguity of a multidimensional Fortran\n",
      "array, use 'a.T.view(...).T' instead\n",
      "  obj_bytes_view = obj.view(self.np.uint8)\n",
      "C:\\Anaconda3\\lib\\site-packages\\sklearn\\externals\\joblib\\hashing.py:197: DeprecationWarning: Changing the shape of non-C contiguous array by\n",
      "descriptor assignment is deprecated. To maintain\n",
      "the Fortran contiguity of a multidimensional Fortran\n",
      "array, use 'a.T.view(...).T' instead\n",
      "  obj_bytes_view = obj.view(self.np.uint8)\n",
      "C:\\Anaconda3\\lib\\site-packages\\sklearn\\externals\\joblib\\hashing.py:197: DeprecationWarning: Changing the shape of non-C contiguous array by\n",
      "descriptor assignment is deprecated. To maintain\n",
      "the Fortran contiguity of a multidimensional Fortran\n",
      "array, use 'a.T.view(...).T' instead\n",
      "  obj_bytes_view = obj.view(self.np.uint8)\n",
      "C:\\Anaconda3\\lib\\site-packages\\sklearn\\externals\\joblib\\hashing.py:197: DeprecationWarning: Changing the shape of non-C contiguous array by\n",
      "descriptor assignment is deprecated. To maintain\n",
      "the Fortran contiguity of a multidimensional Fortran\n",
      "array, use 'a.T.view(...).T' instead\n",
      "  obj_bytes_view = obj.view(self.np.uint8)\n"
     ]
    },
    {
     "ename": "KeyboardInterrupt",
     "evalue": "",
     "output_type": "error",
     "traceback": [
      "\u001b[1;31m---------------------------------------------------------------------------\u001b[0m",
      "\u001b[1;31mKeyboardInterrupt\u001b[0m                         Traceback (most recent call last)",
      "\u001b[1;32m<ipython-input-2-fe75aafc9975>\u001b[0m in \u001b[0;36m<module>\u001b[1;34m()\u001b[0m\n\u001b[0;32m     47\u001b[0m                                                                  random_state=0))\n\u001b[0;32m     48\u001b[0m         \u001b[1;31m#Test classifier\u001b[0m\u001b[1;33m\u001b[0m\u001b[1;33m\u001b[0m\u001b[0m\n\u001b[1;32m---> 49\u001b[1;33m         \u001b[0mgscv\u001b[0m\u001b[1;33m.\u001b[0m\u001b[0mfit\u001b[0m\u001b[1;33m(\u001b[0m\u001b[0mX_train_std\u001b[0m\u001b[1;33m,\u001b[0m \u001b[0my_train\u001b[0m\u001b[1;33m)\u001b[0m\u001b[1;33m\u001b[0m\u001b[0m\n\u001b[0m\u001b[0;32m     50\u001b[0m \u001b[1;33m\u001b[0m\u001b[0m\n\u001b[0;32m     51\u001b[0m         \u001b[1;31m#Save our estimator\u001b[0m\u001b[1;33m\u001b[0m\u001b[1;33m\u001b[0m\u001b[0m\n",
      "\u001b[1;32mC:\\Anaconda3\\lib\\site-packages\\sklearn\\grid_search.py\u001b[0m in \u001b[0;36mfit\u001b[1;34m(self, X, y)\u001b[0m\n\u001b[0;32m    802\u001b[0m \u001b[1;33m\u001b[0m\u001b[0m\n\u001b[0;32m    803\u001b[0m         \"\"\"\n\u001b[1;32m--> 804\u001b[1;33m         \u001b[1;32mreturn\u001b[0m \u001b[0mself\u001b[0m\u001b[1;33m.\u001b[0m\u001b[0m_fit\u001b[0m\u001b[1;33m(\u001b[0m\u001b[0mX\u001b[0m\u001b[1;33m,\u001b[0m \u001b[0my\u001b[0m\u001b[1;33m,\u001b[0m \u001b[0mParameterGrid\u001b[0m\u001b[1;33m(\u001b[0m\u001b[0mself\u001b[0m\u001b[1;33m.\u001b[0m\u001b[0mparam_grid\u001b[0m\u001b[1;33m)\u001b[0m\u001b[1;33m)\u001b[0m\u001b[1;33m\u001b[0m\u001b[0m\n\u001b[0m\u001b[0;32m    805\u001b[0m \u001b[1;33m\u001b[0m\u001b[0m\n\u001b[0;32m    806\u001b[0m \u001b[1;33m\u001b[0m\u001b[0m\n",
      "\u001b[1;32mC:\\Anaconda3\\lib\\site-packages\\sklearn\\grid_search.py\u001b[0m in \u001b[0;36m_fit\u001b[1;34m(self, X, y, parameter_iterable)\u001b[0m\n\u001b[0;32m    551\u001b[0m                                     \u001b[0mself\u001b[0m\u001b[1;33m.\u001b[0m\u001b[0mfit_params\u001b[0m\u001b[1;33m,\u001b[0m \u001b[0mreturn_parameters\u001b[0m\u001b[1;33m=\u001b[0m\u001b[1;32mTrue\u001b[0m\u001b[1;33m,\u001b[0m\u001b[1;33m\u001b[0m\u001b[0m\n\u001b[0;32m    552\u001b[0m                                     error_score=self.error_score)\n\u001b[1;32m--> 553\u001b[1;33m                 \u001b[1;32mfor\u001b[0m \u001b[0mparameters\u001b[0m \u001b[1;32min\u001b[0m \u001b[0mparameter_iterable\u001b[0m\u001b[1;33m\u001b[0m\u001b[0m\n\u001b[0m\u001b[0;32m    554\u001b[0m                 for train, test in cv)\n\u001b[0;32m    555\u001b[0m \u001b[1;33m\u001b[0m\u001b[0m\n",
      "\u001b[1;32mC:\\Anaconda3\\lib\\site-packages\\sklearn\\externals\\joblib\\parallel.py\u001b[0m in \u001b[0;36m__call__\u001b[1;34m(self, iterable)\u001b[0m\n\u001b[0;32m    808\u001b[0m                 \u001b[1;31m# consumption.\u001b[0m\u001b[1;33m\u001b[0m\u001b[1;33m\u001b[0m\u001b[0m\n\u001b[0;32m    809\u001b[0m                 \u001b[0mself\u001b[0m\u001b[1;33m.\u001b[0m\u001b[0m_iterating\u001b[0m \u001b[1;33m=\u001b[0m \u001b[1;32mFalse\u001b[0m\u001b[1;33m\u001b[0m\u001b[0m\n\u001b[1;32m--> 810\u001b[1;33m             \u001b[0mself\u001b[0m\u001b[1;33m.\u001b[0m\u001b[0mretrieve\u001b[0m\u001b[1;33m(\u001b[0m\u001b[1;33m)\u001b[0m\u001b[1;33m\u001b[0m\u001b[0m\n\u001b[0m\u001b[0;32m    811\u001b[0m             \u001b[1;31m# Make sure that we get a last message telling us we are done\u001b[0m\u001b[1;33m\u001b[0m\u001b[1;33m\u001b[0m\u001b[0m\n\u001b[0;32m    812\u001b[0m             \u001b[0melapsed_time\u001b[0m \u001b[1;33m=\u001b[0m \u001b[0mtime\u001b[0m\u001b[1;33m.\u001b[0m\u001b[0mtime\u001b[0m\u001b[1;33m(\u001b[0m\u001b[1;33m)\u001b[0m \u001b[1;33m-\u001b[0m \u001b[0mself\u001b[0m\u001b[1;33m.\u001b[0m\u001b[0m_start_time\u001b[0m\u001b[1;33m\u001b[0m\u001b[0m\n",
      "\u001b[1;32mC:\\Anaconda3\\lib\\site-packages\\sklearn\\externals\\joblib\\parallel.py\u001b[0m in \u001b[0;36mretrieve\u001b[1;34m(self)\u001b[0m\n\u001b[0;32m    755\u001b[0m                     \u001b[1;31m# a working pool as they expect.\u001b[0m\u001b[1;33m\u001b[0m\u001b[1;33m\u001b[0m\u001b[0m\n\u001b[0;32m    756\u001b[0m                     \u001b[0mself\u001b[0m\u001b[1;33m.\u001b[0m\u001b[0m_initialize_pool\u001b[0m\u001b[1;33m(\u001b[0m\u001b[1;33m)\u001b[0m\u001b[1;33m\u001b[0m\u001b[0m\n\u001b[1;32m--> 757\u001b[1;33m                 \u001b[1;32mraise\u001b[0m \u001b[0mexception\u001b[0m\u001b[1;33m\u001b[0m\u001b[0m\n\u001b[0m\u001b[0;32m    758\u001b[0m \u001b[1;33m\u001b[0m\u001b[0m\n\u001b[0;32m    759\u001b[0m     \u001b[1;32mdef\u001b[0m \u001b[0m__call__\u001b[0m\u001b[1;33m(\u001b[0m\u001b[0mself\u001b[0m\u001b[1;33m,\u001b[0m \u001b[0miterable\u001b[0m\u001b[1;33m)\u001b[0m\u001b[1;33m:\u001b[0m\u001b[1;33m\u001b[0m\u001b[0m\n",
      "\u001b[1;32mC:\\Anaconda3\\lib\\site-packages\\sklearn\\externals\\joblib\\parallel.py\u001b[0m in \u001b[0;36mretrieve\u001b[1;34m(self)\u001b[0m\n\u001b[0;32m    725\u001b[0m                 \u001b[0mjob\u001b[0m \u001b[1;33m=\u001b[0m \u001b[0mself\u001b[0m\u001b[1;33m.\u001b[0m\u001b[0m_jobs\u001b[0m\u001b[1;33m.\u001b[0m\u001b[0mpop\u001b[0m\u001b[1;33m(\u001b[0m\u001b[1;36m0\u001b[0m\u001b[1;33m)\u001b[0m\u001b[1;33m\u001b[0m\u001b[0m\n\u001b[0;32m    726\u001b[0m             \u001b[1;32mtry\u001b[0m\u001b[1;33m:\u001b[0m\u001b[1;33m\u001b[0m\u001b[0m\n\u001b[1;32m--> 727\u001b[1;33m                 \u001b[0mself\u001b[0m\u001b[1;33m.\u001b[0m\u001b[0m_output\u001b[0m\u001b[1;33m.\u001b[0m\u001b[0mextend\u001b[0m\u001b[1;33m(\u001b[0m\u001b[0mjob\u001b[0m\u001b[1;33m.\u001b[0m\u001b[0mget\u001b[0m\u001b[1;33m(\u001b[0m\u001b[1;33m)\u001b[0m\u001b[1;33m)\u001b[0m\u001b[1;33m\u001b[0m\u001b[0m\n\u001b[0m\u001b[0;32m    728\u001b[0m             \u001b[1;32mexcept\u001b[0m \u001b[0mtuple\u001b[0m\u001b[1;33m(\u001b[0m\u001b[0mself\u001b[0m\u001b[1;33m.\u001b[0m\u001b[0mexceptions\u001b[0m\u001b[1;33m)\u001b[0m \u001b[1;32mas\u001b[0m \u001b[0mexception\u001b[0m\u001b[1;33m:\u001b[0m\u001b[1;33m\u001b[0m\u001b[0m\n\u001b[0;32m    729\u001b[0m                 \u001b[1;31m# Stop dispatching any new job in the async callback thread\u001b[0m\u001b[1;33m\u001b[0m\u001b[1;33m\u001b[0m\u001b[0m\n",
      "\u001b[1;32mC:\\Anaconda3\\lib\\multiprocessing\\pool.py\u001b[0m in \u001b[0;36mget\u001b[1;34m(self, timeout)\u001b[0m\n\u001b[0;32m    600\u001b[0m \u001b[1;33m\u001b[0m\u001b[0m\n\u001b[0;32m    601\u001b[0m     \u001b[1;32mdef\u001b[0m \u001b[0mget\u001b[0m\u001b[1;33m(\u001b[0m\u001b[0mself\u001b[0m\u001b[1;33m,\u001b[0m \u001b[0mtimeout\u001b[0m\u001b[1;33m=\u001b[0m\u001b[1;32mNone\u001b[0m\u001b[1;33m)\u001b[0m\u001b[1;33m:\u001b[0m\u001b[1;33m\u001b[0m\u001b[0m\n\u001b[1;32m--> 602\u001b[1;33m         \u001b[0mself\u001b[0m\u001b[1;33m.\u001b[0m\u001b[0mwait\u001b[0m\u001b[1;33m(\u001b[0m\u001b[0mtimeout\u001b[0m\u001b[1;33m)\u001b[0m\u001b[1;33m\u001b[0m\u001b[0m\n\u001b[0m\u001b[0;32m    603\u001b[0m         \u001b[1;32mif\u001b[0m \u001b[1;32mnot\u001b[0m \u001b[0mself\u001b[0m\u001b[1;33m.\u001b[0m\u001b[0mready\u001b[0m\u001b[1;33m(\u001b[0m\u001b[1;33m)\u001b[0m\u001b[1;33m:\u001b[0m\u001b[1;33m\u001b[0m\u001b[0m\n\u001b[0;32m    604\u001b[0m             \u001b[1;32mraise\u001b[0m \u001b[0mTimeoutError\u001b[0m\u001b[1;33m\u001b[0m\u001b[0m\n",
      "\u001b[1;32mC:\\Anaconda3\\lib\\multiprocessing\\pool.py\u001b[0m in \u001b[0;36mwait\u001b[1;34m(self, timeout)\u001b[0m\n\u001b[0;32m    597\u001b[0m \u001b[1;33m\u001b[0m\u001b[0m\n\u001b[0;32m    598\u001b[0m     \u001b[1;32mdef\u001b[0m \u001b[0mwait\u001b[0m\u001b[1;33m(\u001b[0m\u001b[0mself\u001b[0m\u001b[1;33m,\u001b[0m \u001b[0mtimeout\u001b[0m\u001b[1;33m=\u001b[0m\u001b[1;32mNone\u001b[0m\u001b[1;33m)\u001b[0m\u001b[1;33m:\u001b[0m\u001b[1;33m\u001b[0m\u001b[0m\n\u001b[1;32m--> 599\u001b[1;33m         \u001b[0mself\u001b[0m\u001b[1;33m.\u001b[0m\u001b[0m_event\u001b[0m\u001b[1;33m.\u001b[0m\u001b[0mwait\u001b[0m\u001b[1;33m(\u001b[0m\u001b[0mtimeout\u001b[0m\u001b[1;33m)\u001b[0m\u001b[1;33m\u001b[0m\u001b[0m\n\u001b[0m\u001b[0;32m    600\u001b[0m \u001b[1;33m\u001b[0m\u001b[0m\n\u001b[0;32m    601\u001b[0m     \u001b[1;32mdef\u001b[0m \u001b[0mget\u001b[0m\u001b[1;33m(\u001b[0m\u001b[0mself\u001b[0m\u001b[1;33m,\u001b[0m \u001b[0mtimeout\u001b[0m\u001b[1;33m=\u001b[0m\u001b[1;32mNone\u001b[0m\u001b[1;33m)\u001b[0m\u001b[1;33m:\u001b[0m\u001b[1;33m\u001b[0m\u001b[0m\n",
      "\u001b[1;32mC:\\Anaconda3\\lib\\threading.py\u001b[0m in \u001b[0;36mwait\u001b[1;34m(self, timeout)\u001b[0m\n\u001b[0;32m    547\u001b[0m             \u001b[0msignaled\u001b[0m \u001b[1;33m=\u001b[0m \u001b[0mself\u001b[0m\u001b[1;33m.\u001b[0m\u001b[0m_flag\u001b[0m\u001b[1;33m\u001b[0m\u001b[0m\n\u001b[0;32m    548\u001b[0m             \u001b[1;32mif\u001b[0m \u001b[1;32mnot\u001b[0m \u001b[0msignaled\u001b[0m\u001b[1;33m:\u001b[0m\u001b[1;33m\u001b[0m\u001b[0m\n\u001b[1;32m--> 549\u001b[1;33m                 \u001b[0msignaled\u001b[0m \u001b[1;33m=\u001b[0m \u001b[0mself\u001b[0m\u001b[1;33m.\u001b[0m\u001b[0m_cond\u001b[0m\u001b[1;33m.\u001b[0m\u001b[0mwait\u001b[0m\u001b[1;33m(\u001b[0m\u001b[0mtimeout\u001b[0m\u001b[1;33m)\u001b[0m\u001b[1;33m\u001b[0m\u001b[0m\n\u001b[0m\u001b[0;32m    550\u001b[0m             \u001b[1;32mreturn\u001b[0m \u001b[0msignaled\u001b[0m\u001b[1;33m\u001b[0m\u001b[0m\n\u001b[0;32m    551\u001b[0m \u001b[1;33m\u001b[0m\u001b[0m\n",
      "\u001b[1;32mC:\\Anaconda3\\lib\\threading.py\u001b[0m in \u001b[0;36mwait\u001b[1;34m(self, timeout)\u001b[0m\n\u001b[0;32m    291\u001b[0m         \u001b[1;32mtry\u001b[0m\u001b[1;33m:\u001b[0m    \u001b[1;31m# restore state no matter what (e.g., KeyboardInterrupt)\u001b[0m\u001b[1;33m\u001b[0m\u001b[0m\n\u001b[0;32m    292\u001b[0m             \u001b[1;32mif\u001b[0m \u001b[0mtimeout\u001b[0m \u001b[1;32mis\u001b[0m \u001b[1;32mNone\u001b[0m\u001b[1;33m:\u001b[0m\u001b[1;33m\u001b[0m\u001b[0m\n\u001b[1;32m--> 293\u001b[1;33m                 \u001b[0mwaiter\u001b[0m\u001b[1;33m.\u001b[0m\u001b[0macquire\u001b[0m\u001b[1;33m(\u001b[0m\u001b[1;33m)\u001b[0m\u001b[1;33m\u001b[0m\u001b[0m\n\u001b[0m\u001b[0;32m    294\u001b[0m                 \u001b[0mgotit\u001b[0m \u001b[1;33m=\u001b[0m \u001b[1;32mTrue\u001b[0m\u001b[1;33m\u001b[0m\u001b[0m\n\u001b[0;32m    295\u001b[0m             \u001b[1;32melse\u001b[0m\u001b[1;33m:\u001b[0m\u001b[1;33m\u001b[0m\u001b[0m\n",
      "\u001b[1;31mKeyboardInterrupt\u001b[0m: "
     ]
    }
   ],
   "source": [
    "#Test the array of features in each training\n",
    "if __name__ == '__main__':\n",
    "    \n",
    "    csv_file_features = [[0, 1, 2, 3, 4, 5, 6, 7, 8, 9, 10, 11, 12, 13], \n",
    "                         [1, 2, 3, 4, 5, 6, 7, 8, 9, 10, 12, 13]]\n",
    "    \n",
    "    estimators_array = []\n",
    "    \n",
    "    print('Order of results')\n",
    "    print('Training score, Test score, Time, Features, SVM parameters\\n')\n",
    "    \n",
    "    C_range = [0.01, 0.1, 1, 10, 100]\n",
    "    gamma_range = [0.01, 0.1, 1, 10, 100]\n",
    "\n",
    "    #Test for all the features sets\n",
    "    for i in csv_file_features:\n",
    "        stdsc = StandardScaler()\n",
    "        df = pd.read_csv(\"../../Dataset/Train/EEG_Train_Sorted.csv\")\n",
    "\n",
    "        #Separate Class labels anda data\n",
    "        X = df.ix[:, i]\n",
    "        y = df['Class']\n",
    "        \n",
    "        X_train, X_test, y_train, y_test = train_test_split(X, y, test_size=0.3, random_state=0)\n",
    "        \n",
    "        #Standarize data\n",
    "        X_train_std = stdsc.fit_transform(X_train)\n",
    "        X_test_std = stdsc.transform(X_test)\n",
    "        \n",
    "        \n",
    "        #Create SVM and define parameters\n",
    "        svm = SVC()\n",
    "        param_grid = [{'C': C_range, \n",
    "                        'gamma': gamma_range, \n",
    "                        'kernel': ['rbf'], \n",
    "                        'decision_function_shape': ['ovr'], \n",
    "                        'random_state': [0]}]\n",
    "            \n",
    "        #Set Grid Params\n",
    "        init = time()\n",
    "        gscv = grid_search.GridSearchCV(svm, \n",
    "                                       param_grid, \n",
    "                                       n_jobs=6, \n",
    "                                       cv=StratifiedShuffleSplit(y=y_train,  \n",
    "                                                                 n_iter=5, \n",
    "                                                                 test_size=0.4, \n",
    "                                                                 random_state=0))\n",
    "        #Test classifier\n",
    "        gscv.fit(X_train_std, y_train)\n",
    "        \n",
    "        #Save our estimator\n",
    "        estimators_array.append(gscv)\n",
    "        \n",
    "        #Report testing results\n",
    "        print('{:.5f}, {:.5f}, {:.5f}s, {}, {}'.format(gscv.best_score_, gscv.score(X_test_std, y_test), time() - init, i, gscv.best_params_))\n"
   ]
  },
  {
   "cell_type": "code",
   "execution_count": 3,
   "metadata": {
    "collapsed": false
   },
   "outputs": [
    {
     "data": {
      "text/plain": [
       "GridSearchCV(cv=StratifiedShuffleSplit(labels=[4 3 ..., 1 0], n_iter=5, test_size=0.4, random_state=0),\n",
       "       error_score='raise',\n",
       "       estimator=SVC(C=1.0, cache_size=200, class_weight=None, coef0=0.0,\n",
       "  decision_function_shape=None, degree=3, gamma='auto', kernel='rbf',\n",
       "  max_iter=-1, probability=False, random_state=None, shrinking=True,\n",
       "  tol=0.001, verbose=False),\n",
       "       fit_params={}, iid=True, n_jobs=6,\n",
       "       param_grid=[{'kernel': ['rbf'], 'C': [0.01, 0.1, 1, 10, 100], 'random_state': [0], 'decision_function_shape': ['ovr'], 'gamma': [0.01, 0.1, 1, 10, 100]}],\n",
       "       pre_dispatch='2*n_jobs', refit=True, scoring=None, verbose=0)"
      ]
     },
     "execution_count": 3,
     "metadata": {},
     "output_type": "execute_result"
    }
   ],
   "source": [
    "estimators_array[0]"
   ]
  },
  {
   "cell_type": "code",
   "execution_count": 11,
   "metadata": {
    "collapsed": false
   },
   "outputs": [
    {
     "ename": "SyntaxError",
     "evalue": "invalid syntax (<ipython-input-11-70c8c834012b>, line 1)",
     "output_type": "error",
     "traceback": [
      "\u001b[1;36m  File \u001b[1;32m\"<ipython-input-11-70c8c834012b>\"\u001b[1;36m, line \u001b[1;32m1\u001b[0m\n\u001b[1;33m    Order of results\u001b[0m\n\u001b[1;37m           ^\u001b[0m\n\u001b[1;31mSyntaxError\u001b[0m\u001b[1;31m:\u001b[0m invalid syntax\n"
     ]
    }
   ],
   "source": [
    "k = 5, r_state = 200991 c = [0.03125, 0.125, 0.5, 2, 8, 32], gamma = [0.03125, 0.125, 0.5, 2, 8, 32]\n",
    "Order of results\n",
    "Training score, Test score, Time, Features, SVM parameters\n",
    "\n",
    "0.99602, 1331.20500s, [0, 1, 2, 3, 4, 5, 6, 7, 8, 9, 10, 11, 12, 13], {'kernel': 'rbf', 'C': 8, 'random_state': 200991, 'decision_function_shape': 'ovr', 'gamma': 8}\n",
    "0.95958, 917.59700s, [0, 1, 2, 5, 8, 9, 12], {'kernel': 'rbf', 'C': 2, 'random_state': 200991, 'decision_function_shape': 'ovr', 'gamma': 32}\n",
    "0.98192, 961.00000s, [0, 2, 4, 5, 6, 7, 8, 11, 13], {'kernel': 'rbf', 'C': 32, 'random_state': 200991, 'decision_function_shape': 'ovr', 'gamma': 8}\n",
    "0.99495, 1112.42700s, [0, 1, 2, 4, 5, 6, 7, 8, 9, 11, 12, 13], {'kernel': 'rbf', 'C': 8, 'random_state': 200991, 'decision_function_shape': 'ovr', 'gamma': 8}"
   ]
  },
  {
   "cell_type": "code",
   "execution_count": null,
   "metadata": {
    "collapsed": true
   },
   "outputs": [],
   "source": [
    "k = 3, r_state = 200991 c = [0.03125, 0.125, 0.5, 2, 8, 32], gamma = [0.03125, 0.125, 0.5, 2, 8, 32]\n",
    "Order of results\n",
    "Training score, Test score, Time, Features, SVM parameters\n",
    "\n",
    "0.99611, 783.30900s, [0, 1, 2, 3, 4, 5, 6, 7, 8, 9, 10, 11, 12, 13], {'kernel': 'rbf', 'C': 8, 'random_state': 200991, 'decision_function_shape': 'ovr', 'gamma': 8}\n",
    "0.95867, 574.71500s, [0, 1, 2, 5, 8, 9, 12], {'kernel': 'rbf', 'C': 2, 'random_state': 200991, 'decision_function_shape': 'ovr', 'gamma': 32}\n",
    "0.98145, 575.46000s, [0, 2, 4, 5, 6, 7, 8, 11, 13], {'kernel': 'rbf', 'C': 32, 'random_state': 200991, 'decision_function_shape': 'ovr', 'gamma': 8}\n",
    "0.99529, 721.32900s, [0, 1, 2, 4, 5, 6, 7, 8, 9, 11, 12, 13], {'kernel': 'rbf', 'C': 8, 'random_state': 200991, 'decision_function_shape': 'ovr', 'gamma': 8}"
   ]
  },
  {
   "cell_type": "code",
   "execution_count": null,
   "metadata": {
    "collapsed": true
   },
   "outputs": [],
   "source": [
    "#Test the array of features in each training\n",
    "if __name__ == '__main__':\n",
    "    \n",
    "    csv_file_features = [[0, 1, 2, 3, 4, 5, 6, 7, 8, 9, 10, 11, 12, 13], \n",
    "                         [1, 2, 3, 4, 5, 6, 7, 8, 9, 10, 12, 13]]\n",
    "    \n",
    "    estimators_array = []\n",
    "    \n",
    "    print('Order of results')\n",
    "    print('Training score, Test score, Time, Features, SVM parameters\\n')\n",
    "    \n",
    "    C_range = [0.03125, 0.125, 0.5, 2, 8, 32]\n",
    "    gamma_range = [0.03125, 0.125, 0.5, 2, 8, 32]\n",
    "\n",
    "    #Test for all the features sets\n",
    "    for i in csv_file_features:\n",
    "        stdsc = StandardScaler()\n",
    "        df = pd.read_csv(\"../Data/Recordings.csv\")\n",
    "\n",
    "        #Separate Class labels anda data\n",
    "        y = df['Class']\n",
    "        X = df.ix[:, i]\n",
    "        \n",
    "        #Standarize data\n",
    "        X_std = stdsc.fit_transform(X)\n",
    "        \n",
    "        #Create SVM and define parameters\n",
    "        svm = SVC()\n",
    "        param_grid = [{'C': C_range, \n",
    "                        'gamma': gamma_range, \n",
    "                        'kernel': ['rbf'], \n",
    "                        'decision_function_shape': ['ovr'], \n",
    "                        'random_state': [0]}]\n",
    "            \n",
    "        #Set Grid Params\n",
    "        init = time()\n",
    "        gscv = grid_search.GridSearchCV(svm, \n",
    "                                       param_grid, \n",
    "                                       n_jobs=-1, \n",
    "                                       cv=StratifiedShuffleSplit(y=y,  \n",
    "                                                                 n_iter=5, \n",
    "                                                                 test_size=0.34, \n",
    "                                                                 random_state=0))\n",
    "        #Test classifier\n",
    "        gscv.fit(X_std, y)\n",
    "        \n",
    "        #Save our estimator\n",
    "        estimators_array.append(gscv)\n",
    "        \n",
    "        #Report testing results\n",
    "        print('{:.5f}, {:.5f}s, {}, {}'.format(gscv.best_score_, time() - init, i, gscv.best_params_))\n",
    "231, 218"
   ]
  },
  {
   "cell_type": "code",
   "execution_count": 83,
   "metadata": {
    "collapsed": false
   },
   "outputs": [
    {
     "name": "stdout",
     "output_type": "stream",
     "text": [
      "Order of results\n",
      "Training score, Test score, Time, Features, SVM parameters\n",
      "\n",
      "0.97312, 0.97568, 171.66500s, [1, 2, 4, 6, 7, 8, 9, 10, 11, 12, 13], {'kernel': 'rbf', 'C': 8, 'random_state': 0, 'decision_function_shape': 'ovr', 'gamma': 2}\n",
      "SVC(C=8, cache_size=200, class_weight=None, coef0=0.0,\n",
      "  decision_function_shape='ovr', degree=3, gamma=2, kernel='rbf',\n",
      "  max_iter=-1, probability=False, random_state=0, shrinking=True,\n",
      "  tol=0.001, verbose=False)\n"
     ]
    }
   ],
   "source": [
    "#Test the array of features in each training\n",
    "if __name__ == '__main__':\n",
    "    \n",
    "    #csv_file_features = [[0, 1, 2, 3, 4, 5, 6, 7, 8, 9, 10, 11, 12, 13], \n",
    "    #                     [0, 1, 2, 5, 8, 9, 12], \n",
    "    #                     [0, 2, 4, 5, 6, 7, 8, 11, 13], \n",
    "    #                     [0, 1, 2, 4, 5, 6, 7, 8, 9, 11, 12, 13], \n",
    "    #                     [0,1,2,4,5,7,8,10]]\n",
    "    \n",
    "    csv_file_features = [[1, 2, 4, 6, 7, 8, 9, 10, 11, 12, 13]]\n",
    "                         #[1, 2, 3, 4, 6, 7, 8, 9, 11, 12, 13]]\n",
    "    \n",
    "    estimators_array = []\n",
    "    \n",
    "    print('Order of results')\n",
    "    print('Training score, Test score, Time, Features, SVM parameters\\n')\n",
    "    \n",
    "    C_range = [0.125, 0.5, 2, 8, 32, 128]\n",
    "    gamma_range = [0.03125, 0.125, 0.5, 2, 8]\n",
    "    #C_range = [0.01, 0.1, 1, 10, 100]\n",
    "    #gamma_range = [0.01, 0.1, 1, 10, 100]\n",
    "    \n",
    "    #Test for all the features sets\n",
    "    for i in csv_file_features:\n",
    "        stdsc = StandardScaler()\n",
    "        df = pd.read_csv(\"../Data/The Tesis EEG/Train/EEG_Train_Sorted.csv\")\n",
    "\n",
    "        #Separate Class labels anda data\n",
    "        X = df.ix[:, i]\n",
    "        y = df['Class']\n",
    "        \n",
    "        X_train, X_test, y_train, y_test = train_test_split(X, y, test_size=0.25, random_state=0)\n",
    "        \n",
    "        #Standarize data\n",
    "        X_train_std = stdsc.fit_transform(X_train)\n",
    "        X_test_std = stdsc.transform(X_test)\n",
    "        \n",
    "        \n",
    "        #Create SVM and define parameters\n",
    "        svm = SVC()\n",
    "        param_grid = [{'C': C_range, \n",
    "                        'gamma': gamma_range, \n",
    "                        'kernel': ['rbf'], \n",
    "                        'decision_function_shape': ['ovr'], \n",
    "                        'random_state': [0]}]\n",
    "            \n",
    "        #Set Grid Params\n",
    "        init = time()\n",
    "        gscv = grid_search.GridSearchCV(svm, \n",
    "                                       param_grid, \n",
    "                                       n_jobs=7, \n",
    "                                       cv=StratifiedShuffleSplit(y=y_train,  \n",
    "                                                                 n_iter=3, \n",
    "                                                                 test_size=0.25, \n",
    "                                                                 random_state=0))\n",
    "        #Test classifier\n",
    "        gscv.fit(X_train_std, y_train)\n",
    "        \n",
    "        #Save our estimator\n",
    "        estimators_array.append(gscv)\n",
    "        \n",
    "        #Report testing results\n",
    "        print('{:.5f}, {:.5f}, {:.5f}s, {}, {}'.format(gscv.best_score_, gscv.score(X_test_std, y_test), time() - init, i, gscv.best_params_))\n",
    "        print(gscv.best_estimator_)"
   ]
  },
  {
   "cell_type": "code",
   "execution_count": 74,
   "metadata": {
    "collapsed": false
   },
   "outputs": [
    {
     "data": {
      "text/plain": [
       "SVC(C=8, cache_size=200, class_weight=None, coef0=0.0,\n",
       "  decision_function_shape='ovr', degree=3, gamma=2, kernel='rbf',\n",
       "  max_iter=-1, probability=False, random_state=0, shrinking=True,\n",
       "  tol=0.001, verbose=False)"
      ]
     },
     "execution_count": 74,
     "metadata": {},
     "output_type": "execute_result"
    }
   ],
   "source": [
    "gscv.best_estimator_"
   ]
  },
  {
   "cell_type": "code",
   "execution_count": null,
   "metadata": {
    "collapsed": true
   },
   "outputs": [],
   "source": [
    "Order of results\n",
    "Training score, Test score, Time, Features, SVM parameters\n",
    "\n",
    "0.62833, 0.71910, 170.60600s, [0, 1, 2, 3, 4, 5, 6, 7, 8, 9, 10, 11, 12, 13], {'kernel': 'rbf', 'C': 10, 'random_state': 0, 'decision_function_shape': 'ovr', 'gamma': 1}\n",
    "0.57064, 0.63450, 158.07400s, [1, 2, 3, 4, 6, 7, 8, 9, 10, 11, 12, 13], {'kernel': 'rbf', 'C': 1, 'random_state': 0, 'decision_function_shape': 'ovr', 'gamma': 1}"
   ]
  },
  {
   "cell_type": "code",
   "execution_count": 86,
   "metadata": {
    "collapsed": false
   },
   "outputs": [],
   "source": [
    "#kp = pd.read_csv(\"../Data/The Tesis EEG/Test/EEG_Train_Filtered_0.5_30Hz_l4.csv\")\n",
    "kp = pd.read_csv(\"../Data/The Tesis EEG/Test/EEG_Test_Sorted.csv\")\n",
    "\n",
    "#df_p = pd.read_csv(\"../Data/EEG_00_Sorted.csv\")\n",
    "#X_11 = df_p.ix[:,[0, 1, 2, 3, 4, 5, 6, 7, 8, 9, 10, 11, 12, 13]]\n",
    "X = kp.ix[:,[1, 2, 4, 6, 7, 8, 9, 10, 11, 12, 13]]\n",
    "#X_22 = df_p.ix[:, [1, 2, 4, 6, 7, 8, 9, 10, 11, 12, 13]] \n",
    "#X_2 = kp.ix[:, [1, 2, 3, 4, 6, 7, 8, 9, 11, 12, 13]]\n",
    "y = kp['Class']\n",
    "X_train, X_test, y_train, y_test = train_test_split(X, y, test_size=0.25, random_state=0)\n",
    "#X2_train, X2_test, y2_train, y2_test = train_test_split(X_2, y, test_size=0.25, random_state=0)\n",
    "stdsc = StandardScaler()\n",
    "#stdsc_2 = StandardScaler()\n",
    "\n",
    "X_train_std = stdsc.fit_transform(X_train)\n",
    "X_test_std = stdsc.transform(X_test)\n",
    "#X2_train_std = stdsc_2.fit_transform(X2_train)\n",
    "#X2_test_std = stdsc_2.transform(X2_test)"
   ]
  },
  {
   "cell_type": "code",
   "execution_count": 65,
   "metadata": {
    "collapsed": false
   },
   "outputs": [
    {
     "data": {
      "text/plain": [
       "18750"
      ]
     },
     "execution_count": 65,
     "metadata": {},
     "output_type": "execute_result"
    }
   ],
   "source": [
    "len(X2_train_std)"
   ]
  },
  {
   "cell_type": "code",
   "execution_count": 1,
   "metadata": {
    "collapsed": false
   },
   "outputs": [
    {
     "ename": "NameError",
     "evalue": "name 'estimators_array' is not defined",
     "output_type": "error",
     "traceback": [
      "\u001b[1;31m---------------------------------------------------------------------------\u001b[0m",
      "\u001b[1;31mNameError\u001b[0m                                 Traceback (most recent call last)",
      "\u001b[1;32m<ipython-input-1-973a84ad576c>\u001b[0m in \u001b[0;36m<module>\u001b[1;34m()\u001b[0m\n\u001b[1;32m----> 1\u001b[1;33m \u001b[1;32mprint\u001b[0m\u001b[1;33m(\u001b[0m\u001b[0mestimators_array\u001b[0m\u001b[1;33m[\u001b[0m\u001b[1;36m0\u001b[0m\u001b[1;33m]\u001b[0m\u001b[1;33m.\u001b[0m\u001b[0mscore\u001b[0m\u001b[1;33m(\u001b[0m\u001b[0mX_test_std\u001b[0m\u001b[1;33m,\u001b[0m \u001b[0my_test\u001b[0m\u001b[1;33m)\u001b[0m\u001b[1;33m)\u001b[0m\u001b[1;33m\u001b[0m\u001b[0m\n\u001b[0m\u001b[0;32m      2\u001b[0m \u001b[1;31m#print(estimators_array[1].score(X2_test_std, y2_test))\u001b[0m\u001b[1;33m\u001b[0m\u001b[1;33m\u001b[0m\u001b[0m\n",
      "\u001b[1;31mNameError\u001b[0m: name 'estimators_array' is not defined"
     ]
    }
   ],
   "source": [
    "print(estimators_array[0].score(X_test_std, y_test))\n",
    "#print(estimators_array[1].score(X2_test_std, y2_test))"
   ]
  },
  {
   "cell_type": "code",
   "execution_count": 16,
   "metadata": {
    "collapsed": true
   },
   "outputs": [],
   "source": [
    "from sklearn import grid_search\n",
    "from sklearn.cross_validation import StratifiedShuffleSplit\n",
    "from sklearn.cross_validation import train_test_split\n",
    "from sklearn.preprocessing import StandardScaler\n",
    "from sklearn.svm import SVC\n",
    "from time import time\n",
    "\n",
    "import numpy as np\n",
    "import pandas as pd\n",
    "\n",
    "import matplotlib.pyplot as plt\n",
    "\n",
    "from collections import Counter\n",
    "from sklearn import svm, datasets\n",
    "from sklearn.cross_validation import train_test_split\n",
    "from sklearn.metrics import confusion_matrix"
   ]
  },
  {
   "cell_type": "code",
   "execution_count": 62,
   "metadata": {
    "collapsed": false
   },
   "outputs": [],
   "source": [
    "stdsc = StandardScaler()\n",
    "df = pd.read_csv(\"../Data/The Tesis EEG/Train/EEG_Train_Filtered_0.5_30Hz_l4.csv\")\n",
    "\n",
    "        #Separate Class labels anda data\n",
    "X = df.ix[:, [1, 2, 3, 4, 6, 7, 8, 9, 11, 12, 13]]\n",
    "y = df['Class']\n",
    "        \n",
    "X_train, X_test, y_train, y_test = train_test_split(X, y, test_size=0.25, random_state=0)\n",
    "        \n",
    "#Standarize data\n",
    "X_train_std = stdsc.fit_transform(X_train)\n",
    "X_test_std = stdsc.transform(X_test)\n",
    "        \n",
    "        \n",
    "#Create SVM and define parameters\n",
    "svm = SVC(C=2, cache_size=200, class_weight=None, coef0=0.0,\n",
    "  decision_function_shape='ovr', degree=3, gamma=2, kernel='rbf',\n",
    "  max_iter=-1, probability=False, random_state=0, shrinking=True,\n",
    "  tol=0.001, verbose=False)\n",
    "        #Test classifier\n",
    "svm.fit(X_train_std, y_train)\n",
    "svm.score(X_test_std, y_test)\n",
    "y_pred = svm.predict(X_test_std)"
   ]
  },
  {
   "cell_type": "code",
   "execution_count": 63,
   "metadata": {
    "collapsed": false
   },
   "outputs": [
    {
     "data": {
      "image/png": "[encoded data removed]",
      "text/plain": [
       "<matplotlib.figure.Figure at 0xdc4f1d0>"
      ]
     },
     "metadata": {},
     "output_type": "display_data"
    }
   ],
   "source": [
    "%matplotlib inline\n",
    "\n",
    "\n",
    "\n",
    "def plot_confusion_matrix(cm, res, names, title, cmap=plt.cm.Blues):\n",
    "    results = Counter(y_test)\n",
    "    no_values = []\n",
    "    for _, value in results.iteritems():\n",
    "        no_values.append(value)\n",
    "    no_values = np.array(no_values)\n",
    "    conf_mat = np.zeros((len(no_values),len(no_values)))\n",
    "    conf_mat = conf_mat + cm\n",
    "    conf_mat = conf_mat.T\n",
    "    avg_acc = np.trace(conf_mat)/np.sum(no_values)\n",
    "    conf_mat_norm = conf_mat/no_values # Normalizing the confusion matrix\n",
    "    conf_mat2 = np.around(conf_mat_norm,decimals=2) # rounding to display in figure\n",
    "    conf_mat2 = conf_mat2.T\n",
    "    plt.imshow(conf_mat2, interpolation='nearest', vmax=1.0, cmap=plt.get_cmap('Blues'))\n",
    "    plt.title(title + '\\nPromedio de la precision: {}'.format(avg_acc))\n",
    "    plt.colorbar()\n",
    "    for x in xrange(len(names)):\n",
    "        for y in xrange(len(names)):\n",
    "            plt.annotate(str(conf_mat2[x][y]),xy=(y,x),ha='center',va='center')\n",
    "    tick_marks = np.arange(len(names))\n",
    "    plt.xticks(tick_marks, names, rotation=45)\n",
    "    plt.yticks(tick_marks, names)\n",
    "    plt.tight_layout()\n",
    "    plt.ylabel('Clasificacion correcta')\n",
    "    plt.xlabel('Clasificacion estimada')\n",
    "    #plt.show()\n",
    "    \n",
    "    \n",
    "names = ['Fijo', 'Avanzar', 'Retroceder', 'Izquierda', 'Derecha']\n",
    "#y_pred = svm.predict(X_test_std)    \n",
    "#y_2_pred = estimators_array[1].predict(X2_test_std)    \n",
    "cm = confusion_matrix(y_test, y_pred)\n",
    "#cm2 = confusion_matrix(y2_test, y_2_pred)\n",
    "plt.figure(figsize=(12,5))\n",
    "#plt.subplot(121)\n",
    "plot_confusion_matrix(cm, y_test, names, title='Matriz de confusion\\nFiltrado [Si], Seleccion de caracteristicas [Si]')\n",
    "#plt.show()\n",
    "#plt.subplot(122)\n",
    "#plt.figure()\n",
    "#plot_confusion_matrix(cm2, names, title='Matriz de confusion (Filtrado, con seleccion de caracteristicas)')\n",
    "plt.show()"
   ]
  },
  {
   "cell_type": "code",
   "execution_count": null,
   "metadata": {
    "collapsed": true
   },
   "outputs": [],
   "source": [
    "Order of results\n",
    "Training score, Test score, Time, Features, SVM parameters\n",
    "\n",
    "0.97875, 0.98890, 454.49500s, [0, 1, 2, 3, 4, 5, 6, 7, 8, 9, 10, 11, 12, 13], {'kernel': 'rbf', 'C': 32, 'random_state': 0, 'decision_function_shape': 'ovr', 'gamma': 0.5}\n",
    "0.95201, 0.97300, 462.31800s, [1, 2, 4, 6, 7, 8, 9, 10, 11, 12, 13], {'kernel': 'rbf', 'C': 8, 'random_state': 0, 'decision_function_shape': 'ovr', 'gamma': 2}"
   ]
  },
  {
   "cell_type": "code",
   "execution_count": 55,
   "metadata": {
    "collapsed": false
   },
   "outputs": [
    {
     "data": {
      "image/png": "[encoded data removed]",
      "text/plain": [
       "<matplotlib.figure.Figure at 0x18f534e0>"
      ]
     },
     "metadata": {},
     "output_type": "display_data"
    }
   ],
   "source": [
    "%matplotlib inline\n",
    "import numpy as np\n",
    "import matplotlib.pyplot as plt\n",
    "\n",
    "from sklearn import svm, datasets\n",
    "from sklearn.cross_validation import train_test_split\n",
    "from sklearn.metrics import confusion_matrix\n",
    "\n",
    "\"\"\"\n",
    "def plot_confusion_matrix(cm, names, title, cmap=plt.cm.Blues):\n",
    "    #plt.imshow(cm, interpolation='nearest', cmap=cmap)\n",
    "    plt.imshow(cm, interpolation='nearest')\n",
    "    plt.title(title)\n",
    "    plt.colorbar()\n",
    "    tick_marks = np.arange(len(names))\n",
    "    plt.xticks(tick_marks, names, rotation=45)\n",
    "    plt.yticks(tick_marks, names)\n",
    "    plt.tight_layout()\n",
    "    plt.ylabel('Clasificacion correcta')\n",
    "    plt.xlabel('Clasificacion estimada')\n",
    "    #plt.show()\n",
    "\"\"\"\n",
    "def plot_confusion_matrix(cm, res, names, title, cmap=plt.cm.Blues):\n",
    "    results = Counter(y_test)\n",
    "    no_values = []\n",
    "    for _, value in results.iteritems():\n",
    "        no_values.append(value)\n",
    "    no_values = np.array(no_values)\n",
    "    conf_mat = np.zeros((len(no_values),len(no_values)))\n",
    "    conf_mat = conf_mat + cm\n",
    "    conf_mat = conf_mat.T\n",
    "    avg_acc = np.trace(conf_mat)/np.sum(no_values)\n",
    "    conf_mat_norm = conf_mat/no_values # Normalizing the confusion matrix\n",
    "    conf_mat2 = np.around(conf_mat_norm,decimals=2) # rounding to display in figure\n",
    "    conf_mat2 = conf_mat2.T\n",
    "    plt.imshow(conf_mat2, interpolation='nearest', vmax=1.0, cmap=plt.get_cmap('Blues'))\n",
    "    plt.title(title)\n",
    "    plt.colorbar()\n",
    "    for x in xrange(len(names)):\n",
    "        for y in xrange(len(names)):\n",
    "            plt.annotate(str(conf_mat2[x][y]),xy=(y,x),ha='center',va='center')\n",
    "    tick_marks = np.arange(len(names))\n",
    "    plt.xticks(tick_marks, names, rotation=45)\n",
    "    plt.yticks(tick_marks, names)\n",
    "    plt.tight_layout()\n",
    "    plt.ylabel('Clasificacion correcta')\n",
    "    plt.xlabel('Clasificacion estimada')\n",
    "\n",
    "names = ['Fijo', 'Avanzar', 'Retroceder', 'Izquierda', 'Derecha']\n",
    "y_test = [0, 2, 2, 2, 0, 1, 4, 4, 0, 3, 4, 2, 3, 4, 2, 0, 1, 4, 0, 1, 1, 3, 4, 2, 3, 0, 4, 4, 3, 1, 0, 3, 4, 4, 0, 2, 1, 1, 1, 1, 4, 2, 2, 3, 2, 2, 0, 1, 2, 0, 0, 4, 4, 3, 1, 0, 3, 4, 4, 0, 2, 1, 1, 1, 1, 4, 2, 2, 3, 2, 2, 0, 1, 2, 0]\n",
    "y_pred = [0, 4, 4, 4, 4, 4, 4, 4, 4, 4, 4, 4, 4, 4, 4, 4, 4, 4, 4, 4, 4, 4, 4, 4, 4, 2, 2, 4, 4, 2, 4, 4, 0, 4, 4, 4, 4, 4, 4, 4, 1, 4, 2, 2, 4, 1, 3, 4, 4, 2, 4, 4, 4, 3, 4, 4, 4, 4, 4, 4, 1, 2, 4, 3, 2, 2, 4, 4, 2, 4, 4, 1, 2, 4, 4]\n",
    "tot = 0\n",
    "for i in zip(y_test, y_pred):\n",
    "    if(i[0] == i[1]):\n",
    "        tot += 1\n",
    "tot = tot / 75.0\n",
    "cm = confusion_matrix(y_test, y_pred)\n",
    "\n",
    "plt.figure(figsize=(12,5))\n",
    "\n",
    "plot_confusion_matrix(cm, y_test, names, title='Matriz de confusion\\nFiltrado [No], Seleccion de caracteristicas [No]\\nPrecision: {}'.format(tot))\n",
    "\n",
    "plt.show()"
   ]
  },
  {
   "cell_type": "code",
   "execution_count": null,
   "metadata": {
    "collapsed": true
   },
   "outputs": [],
   "source": []
  }
 ],
 "metadata": {
  "kernelspec": {
   "display_name": "Python 3",
   "language": "python",
   "name": "python3"
  },
  "language_info": {
   "codemirror_mode": {
    "name": "ipython",
    "version": 3
   },
   "file_extension": ".py",
   "mimetype": "text/x-python",
   "name": "python",
   "nbconvert_exporter": "python",
   "pygments_lexer": "ipython3",
   "version": "3.5.1"
  }
 },
 "nbformat": 4,
 "nbformat_minor": 0
}
