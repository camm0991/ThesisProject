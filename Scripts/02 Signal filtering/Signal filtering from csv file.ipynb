{
 "cells": [
  {
   "cell_type": "markdown",
   "metadata": {},
   "source": [
    "# Signal filtering"
   ]
  },
  {
   "cell_type": "code",
   "execution_count": 13,
   "metadata": {
    "collapsed": true
   },
   "outputs": [],
   "source": [
    "from scipy.signal import butter\n",
    "from scipy.signal import lfilter\n",
    "from sklearn.preprocessing import StandardScaler\n",
    "\n",
    "import random\n",
    "import matplotlib.pyplot as plt\n",
    "import numpy as np\n",
    "import pandas as pd"
   ]
  },
  {
   "cell_type": "markdown",
   "metadata": {},
   "source": [
    "### Filter definition\n",
    "We define our filter here in which we specify the low cut (0.5Hz), the high cut (30Hz), the frecuency (128Hz) and the order of the filter.\n",
    "\n",
    "based on: http://scipy-cookbook.readthedocs.io/items/ButterworthBandpass.html"
   ]
  },
  {
   "cell_type": "code",
   "execution_count": 15,
   "metadata": {
    "collapsed": true
   },
   "outputs": [],
   "source": [
    "def butter_bandpass(lowcut, highcut, fs, order=4):\n",
    "    nyq = 0.5 * fs\n",
    "    low = lowcut / nyq\n",
    "    high = highcut / nyq\n",
    "    b, a = butter(order, [low, high], btype='band')\n",
    "    return b, a\n",
    "b, a = butter_bandpass(0.5, 30.0, 128.0)"
   ]
  },
  {
   "cell_type": "markdown",
   "metadata": {},
   "source": [
    "### Filter application\n",
    "Here we filter each one of the signal channels and add it to a new dataframe that will be written into a csv file."
   ]
  },
  {
   "cell_type": "code",
   "execution_count": 16,
   "metadata": {
    "collapsed": false
   },
   "outputs": [],
   "source": [
    "path = \"../../Dataset/Test/EEG_Test_Sorted.csv\"\n",
    "file_name = \"Filtered_file.csv\"\n",
    "df = pd.read_csv(path)\n",
    "\n",
    "labels = ['AF3','F7','F3','FC5','T7','P7','O1','O2','P8','T8','FC6','F4','F8','AF4']\n",
    "filtered_dataset = pd.DataFrame(columns=['AF3','F7','F3','FC5','T7','P7','O1','O2','P8','T8','FC6','F4','F8','AF4','Class'])\n",
    "\n",
    "for i in labels:\n",
    "    temp = lfilter(b, a, df[i])\n",
    "    filtered_dataset[i] = temp\n",
    "filtered_dataset['Class'] = df['Class']\n",
    "filtered_dataset.to_csv(file_name, index=False)"
   ]
  }
 ],
 "metadata": {
  "kernelspec": {
   "display_name": "Python 3",
   "language": "python",
   "name": "python3"
  },
  "language_info": {
   "codemirror_mode": {
    "name": "ipython",
    "version": 3
   },
   "file_extension": ".py",
   "mimetype": "text/x-python",
   "name": "python",
   "nbconvert_exporter": "python",
   "pygments_lexer": "ipython3",
   "version": "3.5.1"
  }
 },
 "nbformat": 4,
 "nbformat_minor": 0
}
